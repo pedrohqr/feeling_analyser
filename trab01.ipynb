{
  "nbformat": 4,
  "nbformat_minor": 0,
  "metadata": {
    "colab": {
      "provenance": [],
      "mount_file_id": "1zB8YH_SjAA_aKwsuBPYCXzYYxXQ9uxT3",
      "authorship_tag": "ABX9TyPs0ggbKCVRJByhiNNu42th",
      "include_colab_link": true
    },
    "kernelspec": {
      "name": "python3",
      "display_name": "Python 3"
    },
    "language_info": {
      "name": "python"
    }
  },
  "cells": [
    {
      "cell_type": "markdown",
      "metadata": {
        "id": "view-in-github",
        "colab_type": "text"
      },
      "source": [
        "<a href=\"https://colab.research.google.com/github/pedrohqr/feeling_analyser/blob/main/trab01.ipynb\" target=\"_parent\"><img src=\"https://colab.research.google.com/assets/colab-badge.svg\" alt=\"Open In Colab\"/></a>"
      ]
    },
    {
      "cell_type": "markdown",
      "source": [
        "#Installing packages"
      ],
      "metadata": {
        "id": "mCEbRwSyirXD"
      }
    },
    {
      "cell_type": "code",
      "source": [
        "!pip install -U sentence-transformers\n",
        "!pip install --upgrade gspread\n",
        "!pip install -U scikit-learn\n",
        "!pip install snscrape"
      ],
      "metadata": {
        "id": "cTvDt8LfRZLB",
        "colab": {
          "base_uri": "https://localhost:8080/"
        },
        "outputId": "559e7e18-4229-4aac-abd8-7617e771e8e3"
      },
      "execution_count": null,
      "outputs": [
        {
          "output_type": "stream",
          "name": "stdout",
          "text": [
            "Looking in indexes: https://pypi.org/simple, https://us-python.pkg.dev/colab-wheels/public/simple/\n",
            "Collecting sentence-transformers\n",
            "  Downloading sentence-transformers-2.2.2.tar.gz (85 kB)\n",
            "\u001b[K     |████████████████████████████████| 85 kB 2.9 MB/s \n",
            "\u001b[?25hCollecting transformers<5.0.0,>=4.6.0\n",
            "  Downloading transformers-4.22.2-py3-none-any.whl (4.9 MB)\n",
            "\u001b[K     |████████████████████████████████| 4.9 MB 34.9 MB/s \n",
            "\u001b[?25hRequirement already satisfied: tqdm in /usr/local/lib/python3.7/dist-packages (from sentence-transformers) (4.64.1)\n",
            "Requirement already satisfied: torch>=1.6.0 in /usr/local/lib/python3.7/dist-packages (from sentence-transformers) (1.12.1+cu113)\n",
            "Requirement already satisfied: torchvision in /usr/local/lib/python3.7/dist-packages (from sentence-transformers) (0.13.1+cu113)\n",
            "Requirement already satisfied: numpy in /usr/local/lib/python3.7/dist-packages (from sentence-transformers) (1.21.6)\n",
            "Requirement already satisfied: scikit-learn in /usr/local/lib/python3.7/dist-packages (from sentence-transformers) (1.0.2)\n",
            "Requirement already satisfied: scipy in /usr/local/lib/python3.7/dist-packages (from sentence-transformers) (1.7.3)\n",
            "Requirement already satisfied: nltk in /usr/local/lib/python3.7/dist-packages (from sentence-transformers) (3.7)\n",
            "Collecting sentencepiece\n",
            "  Downloading sentencepiece-0.1.97-cp37-cp37m-manylinux_2_17_x86_64.manylinux2014_x86_64.whl (1.3 MB)\n",
            "\u001b[K     |████████████████████████████████| 1.3 MB 48.9 MB/s \n",
            "\u001b[?25hCollecting huggingface-hub>=0.4.0\n",
            "  Downloading huggingface_hub-0.10.0-py3-none-any.whl (163 kB)\n",
            "\u001b[K     |████████████████████████████████| 163 kB 58.4 MB/s \n",
            "\u001b[?25hRequirement already satisfied: packaging>=20.9 in /usr/local/lib/python3.7/dist-packages (from huggingface-hub>=0.4.0->sentence-transformers) (21.3)\n",
            "Requirement already satisfied: pyyaml>=5.1 in /usr/local/lib/python3.7/dist-packages (from huggingface-hub>=0.4.0->sentence-transformers) (6.0)\n",
            "Requirement already satisfied: typing-extensions>=3.7.4.3 in /usr/local/lib/python3.7/dist-packages (from huggingface-hub>=0.4.0->sentence-transformers) (4.1.1)\n",
            "Requirement already satisfied: importlib-metadata in /usr/local/lib/python3.7/dist-packages (from huggingface-hub>=0.4.0->sentence-transformers) (4.12.0)\n",
            "Requirement already satisfied: filelock in /usr/local/lib/python3.7/dist-packages (from huggingface-hub>=0.4.0->sentence-transformers) (3.8.0)\n",
            "Requirement already satisfied: requests in /usr/local/lib/python3.7/dist-packages (from huggingface-hub>=0.4.0->sentence-transformers) (2.23.0)\n",
            "Requirement already satisfied: pyparsing!=3.0.5,>=2.0.2 in /usr/local/lib/python3.7/dist-packages (from packaging>=20.9->huggingface-hub>=0.4.0->sentence-transformers) (3.0.9)\n",
            "Requirement already satisfied: regex!=2019.12.17 in /usr/local/lib/python3.7/dist-packages (from transformers<5.0.0,>=4.6.0->sentence-transformers) (2022.6.2)\n",
            "Collecting tokenizers!=0.11.3,<0.13,>=0.11.1\n",
            "  Downloading tokenizers-0.12.1-cp37-cp37m-manylinux_2_12_x86_64.manylinux2010_x86_64.whl (6.6 MB)\n",
            "\u001b[K     |████████████████████████████████| 6.6 MB 42.7 MB/s \n",
            "\u001b[?25hRequirement already satisfied: zipp>=0.5 in /usr/local/lib/python3.7/dist-packages (from importlib-metadata->huggingface-hub>=0.4.0->sentence-transformers) (3.8.1)\n",
            "Requirement already satisfied: joblib in /usr/local/lib/python3.7/dist-packages (from nltk->sentence-transformers) (1.1.0)\n",
            "Requirement already satisfied: click in /usr/local/lib/python3.7/dist-packages (from nltk->sentence-transformers) (7.1.2)\n",
            "Requirement already satisfied: certifi>=2017.4.17 in /usr/local/lib/python3.7/dist-packages (from requests->huggingface-hub>=0.4.0->sentence-transformers) (2022.6.15)\n",
            "Requirement already satisfied: urllib3!=1.25.0,!=1.25.1,<1.26,>=1.21.1 in /usr/local/lib/python3.7/dist-packages (from requests->huggingface-hub>=0.4.0->sentence-transformers) (1.24.3)\n",
            "Requirement already satisfied: idna<3,>=2.5 in /usr/local/lib/python3.7/dist-packages (from requests->huggingface-hub>=0.4.0->sentence-transformers) (2.10)\n",
            "Requirement already satisfied: chardet<4,>=3.0.2 in /usr/local/lib/python3.7/dist-packages (from requests->huggingface-hub>=0.4.0->sentence-transformers) (3.0.4)\n",
            "Requirement already satisfied: threadpoolctl>=2.0.0 in /usr/local/lib/python3.7/dist-packages (from scikit-learn->sentence-transformers) (3.1.0)\n",
            "Requirement already satisfied: pillow!=8.3.*,>=5.3.0 in /usr/local/lib/python3.7/dist-packages (from torchvision->sentence-transformers) (7.1.2)\n",
            "Building wheels for collected packages: sentence-transformers\n",
            "  Building wheel for sentence-transformers (setup.py) ... \u001b[?25l\u001b[?25hdone\n",
            "  Created wheel for sentence-transformers: filename=sentence_transformers-2.2.2-py3-none-any.whl size=125938 sha256=6c72392bc2295a3fe4fee22adbe3d09003d393afdc268681355a884ceee97733\n",
            "  Stored in directory: /root/.cache/pip/wheels/bf/06/fb/d59c1e5bd1dac7f6cf61ec0036cc3a10ab8fecaa6b2c3d3ee9\n",
            "Successfully built sentence-transformers\n",
            "Installing collected packages: tokenizers, huggingface-hub, transformers, sentencepiece, sentence-transformers\n",
            "Successfully installed huggingface-hub-0.10.0 sentence-transformers-2.2.2 sentencepiece-0.1.97 tokenizers-0.12.1 transformers-4.22.2\n",
            "Looking in indexes: https://pypi.org/simple, https://us-python.pkg.dev/colab-wheels/public/simple/\n",
            "Requirement already satisfied: gspread in /usr/local/lib/python3.7/dist-packages (3.4.2)\n",
            "Collecting gspread\n",
            "  Downloading gspread-5.5.0-py3-none-any.whl (38 kB)\n",
            "Requirement already satisfied: google-auth>=1.12.0 in /usr/local/lib/python3.7/dist-packages (from gspread) (1.35.0)\n",
            "Requirement already satisfied: google-auth-oauthlib>=0.4.1 in /usr/local/lib/python3.7/dist-packages (from gspread) (0.4.6)\n",
            "Requirement already satisfied: rsa<5,>=3.1.4 in /usr/local/lib/python3.7/dist-packages (from google-auth>=1.12.0->gspread) (4.9)\n",
            "Requirement already satisfied: setuptools>=40.3.0 in /usr/local/lib/python3.7/dist-packages (from google-auth>=1.12.0->gspread) (57.4.0)\n",
            "Requirement already satisfied: six>=1.9.0 in /usr/local/lib/python3.7/dist-packages (from google-auth>=1.12.0->gspread) (1.15.0)\n",
            "Requirement already satisfied: cachetools<5.0,>=2.0.0 in /usr/local/lib/python3.7/dist-packages (from google-auth>=1.12.0->gspread) (4.2.4)\n",
            "Requirement already satisfied: pyasn1-modules>=0.2.1 in /usr/local/lib/python3.7/dist-packages (from google-auth>=1.12.0->gspread) (0.2.8)\n",
            "Requirement already satisfied: requests-oauthlib>=0.7.0 in /usr/local/lib/python3.7/dist-packages (from google-auth-oauthlib>=0.4.1->gspread) (1.3.1)\n",
            "Requirement already satisfied: pyasn1<0.5.0,>=0.4.6 in /usr/local/lib/python3.7/dist-packages (from pyasn1-modules>=0.2.1->google-auth>=1.12.0->gspread) (0.4.8)\n",
            "Requirement already satisfied: oauthlib>=3.0.0 in /usr/local/lib/python3.7/dist-packages (from requests-oauthlib>=0.7.0->google-auth-oauthlib>=0.4.1->gspread) (3.2.0)\n",
            "Requirement already satisfied: requests>=2.0.0 in /usr/local/lib/python3.7/dist-packages (from requests-oauthlib>=0.7.0->google-auth-oauthlib>=0.4.1->gspread) (2.23.0)\n",
            "Requirement already satisfied: idna<3,>=2.5 in /usr/local/lib/python3.7/dist-packages (from requests>=2.0.0->requests-oauthlib>=0.7.0->google-auth-oauthlib>=0.4.1->gspread) (2.10)\n",
            "Requirement already satisfied: urllib3!=1.25.0,!=1.25.1,<1.26,>=1.21.1 in /usr/local/lib/python3.7/dist-packages (from requests>=2.0.0->requests-oauthlib>=0.7.0->google-auth-oauthlib>=0.4.1->gspread) (1.24.3)\n",
            "Requirement already satisfied: certifi>=2017.4.17 in /usr/local/lib/python3.7/dist-packages (from requests>=2.0.0->requests-oauthlib>=0.7.0->google-auth-oauthlib>=0.4.1->gspread) (2022.6.15)\n",
            "Requirement already satisfied: chardet<4,>=3.0.2 in /usr/local/lib/python3.7/dist-packages (from requests>=2.0.0->requests-oauthlib>=0.7.0->google-auth-oauthlib>=0.4.1->gspread) (3.0.4)\n",
            "Installing collected packages: gspread\n",
            "  Attempting uninstall: gspread\n",
            "    Found existing installation: gspread 3.4.2\n",
            "    Uninstalling gspread-3.4.2:\n",
            "      Successfully uninstalled gspread-3.4.2\n",
            "Successfully installed gspread-5.5.0\n",
            "Looking in indexes: https://pypi.org/simple, https://us-python.pkg.dev/colab-wheels/public/simple/\n",
            "Requirement already satisfied: scikit-learn in /usr/local/lib/python3.7/dist-packages (1.0.2)\n",
            "Requirement already satisfied: scipy>=1.1.0 in /usr/local/lib/python3.7/dist-packages (from scikit-learn) (1.7.3)\n",
            "Requirement already satisfied: joblib>=0.11 in /usr/local/lib/python3.7/dist-packages (from scikit-learn) (1.1.0)\n",
            "Requirement already satisfied: threadpoolctl>=2.0.0 in /usr/local/lib/python3.7/dist-packages (from scikit-learn) (3.1.0)\n",
            "Requirement already satisfied: numpy>=1.14.6 in /usr/local/lib/python3.7/dist-packages (from scikit-learn) (1.21.6)\n",
            "Looking in indexes: https://pypi.org/simple, https://us-python.pkg.dev/colab-wheels/public/simple/\n",
            "Collecting snscrape\n",
            "  Downloading snscrape-0.3.4-py3-none-any.whl (35 kB)\n",
            "Requirement already satisfied: lxml in /usr/local/lib/python3.7/dist-packages (from snscrape) (4.9.1)\n",
            "Requirement already satisfied: beautifulsoup4 in /usr/local/lib/python3.7/dist-packages (from snscrape) (4.6.3)\n",
            "Requirement already satisfied: requests[socks] in /usr/local/lib/python3.7/dist-packages (from snscrape) (2.23.0)\n",
            "Requirement already satisfied: idna<3,>=2.5 in /usr/local/lib/python3.7/dist-packages (from requests[socks]->snscrape) (2.10)\n",
            "Requirement already satisfied: certifi>=2017.4.17 in /usr/local/lib/python3.7/dist-packages (from requests[socks]->snscrape) (2022.6.15)\n",
            "Requirement already satisfied: chardet<4,>=3.0.2 in /usr/local/lib/python3.7/dist-packages (from requests[socks]->snscrape) (3.0.4)\n",
            "Requirement already satisfied: urllib3!=1.25.0,!=1.25.1,<1.26,>=1.21.1 in /usr/local/lib/python3.7/dist-packages (from requests[socks]->snscrape) (1.24.3)\n",
            "Requirement already satisfied: PySocks!=1.5.7,>=1.5.6 in /usr/local/lib/python3.7/dist-packages (from requests[socks]->snscrape) (1.7.1)\n",
            "Installing collected packages: snscrape\n",
            "Successfully installed snscrape-0.3.4\n"
          ]
        }
      ]
    },
    {
      "cell_type": "markdown",
      "source": [
        "#Import libraries and Sheet"
      ],
      "metadata": {
        "id": "vIrXkVdc-oum"
      }
    },
    {
      "cell_type": "code",
      "source": [
        "from google.colab import auth\n",
        "auth.authenticate_user()\n",
        "\n",
        "import gspread\n",
        "from google.auth import default\n",
        "import pandas as pd\n",
        "from sklearn.model_selection import train_test_split, cross_val_score\n",
        "from sentence_transformers import SentenceTransformer, util\n",
        "from sklearn.neighbors import KNeighborsClassifier\n",
        "from sklearn.metrics import classification_report, confusion_matrix, accuracy_score\n",
        "from joblib import dump, load\n",
        "import numpy as np\n",
        "import matplotlib.pyplot as plt\n",
        "\n",
        "creds, _ = default()\n",
        "\n",
        "gc = gspread.authorize(creds)\n",
        "\n",
        "worksheet = gc.open('twitter_candidatos').sheet1 #open twitter_candidatos.gsheet in my GoogleDrive"
      ],
      "metadata": {
        "id": "nstlpfHcjHeG"
      },
      "execution_count": null,
      "outputs": []
    },
    {
      "cell_type": "code",
      "source": [
        "# get_all_values gives a list of rows.\n",
        "rows = worksheet.get_all_values()\n",
        "\n",
        "# Convert to a DataFrame and render.\n",
        "df=pd.DataFrame(rows[1:],columns=rows[0]) #copy the 2th row position ahead, cause the 1th position is the column name"
      ],
      "metadata": {
        "id": "XGSKBr3mru4f"
      },
      "execution_count": null,
      "outputs": []
    },
    {
      "cell_type": "code",
      "source": [
        "df['comentario'].values.tolist()"
      ],
      "metadata": {
        "id": "oZ7qLdTPm9A9",
        "colab": {
          "base_uri": "https://localhost:8080/"
        },
        "outputId": "72937f26-da5d-4320-a9fc-10d08905261a"
      },
      "execution_count": null,
      "outputs": [
        {
          "output_type": "execute_result",
          "data": {
            "text/plain": [
              "['Viva Jair Bolsonaro.O melhor presidente da história desse país.O tamanho do choro da esquerda, é o tamanho do sucesso do evento. https://t.co/W2H4IewwMs',\n",
              " '@ducavendish Esse fracasso.',\n",
              " '@Kgsteiner @fredericodbs PM se prestando a capanga do bolsonaro. Que várzea.',\n",
              " 'rainha elizabeth o bolsonaro de calcinha',\n",
              " '@BolsonaroSP BOLSONARO VTNC!!',\n",
              " '@mlauju23 @PedroRonchi2 Bolsonaro tem foto com Arthur Lira, Roberto Jeferson, Valdemar Costa Neto e mais uma nata…Lula continua ganhando KKKKK',\n",
              " 'Quer festa melhor e presente maior do que o Presidente Bolsonaro reeleito e ter a chance de eleger em 2026 seu vice ou quem por ele indicado para sucedê-lo?',\n",
              " 'O erro dele é claro ,mas a punição e desproporcional! Gostaria de ver está disposição pra prender o lula e seus iguais ladrões,subir o morro e prender e levar pro presidio os grandes traficante . Este cara já tem a esposa que dará ele pagar caro por está merda que fez. https://t.co/gswNRwD5t0',\n",
              " '@JDCensurada @alexandrecases Ela é tão pé de chinelo, né?',\n",
              " 'a rainha morreu sem ver o bolsonaro sendo preso, meus pêsames',\n",
              " 'Porque a esquerda está com tanto medo do presidente jair bolsonaro? porque a preocupação?, eles tem que temer o povo somos nós que decidimos nas urnas: a menos que, eles tenham slguma programação anti-democratica definida, para por o ex-presidiario e corrupto no poder a força.',\n",
              " '@RosileneCH1 @robertamanga @vade_ca @MianSandra Bolsonaro é um nazifascista, noa parte de seus seguidores fanáticos também é. Uma parte o apoia sem enxergar a realidade.',\n",
              " 'O sistema acusou o golpe: Bolsonaro não se apropriou da Bandeira do Brasil. Ela foi jogada no lixo e pisoteada pela esquerda https://t.co/HNnxwutEun',\n",
              " 'Eu não tenho depressão com a aula do Dioney sério',\n",
              " '@miriamleitao Bolsonaro de Novo!',\n",
              " 'EXCLUSIVO!Foto aérea da AvenidaPaulista no 7 de setembro constata que não houve necessidade de colocar gêmeos clonados para aumentar a quantidade de público.Estava realmente cheio para caraleeeeoooooo!!! https://t.co/4Tooj1Qe6t',\n",
              " '@BolsonaroSP E O QUEIROZ E A MICHEQUE E A MANSÃO DO FLÁVIO E AS RACHADINHAS E A FAMILICIA DAS FAKE NEWS???FORA BOLSONARO GENOCIDA E CORRUPTO E MILICIANO...CPI DO MEC JÁ.',\n",
              " '@umqueer por culpa do meu pai, do Maike e do Bolsonaro. achei que fosse óbvio',\n",
              " 'Os integrantes da banda Måneskin já estão no Rio de Janeiro para sua mega apresentação no Rock in Rio e mostraram que estão ao lado de JAIR BOLSONARO. O cantor Damiano David gritou #imbrochavel #mito e #BolsonaroPresidente em Copacabana.Via@JoaquinTeixeira https://t.co/nd9zC41o23',\n",
              " 'se o bolsonaro se reeleger eu faço minhas malas e vou embora, isso não é um teste.',\n",
              " '@TerraBrasilnot Provavelmente quem participou da pesquisa é suspeito, levando em conta que no 7 de setembro muitas pessoas foram pagas para participar dos comícios de Bolsonaro! https://t.co/LvjewIbNCQ',\n",
              " 'O postei isso do Bolsonaro no tt pra tira print, posta no face pra irrita uma prima apenas 👍👍',\n",
              " 'ele dando apoio ao pai dele noah messias bolsonaro https://t.co/cQtfYvYCx3',\n",
              " 'https://t.co/yYBz2ucnBk🇧🇷JAIR BOLSONARO 22🇧🇷🇾🇪TARCÍSIO FREITAS 10 PARA GOVERNADOR DE SP 🇾🇪🇧🇷 MARCOS PONTES SENADOR 222 SP🇾🇪🇧🇷EDUARDO BOLSONARO 2222 DEPUTADO FEDERAL E DANILO BARNABÉ 22223 DEPUTADO ESTADUAL SP',\n",
              " '@kimpaim Bolsonaro é aquele do orçamento secreto ? Do dinheiro vivo ? Do Brasil de volta ao mapa da fome ? Da destruição da Amazônia ? Da demora na compra da vacina ? Ah, tá.',\n",
              " '@EuSouZarolho O Bolsonaro decretou 3 dias de luto nacional. Nenhum humorista bate isto.',\n",
              " 'VOCÊS PAGAVAM UMA ESMOLA DE 88 REAIS, AGORA O POVO TEM O QUE COMER. https://t.co/4xWehf1yCD',\n",
              " '@ptsaopaulosp 🇧🇷💚💛Brasil!BOLSONARO 22Capitão do povo',\n",
              " '@alexsandro_pere @manudinho Não consigo nem imaginar a hipótese dele ganhar, vai ser um pesadelo dentro do pesadeloVai ser muito difícil reverter o estrago no eleitoradoSe não tiver Bolsonaro eles vão dar um jeito de colocar outro no lugar desse nível',\n",
              " '@tocomleonardo https://t.co/gjANg7teIu Denunciem...Procurem a Coordenação de Campanha de Bolsonaro pois isto é DISCURSO DE ÓDIO',\n",
              " '@Marcelima18Lima @Analises2022 Infelizmente é verdade, único lugar no Sudeste que o Bolsonaro vence é aqui no RJ. Evangélicos e homens em sua maioria, além da classe média estão con o PR independente de corrupção, rachadinhas, escândalos no MEC e na saúde, etc ..e se orgulham disso \\U0001fae4',\n",
              " 'Nós, O POVO BRASILEIRO, usamos o dia de ontem pra mostrar quem continuará presidente do BRASIL.MÍDIA SUJA, não ousem dizer que o Presidente Bolsonaro usou o 7 de setembro a favor dele.Fomos as ruas porque estamos cansados de vocês, mídia e “instituições” prepotentes. https://t.co/Psu6yhhcCy',\n",
              " 'Não aguento esse presidente, bolsonaro decretou luto oficial EM RESPEITO pela rainha de outro país, por 3 dias, MAS PARA OS 600 mil BRASILEIROS MORTOS NA PANDEMIA a resposta dele foi \"edai? não sou coveiro\" https://t.co/zr8HxUNbkN',\n",
              " 'Jesus, minha tia dizendo que a rainha deveria ter antecipado a morte em um dia, pq aí ofuscaria as palhaçadas de Bolsonaro ontem. Que coisa horrível de se dizer.Mas aí depois pensei: \"Pior que ela está correta\"',\n",
              " '@UOLNoticias Seria melhor coisa, aí nem lula, nem Bolsonaro ganhariam!',\n",
              " '@folha Bolsonaro 17, quem precisa de remédio é doente.',\n",
              " '@militantcansado O dinheiro desviado pelo PT dava para matar a fome do mundo inteiro por um bom tempo. Esquerdistas são burros ou são desonestos? Ou os dois? https://t.co/Q5gm5WBiGz',\n",
              " '@LailaXavier19 Infelizmente esse meliante vota no Bolsonaro. Mas não significa que ele tem apoio para atacar homossexuais, a escolha sexual de cada um deve ser respeita. Precisamos urgente endurecer as leis contra homofobia e racismo em nosso país.',\n",
              " '@JosAntn51860736 Olha estou observando que você tá com vontade de votar no Bolsonaro hein, não tenha medo de ser feliz 💚💚💚💚',\n",
              " 'Até chegar 02 de outubro só vai sobrar o cy para o Broxonaro oferecer https://t.co/ehXC8Q8NqY',\n",
              " 'Por favor, \"tias do zap\" aqui das redes... alguma de vocês recebeu APELO do Eduardo Bolsonaro? https://t.co/zkkWetFTYh',\n",
              " '👏👏👏💚💛💙\\U0001f90d🇧🇷🇧🇷🇧🇷🇧🇷Bora lá reeleger o Presidente Bolsonaro assim como eleger Senadores, Deputados e Governadores indicados por ele!!! 💚💛💙\\U0001f90d🇧🇷🇧🇷🇧🇷🇧🇷. #FechadosComBolsonaroAte2026 https://t.co/2kN2HvNcRC',\n",
              " '@guilherme_amado Depois da multidão nas ruas estão reconhecendo a vitória do Bolsonaro. Vai ser no primeiro turno.',\n",
              " 'Bolsonaro explorou um ambiente de enfrentamento com a esquerda e o STF para levar uma quantidade considerável de gente às ruas.',\n",
              " '@LulaOficial Vai lá Cirão!!! Conta pra gente do filho do Lula.Esse sabe demais. Sabe mais q o Palocci. https://t.co/3dPFu6PF0X',\n",
              " '@RossanaAFH @ciro_nogueira Kkkk... vivi até aqui p ouviu e vê a cara de tristeza dos jornalistas da globo...\" tinha multidões nas ruas\" em apoio ao presidente Bolsonaro....🇧🇷💚💛✌️',\n",
              " '@Zambelli2210 @jairbolsonaro Pela Rainha da Inglaterra 03 dias de lutas, para quase 700.000 famílias, que perderam a vida por falta da vacina que Bolsonaro se negou a comprar, nem um sinto muito.',\n",
              " 'Imagina quando o looola perder a eleição https://t.co/sCCosIolgZ',\n",
              " \"Que dor de cotovelo, hein, PT?', diz Bolsonaro sobre valor do combustível no Brasil https://t.co/FmBtVR7zpz https://t.co/lOh3bFxgHK\",\n",
              " '@o_antagonista E foi....coisa mais patético....FORA BOLSONARO',\n",
              " '@Sambolso Sem dúvida.. ..',\n",
              " 'Bolsonaro dispara mantras que servem para reforçar o figurino de adversário do sistema político e, principalmente, manter seus apoiadores mobilizados num momento em que sua chance de vencer no voto não é das maiores.Os atos organizados pelo presidente cumpriram essa função.',\n",
              " 'URGENTE: Bolsonaro aumenta vantagem sobre Lula e chega a 42% na corrida presidencial; VEJA NÚMEROS ☛ https://t.co/Cv5agyjpMO',\n",
              " '@rmotta2 Devem ser os mesmos pesquisadores que fazem as pesquisas eleitorais que apontam o Presidente Bolsonaro em segundo.',\n",
              " '@kimpaim @AdrillesPistola Bolsonaro vai ter de 17 a 15% mais votos do que Lulla.',\n",
              " '@UOLNoticias Nem a família do Lula e nem de ninguém é igual a do Bolsonaro, tds v@g@bund*s que vive cm parasitas às custas do povo, nunca trabalharam, igual o pai, tds ligados à milícia, parentes das ex td na mamata tbm e inúmeros imóveis comprados com dinheiro sujo.',\n",
              " 'Lula, em entrevista, disse: TENHO 74 ANOS E UM TESÃO DE 20 ANOS. Ninguém achou ruim. Sabe porque?! O problema não é o que fala e sim quem fala.O negócio da esquerda é TARA no Bolsonaro.Precisamos, URGENTE, falarmos de assédio presidencial.',\n",
              " '@Ricardo_Abreu_ Ué? O PT comprou a patente do pão com mortadela???',\n",
              " '@felipeneto Eu só tenho que agradecer essa rainha que sem querer ofuscou as palhaçadas de Bolsonaro. Se ele pensou que seria o mais comentado hj no Twitter se ferrou. Toda aquela palhaçada de ontem foi em vão.',\n",
              " 'Jair M. Bolsonaro - jairbolsonaroSeguidores:8.846.389Publicações últimos 7dias: 75Total de likes: 2.903.280Total de retweets: 530.936#Eleicoes2022 #BolsonaroPresidenteAte2026',\n",
              " 'pelo menos foi uma fala que me definiu não ironicamente*nao sou bolsonaro* https://t.co/XJcDJ5aCZa',\n",
              " '@Beatriz66276923 @RenanSa83188942 @WiltonPacheco14 @giraldirenato Kkkkk que mentira. Então tu não mora no RS. Faz a pesquisa em casa, no trabalho, no Bar, na faculdade paga não a de graça, na loja etc. 7 contra 3 pro Bolsonaro. Kkk pesquisa essa mentirosa',\n",
              " '@acmcaetano54 Guerrilheira',\n",
              " 'passou um monte de imbecil gritando bolsonaro pois se eu n estivesse aqui na loja eu ia gritar IMBROCHAVEL numa vontade',\n",
              " '@nonoinvestidor Leia as promessa de campanha do Bolsonaro na eleição passada.',\n",
              " 'Bolsonaro é mto cagao, sempre que ele vai fazer uma merda acontece algo mo mundo que faz os brasileiros voarem alheios igual vagalumes em frente a luz. Essa agora de cortar praticamente todo orçamento da farmácia popular e a Rainha lá do cu do mundo morrer só comprova isso.',\n",
              " 'e a michelle bolsonaro que fez aegyo ontem',\n",
              " 'E agora @TSEjusbr ??? Alguém está mentindo! Ou foi Bolsonaro que baixou a gasolina, ou foi o Lula que indiretamente baixou a gasolina por estar ganhando pesquisa! Os dois não dá. Kkkkkkkkkkkk a esquerda tem que se decidir. https://t.co/3GiOKIpAbn',\n",
              " '@folha Bolsonaro vai atrasar o auxílio https://t.co/BL5R9W2jw6',\n",
              " 'Os brasileiros estão com Bolsonaro.Brazilians stand with Bolsonaro. https://t.co/yIurPxDvhm',\n",
              " '@Metropoles Se ela morreu de COVID-19, pode colocar na conta de BOLSONARO.',\n",
              " '@Dyego89fla @Rconstantino Bolsonaro não é perfeito, de forma alguma. Ninguém é. Tem várias ações que eu discordo, mas no momento atual só temos duas opções. Considerando ambas, não tenho dúvidas de em quem devo votar. A omissão jamais deveria ser uma opção, nossos vizinhos estão aí pra comprovar isso.',\n",
              " 'A imagem do Bolsonaro está linda fora do Brasil, só aqui que idolatra futuro presidiário/corrupto!“O homem que queria ser Trump”“Bolsonaro prepara sua grande mentira no Brasil”“representa uma ameaça à democracia brasileira”#ForaBolsonaro #ForaBolsonaroeSuaQuadrilha https://t.co/yYsf3aItOq',\n",
              " '@Rconstantino 🤣🤣🤣🤣🤣🇧🇷🇧🇷🇧🇷💚💛💚💚💚💚💛💛💛O Presidente Bolsonaro Recebeu homensagens de vários País, até da Rainha Elisabeth. Brasil será a Maior Potência do Planeta. Deus levou a Rainha e trouxe para nós o Mito @jairbolsonaro - smp*',\n",
              " '@rodrigopacheco Vc acha que o povo brasileiro é idiota? O único que se importa com o povo, é o Presidente Bolsonaro.',\n",
              " '@ricardojgomes - E aí Ricardo ❗Nada a comentar ⁉️Por exemplo, tem o xilique da Cantanhede e o desespero da Globo fezez Bolsonaro acha ruim de citar GLOBO LIXO.Segundo ele, lixo a gente recicla. Daí, imaginamos o ódio que ele nutre pela platinada.E as respostas que lhe respondi.🌐 https://t.co/YFrfeGZ4gN',\n",
              " 'Aí o consorcio @folha @g1 @Estadao #UOL @VEJA pago, sem narrativa: Bolsonaro faz politica em 7 setembro etc Quando deveria dizer: o q o Bozo tem para num feriado, de graça, atrair tanta gente? o povo q foi apoiar o Mito, o choro é livre desocupados... https://t.co/uzdNpkTJUR',\n",
              " '@laurindocarval3 @laurojardim Hahaja c acha q bolsonaro ganhou algum voto novo com a micareta de ontem? Sério q acha?',\n",
              " 'EXÉRCITO DEVE AGIR IMEDIATAMENTE - QUEREM TORNAR BOLSONARO INELEGÍVEL AP... https://t.co/EZeUW0PXbL via @YouTube..É bem capaz. E oq 🦑 deu lá fora. Qdo vão prender este Molusco? Qr dizer q o Infeliz➡️PT ganhou varias eleição e vai fazer 💩 lá fora? Tentam p/ver➡️tirar BOLSONARO.',\n",
              " 'Um dia resumido nisso kkkk #Eleicoes2022 #lula vs #bolsonaro https://t.co/d6kvbxrd9Z',\n",
              " '@renataloprete Qquer presidente em atividade faria isso. Principalmente se estivessem tentando a reeleição. Como ta feio isso #GloboLixo. Mas o povo tá vendo. O bolsonaro passará. Esse papelão de vcs, jamais! 🙌🏻',\n",
              " 'Ministro ALEXANDRE DE MORAIS.MINHA ÚLTIMA ESPERANÇA É VOSSA EXCELÊNCIA,APURAR E TOMAR MEDIDAS CONTRAO CANDIDATO BOLSONARO,QUE PASOU DOS LIMITES NO DIA 7 SETEMBRO.FAZENDO USO DA MÁQUINA DO GOVERNO EUSANDO DE UM DIA TÃO SIGNIFICATIVO PARA O BRASIL,SEU PALANQUE ELEITORAL!',\n",
              " '@isafsqr @fleepterra que? Isabela vc é bolsonaro 2022?????',\n",
              " 'Aí vem o desespero do Bolsonaro pinto murcho ! https://t.co/MMDTrA8pxO',\n",
              " '@EdRaposo_ https://t.co/gjANg7tMy2 Denunciem...Procurem a Coordenação de Campanha de Bolsonaro pois isto é DISCURSO DE ÓDIO',\n",
              " '@simonetebetbr Deixe de hipocrisia @simonetebetbr a senhora deveria ter vergonha de teu comportamento no senado principalmente pelo teu comportamento na CPI e parar de desrespeitar o eleitor brasileiro principalmente as mulheres que apoiam o Presidente Bolsonaro. https://t.co/gtjGikdlwe',\n",
              " 'Evangélico de verdade não vota em ladrão!!!Bolsonaro 2022 É o Capitão do povo que vai vencer denovo!! https://t.co/ufErRIUTpS',\n",
              " '@colombopcb Eu não levo a sério um \"comunista\" com essa cara de netinho paparicado pela vovó igual tu. E ainda com essas falas absurdas pra chocar. Depois querem falar do malvadão Bolsonaro e \"discurso de ódio\" e pedir votos pro Lula paz e amor 🤭🤣🤣🤣🤣! CAMBADA DE HIPÓCRITAS COVARDES',\n",
              " \"Revista The Economist afirma que Bolsonaro é 'ameaça à democracia brasileira' | Eleições 2022 | O Globo https://t.co/Jxr4BLiUeP\",\n",
              " 'broxonaro',\n",
              " '@Damadeferroofic KkkkkkkkEles não aprende O bom é que eles fizeram propaganda para o Bolsonaro 😅',\n",
              " '..Vejam esses Numeros,,Acho que vai ser no 1° Turno.. BOLSONARO 22 https://t.co/z29MM2D6Ss',\n",
              " '@amarelinhadoBR Tinha que ser petista...kkkkkkkkk',\n",
              " '@flferronato Pra descobrir como Bolsonaro e a famílicia, conseguiram dinheiro para comprar 51 imóveis no valor de 26 milhões em dinheiro 💸💸 vivo.',\n",
              " '@LulaOficial Primeiro lugar queremos liberdade, não viver em ditadura . Bolsonaro 2022',\n",
              " '@PalomaFacanha Vai ser Bolsonaro 22 no primeiro turno 🇧🇷🇧🇷🇧🇷',\n",
              " '@BolsonaroSoul @Princesaqsonha @arivsilva1 @Marbenje @fmcs1970 @marciapepe @cty_reginaz @barbosaR_432 @RachelAndo7 @evamanaos @figueredo_guede @MarcelodeMarco2 @maclchcb @SrBoneco1 SDV garantido',\n",
              " '@LulaOficial Vai lá Cirão!!! Conta pra gente do filho do Lula.Esse sabe demais. Sabe mais q o Palocci. https://t.co/TWSCU35UU8',\n",
              " 'Complete a frase: Ei Bolsonaro vai tomar no,........',\n",
              " 'meu pai defendendo o bolsonaro me irrita num nível',\n",
              " 'não aguento mais minha mãe falar do bolsonaro nossa senhora que saco',\n",
              " '@bernardokuster2 Paulo Freire deve estar orgulhoso da blogueirada que ele formou!!!!!!!!!!!!!!!!!!!!!! @CNNBrasil',\n",
              " '@SF_Moro @rosangelamorosp Algumas perguntas sobre a candidata. Onde ela mora? No Paraná com você? Ela é contra ou a favor do Governo Bolsonaro? Ela acha que tem corrupção no Governo Bolsonaro? Se sim, por que não denuncia perante seus eleitores?',\n",
              " '@RitaLisauskas Culpa do Paulo Freire! Vai dizer que é do Bolsonaro? Tem coisa pior! https://t.co/wVKvdTV3I5',\n",
              " '@randolfeap O DIA DA INDEPENDÊNCIA É 07/09 E NÃO 08/09, ELE FOI O ÚNICO JUNTAMENTE COM O POVO QUE CELEBRARAM O BICENTENÁRIO DA INDEPENDÊNCIA DA REPÚBLICA, BOLSONARO PRESIDENTE ATÉ 2026, ELEITO NO PRIMEIRO TURNO DAS ELEIÇÕES PRESIDENCIAIS, BRASIL ACIMA DE TUDO, DEUS ACIMA DE TODOS 🇧🇷 🇧🇷 🇧🇷 🇧🇷',\n",
              " '@GugaNoblat Buga, tu é muito donzela 😂😂😂',\n",
              " '@mungeriano_ @rodlond @BolsonaroSP Bolsonaro disse que refugiados são a ESCÓRIA do mundo. E comparou negros com animais. Vai votar nele?',\n",
              " '@jose_simao Com reeleição de Bolsonaro 😂😂😂😂😂😂😂😂 chora mais 😂😂😂😂😂😂',\n",
              " '@Pedrodiniz1413 @AsK_R6 Você tem 11 anos e sua fofo de perfil é apoiando o Bolsonaro. Vai tomar no seu cu vai',\n",
              " '@mfriasoficial @NilzaMartin Esse sakobobo é um long play empenado, só sabe fazer uma única coisa na vida... criticar o Presidente Bolsonaro.Pra ele 👇👇👇👇👇👇👇👇BOLSONARO-2022-2026, SERÁ REELEITO EM PRIMEIRO TURNO NO DIA 02OUT2022!!!!BOLSONARO-2022-2026, SERÁ REELEITO EM PRIMEIRO TURNO NO DIA 2OUT22',\n",
              " '@realpfigueiredo Bolsonaro respondeu hoje na Live que ele está do lado dos 30 %.',\n",
              " '@elderfreitas06 @Mr_Machado @jairbolsonaro Mano, tu leva a sério o Bolsonaro e o Caio Coppola, rs.',\n",
              " '@UOL É verdade, pertence ao Povo mais só um candidato resolveu ir as ruas, os demais tem medo de está com o povo, de respeitar o povo, de trabalhar para o bem do povo. Por isso só um foi. Vergonha para vocês porque é o povo que faz a diferença na hora do voto.',\n",
              " '@MarceloFreixo @LulaOficial Fora Bolsonaro ninguém mais e honesto e competente.',\n",
              " '@SenadoFederal Que q meu Presidente Bolsonaro via fazer aí nesse SENADO se muitos SENADORES não estão nem aí para povo ❓',\n",
              " '@jose_simao Isso mesmo....Bolsonaro no primeiro turno.',\n",
              " '@Miltonneves @TheMechanic_22 Nunca foi o que se fala...mas quem fala meu amigo https://t.co/MZISICtueh',\n",
              " '@MarcoRobertoSi1 @joanita222 Deus tenha misericórdia e entre com providências.',\n",
              " '@VEJA @radaronline Bolsonaro está usando bilhões para comprar votos e usar na campanha e a PGR, STF não dao um pio.',\n",
              " 'chega de lula e bolsonaro vamo acabar com a democracia e só correr na rua pelado no modo homem das cavernas',\n",
              " 'Segundo o ministro Paulo de Tarso Sanseverino, não ficou caracterizada a transmissão de informações falsas sobre 51 imóveis comprados pela família Bolsonaro em dinheiro.Foi bem claro e contundente: \"Não ficou caracterizada a transmissão de informações falsas sobre 51 imóveis\". https://t.co/1IQStSqKaz',\n",
              " '@Rconstantino Queria tbm.😂🥰',\n",
              " 'Não entendo pq os apoiadores do bozo não concordam com um posicionamento político diferente dos deles.Existem pessoas que não iriam votam nem no lula e nem no Bolsonaro, e entender isso é respeitar a opinião política do outro',\n",
              " 'Cara eu tenho tanta raiva dessa mina, parece uma árvore de tanto galho na cabeça, n larga do “namorido” por dependência emocional e ainda p piorar apoia bolsonaro, cara a vida dela ja nao faz mais sentido, so pode',\n",
              " 'Senador Randolfe Rodrigues você está parecendo uma hiena desesperada ,se enxerga que sua hora de cair fora da política vai chegar, o poder emana do povo ,o povo não quer LULA aceite e pare de ficar pulando na frente do STF que está muito feio,o povo quer JAIR MESSIAS BOLSONARO https://t.co/g38JPNX5Lm',\n",
              " '@guilherme_amado Depois do esporro que ele levou do Bolsonaro, agora vai ficar no Brasil..oh veio covarde..viu!',\n",
              " 'Não é sobre a morte de Elizabeth e sim sobre o príncipe Charles III, ter que assumir o trono, o véi tá há 70 anos sem fazer absolutamente NADA BICHO, e agora vai ter que trabalhar à força. Ícone encostado da família real. Kkkkkkkkkkkk https://t.co/XYJZbtI8dz',\n",
              " '@Damadeferroofic A mulher do bolsonaro não foi acusada de tráfico de drogas ??',\n",
              " 'Vc sabia? Sem programa de vacinação, governo Bolsonaro criou cortina de fumaça ao zerar taxa de armas https://t.co/Mw1Hkf4VIB',\n",
              " '@imnotb3ll aguentou tanta coisa tadinha, mas ouvir o bolsonaro falar “imbroxavel” ai nao da',\n",
              " '\"Bolsonaro queimou a Eletrobrás para comprar voto nessas eleições\", diz Eduardo Moreira https://t.co/5Nz4GC077Z. Exatamente! Mas o PGR e o TCU não viram nada de errado. As instituições não estão funcionando. Perderam a vergonha! O crime está liberado?!',\n",
              " '@Rconstantino Eu Jair Bolsonaro eu não vôr compra à vacinar lembra disso povo brasileiro 🇧🇷😭😷',\n",
              " 'O público começou a gritar Fora Bolsonaro e o Badaui interrompeu e não deixou eles falarem, foi isso que eu escutei msm? https://t.co/0WCXB8almw',\n",
              " 'eu acho tanta estupidez esse povo que ama o bolsonaro por ele odiar lgbts por exemplo pq estaria \"tirando a inocência das crianças\" mas o cara grita sobre o próprio penis toda horatipo, puta merda sério https://t.co/GrLK6minOQ',\n",
              " '@SheilaGeist Gostei dessa campanha: nem Alckmin e nem Bolsonaro. Petistas achando que toda a ginástica que o STF fez, mudando o entendimento em 2 instância, inventando a tese de CEP errado no processo, fazendo de tudo para colocar o Painho no poder!?... tem que ser muito inocente p acreditar',\n",
              " '@jose_simao Bolsonaro 22 reeleito 🇧🇷 https://t.co/Y0YhEw2gCL',\n",
              " '@BlogdoNoblat Linda, a 1a Dama mais linda do Mundo, Michelle Bolsonaro Presidente 2026.',\n",
              " '@sarasharon nível de exaltação a um político? não, mas sempre teve desfile/passeata nessa data, o triste é ter o rosto do Bolsonaro e não do Brasil como nação',\n",
              " '@Adriana01942738 Jornalismo Brasileiro morreu!',\n",
              " '@AndreJanonesAdv Mas que 💩gão esse Bolsonaro.',\n",
              " 'Vc sabia? Em 3 de março de 2021, bolsonaro afirmou \"O Brasil é um país que, em valores absolutos, mais está vacinando\". Claro que ele estava mentindo. O Brasil era o 6º da lista na referida data. Em percentual da população, o Brasil era o 40º https://t.co/b8LqK29aQ8',\n",
              " 'Vc sabia? Bolsonaro disse no início de 2021 que o país está quebrado, mas os gastos com alimentação do governo aumentaram 20% em relação a 2019 https://t.co/TuG9omXLHI',\n",
              " 'Vc sabia? Bolsonaro se aproximou de antilavajasistas. Pq será? https://t.co/l8CQ0PbT9t',\n",
              " '@PMESP É o q sobrou pra petralhada, tentar encher uma praça...E ainda eles arrumam confusão, escreve aí!',\n",
              " '@VillaMarcovilla Quem manda nessa \"bagaça\" ainda é o povo! E o povo também está isolando jornalista como você e TODOS que se atreverem realmente dar o tal golpe. E a cereja do bolo: O POVO ESTÁ COM BOLSONARO. E você sabe disso. Quando a \"boiada\" estourar ninguém segura. #BolsonaroReeleitoEm2022',\n",
              " 'Vc sabia? BRASIL VERÁ O MUNDO SE VACINAR ENQUANTO AQUI SE MORRE POR CAUSA DE BOLSONARO https://t.co/ar0b88MUue',\n",
              " \"Vc sabia? Para aliados, Bolsonaro 'passou recibo' de irritação com notícias de que há busca por um candidato como Joe Biden para eleições brasileiras de 2022 https://t.co/5KBoM0zLDo\",\n",
              " 'AO VIVO: PRONUNCIAMENTO DO PRESIDENTE JAIR BOLSONARO - LIVE DE 08/09 - I... https://t.co/2KXhTTs1tt via @YouTube',\n",
              " 'De acordo com a rachadinha mamateiro broxonaro vai dar cadeia xadrez cana ver o sol nascer quadrado https://t.co/N5obqCfz0u',\n",
              " '@GugaNoblat A verdade é que Lula e Bolsonaro são dois acéfalos, nenhum deveria disputar uma eleição',\n",
              " '@GuilhermeBoulos Isso.Apoio Faça uma manifestação maior e mostre pro Bolsonaro que tem mais popularidade.',\n",
              " '@BahiaNoticias Nada de foto de drone, nada da foto de multidão. Vou votar no candidato de Bolsonaro!',\n",
              " 'bolsonaro é tao inútil mas tao inútil que toda vez q ele se mostra mais uma vez inútil eu fico impressionada com a inutilidade dele',\n",
              " '@Estadao @EstadaoPolitica TODO PODER EMANA DO POVO E NÓS QUEREMOS JAIR BOLSONARO. Tenham a decência de acatarem a vontade do povo. A esquerda é indecente.',\n",
              " 'Rainha Elizabeth aguentou tudo na vida, guerras, mortes de papa, vários governos…Mas aguentar Bolsonaro gritar imbroxável no 7 de setembro foi demais, ela preferiu a morte.',\n",
              " '@randolfeap E quem de vocês mesmo que prestigiou, ontem, a solenidade da Presidência, junto com quem importa, o povo? Querem respeito mas não respeitam o Presidente e o povo. Bolsonaro tem razão! #EsquerdaNuncaMais',\n",
              " '@MarceloLins68 😂😂😂😂😂 serio mesmo que vcs mão estão pensando na reputação de vcs? O Bolsonaro vai ganhar e aí oque vão fazer?',\n",
              " '@alexandre2perez @GabPerline Hoje em dia uma pessoa falar que apoia o Bolsonaro já é suficiente pra sofrer hate desse bando de idiota alienado',\n",
              " 'Termo cunhado por um goiano amigo, apresentador de rodeios. “Sou imbrochável porque resisto”Bolsonaro em relação ao quanto é atacado e nem por isso desiste. Esquerdopatas jamais entenderão.Preferem sempre um viés! https://t.co/ZaMuFQh5tL',\n",
              " '@Damadeferroofic Eles não aprenderam nada com 2018Vão ter que aturar mais 4 anos de Bolsonaro no poder',\n",
              " '@_ssalesgi mas ela é mto fofa gi',\n",
              " 'não consigo achar diferença em eleitores do Bolsonaro e eleitores do Lula, um aglomerado de gado, extremistas, militantes incoerentes e fantasiosos',\n",
              " 'Em comício no Rio, Janja responde Bolsonaro: \"aqui não tem princesa, só mulheres de luta\" https://t.co/e9ikeTzT2G',\n",
              " '@motoxxpapi a proxima eh o bolsonaro 😍🙏🏼',\n",
              " 'Bolsonaro tem quase 50 milhões de pessoas que ainda o amam ou acham razoável que ele ocupe o lugar q está. Eu odeio o argumento de \"votar em um para o outro não ganhar\", mas se faz necessário que a gente o derrote em primeiro turno. Repensem, por favor.',\n",
              " '@Marbenje @Princesaqsonha @arivsilva1 @fmcs1970 @marciapepe @cty_reginaz @barbosaR_432 @RachelAndo7 @evamanaos @figueredo_guede @MarcelodeMarco2 @maclchcb @SrBoneco1 SDV garantido',\n",
              " 'Bolsonaro fala: \"Eu sou imbrochavel\"Aí aparece os especialistas em manja rola.Hahahahahahahahahahaha',\n",
              " '@jeanwyllys_real Mau sabia que estava ao lado do maior ladrao do Brasil.',\n",
              " 'Bora lá reeleger o Presidente Bolsonaro assim como eleger Senadores, Deputados e Governadores indicados por ele!!! 💚💛💙\\U0001f90d🇧🇷🇧🇷🇧🇷🇧🇷. #FechadosComBolsonaroAte2026 https://t.co/fqAG1zObP0',\n",
              " 'Pesquisa da Modal Mais mostra Bolsonaro na frente do Molusco; pesquisa da Quaest mostra Marcos Pontes empatando com o França na corrida pelo Senado; pesquisa PoderData diminui a diferença entre Haddad e Tarcísio no governo de SP. O Brasil está se endireitando 🇧🇷🇧🇷🇧🇷🇧🇷🇧🇷🇧🇷🇧🇷🇧🇷🇧🇷🇧🇷',\n",
              " '@Miltonneves Eu voto 🗳 🗳 bolsonaro',\n",
              " '@LuanaLift @CanalHipocritas E Bolsonaro 1° turno https://t.co/36b1JEMyNK',\n",
              " 'PDT quer Bolsonaro e Braga Netto inelegíveis pelo 7 de Setembrohttps://t.co/HLlWpXj53Q',\n",
              " 'Bolsonaro ta ganhando em praticamente todas as pesquisas, só perde por muito nas da Datafolha e Ipec (antigo ibope que faliu de tanto errar) que são pagas pela Globo. 🤔 https://t.co/TrX6sj4cGh',\n",
              " '@BolsonaroSP Se não falar de Bolsonaro não tem audiência, Bolsonaro é chave de cadeia prende até quem odeia ele!',\n",
              " 'nao gente agora q du fui ver o bolsonaro gritando imbroxavel meu drus',\n",
              " \"Esse povo é caduco e desinformado, prestando homenagem a uma velha gringa Luciferiana dessas. A hipocrisia fede!Cristão 'meia bomba'! https://t.co/BylLgA05TJ\",\n",
              " '#GilsonSenadorPE É 222O SENADOR DE BOLSONARO EM PERNAMBUCO. https://t.co/LP0xufVtEo https://t.co/wXVEKUt7K0',\n",
              " '@jose_neumanne @YouTube Pode falar, chorar, vai ser BOLSONARO NO 1 TURNO',\n",
              " '@fdesouzaalves @LulaOficial @BELLODAVILA @ricardostuckert Bolsonaro sonha',\n",
              " '@CrapulaLeonardo Parece piada de Dilma',\n",
              " 'Ao vivo, jornalista da Globo perde a linha com sucesso do 7 de setembro e parte para o ataque a Bolsonaro (veja o vídeo) https://t.co/ZDduwudQad Castanhedo Eliana apaixonado pelo presidente Bolsonaro',\n",
              " '@brom_elisa @jairbolsonaro Bolsonaro ganha no primeiro turno!',\n",
              " '@jjuhfurtado @_m3llll_ é a minha vintade de te pegar na porrada',\n",
              " 'Os que apoiam o Bolsonaro se identificam com ele em alguma das suas características. machista, arrogante, mentiroso, corrupto, orgulhoso, ditador, grosso, sem educação, cínico, hipócrita, torturador,agressor, burro e assassino, uma dessas característica tem com certeza.',\n",
              " 'Olha como Jair Messias Bolsonaro age de argilosa contra a população, mais carente que não tem condições de comprar remédios na farmácia.Ainda dá tempo de exterminar este incompetente do poder, só depende de nós!Vai vendo, Brasil!!!!! https://t.co/Uotf3SK3xG',\n",
              " '\"Lula fala que ta com tesão\"Jornas: Lindo maravilhoso revigorante 😍\"Bolsonaro fala q é imbrochavel\"Jornas: Horrível machista misógino 😡 https://t.co/LXtpuNZOrO',\n",
              " 'Só ressaltando o que o JN e toda a imprensa deixaram claro: neste dia, Bolsonaro, de fato, estava em Brasília.',\n",
              " 'Governo libera R$ 1,7 bilhão do orçamento secreto após decreto de Bolsonaro https://t.co/8UAtYQuGnM',\n",
              " 'Governo libera R$ 1,7 bilhão do orçamento secreto após decreto de Bolsonaro https://t.co/SXNzL3BEh5',\n",
              " 'É só darem o emprego. Bolsonaro promete Auxílio Brasil de R$ 800,00 a beneficiários que arrumarem emprego https://t.co/TOwWmudaIR via @InfoMoney',\n",
              " 'Discurso do Bolsonaro em Brasília - 7 de Setembro - YouTube https://t.co/FLYuna3DvY #BolsonaroReeleito2022 #BolsonaroNoPrimeiroTurno #lulaopovoteodeia',\n",
              " 'eu não ironicamente tive um pesadelo com o bolsonaro gritando imbrochavel namoral',\n",
              " '@rickduprah Mas o rock in rio não entraria em luto por conta da morte da Rainha Elizabeth? 😱 Que falta de deselegância por conta da produção e CEO do festival.',\n",
              " '@cornost0ne @labashurianda @gobackto505 queria uma dessa com o bolsonaro',\n",
              " '@UOLNoticias KkkkSerão presos todos os filhos de BolsonaroSe perder as eleiçõesSerão presos todos',\n",
              " '@natbonavides Hipocrisia, seu partido derrubou o veto do presidente Bolsonaro, voto votou para derrubar o veto, e está mamando do orçamento secreto colocando no colo do presidente',\n",
              " '@psi_albertoccm @LuciaAmed @willgomes Mas pera, se vcs votam no Lula, vcs não se preocupam com nada disso que vcs estão imputando ao Bolsonaro, né? Seria hipocrisia demais da contwS',\n",
              " 'Mano, o Tiago Santineli consegue curar toda e qualquer depressão possível, eu posso estar DESTRUÍDA, mas se eu assistir um vídeo dele xingando o bolsonaro, eu melhoro na hr. É surreal de incrível KKKKKKKKKK te amo, tiago!!\\U0001faf6😭😁😻❤️\\u200d\\U0001fa79😘😊💘',\n",
              " 'Lula: eu tenho tesao de jovem não sei qBolsonaro: eu sou imbrochavelAté nisso sabe...',\n",
              " 'Mesmo. https://t.co/QZiZbC82dy',\n",
              " '@zuninoj_ O lado ruim dos meus 1,90 😅',\n",
              " 'MP investiga uso eleitoral do 7 de setembro; família de Lula processa Ci... https://t.co/wwlExKNusl via @YouTubeAssistam.',\n",
              " '@hvyclouds Ate esse rosa? Pqp',\n",
              " '@TheEconomist \"Luiz Inácio Lula da Silva está longe de ser o candidato ideal, mas está dentro dos limites da normalidade – e é um democrata. Jair Bolsonaro, por instinto, não é!\".Exatamente isso! O @TheEconomist está corretíssimo em sua avaliação a respeito do cenário eleitoral Brasileiro!',\n",
              " 'O candidato Luiz Inácio Lula da Silva (PT) criticou o presidente Jair Bolsonaro (PL) durante comício em Nova Iguaçu (RJ) na noite de ontem (8).\"Foi uma coisa muito engraçada, que o ato do Bolsonaro parecia uma reunião da Ku Klux Klan.\", afirmou. https://t.co/cJTPkHlWCG',\n",
              " '@hvyclouds E um deles ainda era feio q so o cão',\n",
              " 'quero fazer alguma coisa no cabelo mas n sei oq kkkkkkkk q raiva, deixem sugestões',\n",
              " 'as empresas tão cagando pra sua privacidade e as próprias políticas de privacidade são provas disso',\n",
              " '@biebervies Eu com 17 tomei esporro pq decidi iniciar minha vida sexual com meu namorado, tomando todos os cuidados e buscando um auxílio profissional',\n",
              " 'odeio essas políticas de privacidade que basicamente te obrigam a concordar porque a outra opção é deixar de usar o produto ou serviço que você PAGOU para ter https://t.co/BVU1uGnvVZ',\n",
              " '\"Luiz Inácio Lula da Silva está longe de ser o candidato ideal, mas está dentro dos limites da normalidade – e é um democrata. Jair Bolsonaro, por instinto, não é!\"..Exatamente isso! O @TheEconomist está corretíssimo em sua avaliação a respeito do cenário eleitoral Brasileiro! https://t.co/aJ0zD4oRL1',\n",
              " 'Luiz Inácio sempre teve razão#LulaPresidente https://t.co/hsk8GzQqTl',\n",
              " 'The Economist: \"Luiz Inácio Lula da Silva está longe de ser o candidato ideal, mas está dentro dos limites da normalidade – e é um democrata. Jair Bolsonaro, por instinto, não é\" https://t.co/2No1UrNrIs',\n",
              " '@claudioedantas minha cidade tem cerca de 700 mil habitantes, tenho quase certeza que 65,70% vai votar em Luiz Inácio Lula da Silva',\n",
              " '@IvanValente BOLSONARISMO MATAKu Klux Klan51 IMÓVEIS EM DINHEIRO VIVOJAIR DESUMANOLULA SUBIU GASOLINA CAIUJAIR QUER TIRAR SEU REMÉDIO É DINHEIRO ROUBADOVOTO ÚTIL PARA TIRAR O INÚTIL#LulaNo1ºTurno #Lula13NoPrimeiroTurno #LulaPresidente13Meu Presidente é Luiz Inácio Lula da Silva',\n",
              " '@Janoninho_ MEU PRESIDENTE É LUIZ INÁCIO LULA DA SILVA 13!!!!!!!!#LulaPresidente13 #LulaPresidente2022 #LulaNo1ºTurno #LulaNoPrimeiroTurno',\n",
              " '@brasileira_17_ @nikolas_dm @AndreJanonesAdv BOLSONARISMO MATAKu Klux Klan51 IMÓVEIS EM DINHEIRO VIVOJAIR DESUMANOLULA SUBIU GASOLINA CAIUJAIR QUER TIRAR SEU REMÉDIO COM LULA PELO BRASILVOTO ÚTIL PARA TIRAR O INÚTIL#LulaNo1ºTurno #Lula13NoPrimeiroTurno #LulaPresidente13Meu Presidente é Luiz Inácio Lula da Silva',\n",
              " '@abocadelobo @UOLNoticias BOLSONARISMO MATAKu Klux Klan51 IMÓVEIS EM DINHEIRO VIVOJAIR DESUMANOLULA SUBIU GASOLINA CAIUJAIR QUER TIRAR SEU REMÉDIO É DINHEIRO ROUBADOVOTO ÚTIL PARA TIRAR O INÚTIL#LulaNo1ºTurno #Lula13NoPrimeiroTurno #LulaPresidente13Meu Presidente é Luiz Inácio Lula da Silva',\n",
              " 'quando eu falo q o cirista precisa de ajuda psicológica vcs acham q eu to exagerando..... https://t.co/H9kAZKcEco',\n",
              " 'Lula e Bolsonaro são iguais embora uma lado apenas que morre...👍🏽 https://t.co/of9voYN5j0',\n",
              " 'Lula &amp; https://t.co/mmv6weQe8J',\n",
              " '@Sandra68438639 @CarlosBolsonaro O Luiz Inácio Lula da Silva é de causar inveja nos adversários a popularidade dele Lula é de todos os povos é dos pobres e dos ricos sem preconceito com ninguém é o Lula do povo aquele respeita das crianças até o adulto respeita as mulheres esse é nosso Lula é 13',\n",
              " 'Sou completamente apaixonada pelo o que faço.',\n",
              " 'Boa tarde a todos mas hoje somente eleitores de Luiz Inácio Lula da Silva https://t.co/WPYQop5EZw',\n",
              " '@kimpaim Meu Presidente é Luis Inácio Lula da Silva ❤️🙏✌️',\n",
              " '@LulaOficial \"Ainda bem, AINDA BEM que a Natureza criou esse monstro contra a Humanidade chamando Corona Virus\" - da Silva, Luiz Inácio Lula',\n",
              " '@nikolas_dm @AndreJanonesAdv BOLSONARISMO MATAKu Klux Klan51 IMÓVEIS EM DINHEIRO VIVOJAIR DESUMANOLULA SUBIU GASOLINA CAIUJAIR QUER TIRAR SEU REMÉDIO COM LULA PELO BRASILVOTO ÚTIL PARA TIRAR O INÚTIL#LulaNo1ºTurno #Lula13NoPrimeiroTurno #LulaPresidente13Meu Presidente é Luiz Inácio Lula da Silva https://t.co/X0iOjKHNCd',\n",
              " '@cirogomes BOLSONARISMO MATAKu Klux Klan51 IMÓVEIS EM DINHEIRO VIVOJAIR DESUMANOLULA SUBIU GASOLINA CAIUJAIR QUER TIRAR SEU REMÉDIO COM LULA PELO BRASILVOTO ÚTIL PARA TIRAR O INÚTIL#LulaNo1ºTurno #Lula13NoPrimeiroTurno #LulaPresidente13Meu Presidente é Luiz Inácio Lula da Silva https://t.co/y7v1qoA5dJ',\n",
              " 'qnd eu morrer quero esse video em um telão no meu velório https://t.co/aB5pFaYXt0',\n",
              " 'morrendo queimada nesse sol quente odeio ser pobre',\n",
              " '@bielsampa83 @jeanwyllys_real @cirogomes BOLSONARISMO MATAKu Klux Klan51 IMÓVEIS EM DINHEIRO VIVOJAIR DESUMANOLULA SUBIU GASOLINA CAIUJAIR QUER TIRAR SEU REMÉDIO COM LULA PELO BRASILVOTO ÚTIL PARA TIRAR O INÚTIL#LulaNo1ºTurno #Lula13NoPrimeiroTurno #LulaPresidente13Meu Presidente é Luiz Inácio Lula da Silva https://t.co/vgRauSwAwf',\n",
              " '@bielsampa83 @jeanwyllys_real @cirogomes BOLSONARISMO MATAKu Klux Klan51 IMÓVEIS EM DINHEIRO VIVOJAIR DESUMANOLULA SUBIU GASOLINA CAIUJAIR QUER TIRAR SEU REMÉDIO COM LULA PELO BRASILVOTO ÚTIL PARA TIRAR O INÚTIL#LulaNo1ºTurno #Lula13NoPrimeiroTurno #LulaPresidente13Meu Presidente é Luiz Inácio Lula da Silva https://t.co/d47nTkbVM4',\n",
              " '@carlinhosbrown Carlinhos, meu presidente é @LulaOficial Luiz Inácio Lula da Silva! https://t.co/xGZCvbqOSp',\n",
              " '@DoraKramer Meu Presidente é Luiz Inácio Lula da Silva',\n",
              " '@otempo Meu Presidente é Luiz Inácio Lula da Silva',\n",
              " '@BlogdoNoblat Meu presidente é Luiz Inacio Lula da Silva.',\n",
              " 'aparentemente toda a internet tem menos de 4 anos e não sabe como funciona uma convocação pré copa do mundo tão vivendo isso pela primeira vez',\n",
              " '@BlogdoNoblat Foi pouco.Meu Presidente é Luiz Inácio Lula da Silva',\n",
              " '@crisvector se for responder, só existe uma opção:meu presidente é Luís Inácio lula da Silva',\n",
              " '@pietra__melo1 gosto dos meu vida',\n",
              " 'Que papelão! 👇\"Luiz Inácio Lula da Silva está longe de ser o candidato ideal, mas está dentro dos limites da normalidade – e é um democrata. Jair Bolsonaro, por instinto, não é.\" https://t.co/VbV5FkhqqL',\n",
              " '@angelltx e tu que é encalhada?',\n",
              " '@resounance98 queria chamar atenção e conseguiu vai ver se não já tem ou vai ter um monte de story agradecendo o engajamento hahahaha',\n",
              " '@fabiorabelo28 @leumas811 @cirogomes Depois disso, infelizmente o BRIZOLA faleceu, em 2004. O último voto do BRIZOLA foi em Luiz Inácio Lula da Silva, no segundo turno da eleição de 2002, onde o Ciro NÃO ESTAVA. Fim.',\n",
              " '@ThiagoResiste BOLSONARISMO MATAKu Klux Klan51 IMÓVEIS EM DINHEIRO VIVOJAIR DESUMANOLULA SUBIU GASOLINA CAIUJAIR QUER TIRAR SEU REMÉDIO É DINHEIRO ROUBADOVOTO ÚTIL PARA TIRAR O INÚTIL#LulaNo1ºTurno #Lula13NoPrimeiroTurno #LulaPresidente13Meu Presidente é Luiz Inácio Lula da Silva',\n",
              " 'BOLSONARISMO MATAKu Klux Klan51 IMÓVEIS EM DINHEIRO VIVOJAIR DESUMANOLULA SUBIU GASOLINA CAIUJAIR QUER TIRAR SEU REMÉDIO É DINHEIRO ROUBADOVOTO ÚTIL PARA TIRAR O INÚTIL#LulaNo1ºTurno #Lula13NoPrimeiroTurno #LulaPresidente13Meu Presidente é Luiz Inácio Lula da Silva',\n",
              " 'Lula ou Bolsonaro_ https://t.co/O167581cyf',\n",
              " '@Gattiaosta1 Meu Presidente também é LUIZ INÁCIO LULA DA SILVA ❤ 🇧🇷 🚩',\n",
              " '@AdrianaSchmit20 @MonicaFig1970 Segundo o Luladrão, todos estes dos vídeos são milionários, brancos de olhos azuis e héteros homofóbicos... (porque o corretor está marcando estas duas últimas palavras como se estivessem erradas?)',\n",
              " '@rioru04572980 a regra é clara: se ela começar a falar dos problemas você só ouve, as vezes a pessoa só quer desabafar sem ouvir opiniõessempre pergunte \"quer um conselho?\" antes de falar',\n",
              " '@Rconstantino 🚔🚔🚔CADEIA NO LULADRÃO🚔🚔🚔Em comício na Baixada Fluminense, Lula diz que 7 de setembro de Bolsonaro ‘parecia reunião da Ku Klux Klan’.. Acabou de ofender milhões de Brasileiros. https://t.co/ORpJ4sa0Ut',\n",
              " 'Lula faz discurso de derrotado https://t.co/gWVBZtagS8 via @YouTube',\n",
              " '@rioru04572980 muito sábia, rioru',\n",
              " '@preriliroulai digo politicamente falando',\n",
              " 'gente 😳😳😳 que triste ela nessa situação https://t.co/MdDEemhgFv',\n",
              " 'BOLSONARISMO MATA Ku Klux Klan 51 IMÓVEIS EM DINHEIRO VIVO JAIR DESUMANO LULA SUBIU GASOLINA CAIU JAIR QUER TIRAR SEU REMÉDIO COM LULA PELO BRASIL VOTO ÚTIL PARA TIRAR O INÚTIL #LulaNo1ºTurno #Lula13NoPrimeiroTurno #LulaPresidente13 Meu Presidente é Luiz Inácio Lula da Silva https://t.co/YqdTksTNeS',\n",
              " '51 IMÓVEIS EM DINHEIRO VIVO https://t.co/jtb9krEBSk',\n",
              " 'BOLSONARISMO MATA Ku Klux Klan 51 IMÓVEIS EM DINHEIRO VIVO JAIR DESUMANO LULA SUBIU GASOLINA CAIU JAIR QUER TIRAR SEU REMÉDIO COM LULA PELO BRASIL VOTO ÚTIL PARA TIRAR O INÚTIL #LulaNo1ºTurno #Lula13NoPrimeiroTurno #LulaPresidente13 Meu Presidente é Luiz Inácio Lula da Silva https://t.co/uKbGioQJ1W',\n",
              " 'BOLSONARISMO MATA Ku Klux Klan 51 IMÓVEIS EM DINHEIRO VIVO JAIR DESUMANO LULA SUBIU GASOLINA CAIU JAIR QUER TIRAR SEU REMÉDIO COM LULA PELO BRASIL VOTO ÚTIL PARA TIRAR O INÚTIL #LulaNo1ºTurno #Lula13NoPrimeiroTurno #LulaPresidente13 Meu Presidente é Luiz Inácio Lula da Silva https://t.co/hJ7SIwJauF',\n",
              " 'BOLSONARISMO MATA Ku Klux Klan 51 IMÓVEIS EM DINHEIRO VIVO JAIR DESUMANO LULA SUBIU GASOLINA CAIU JAIR QUER TIRAR SEU REMÉDIO COM LULA PELO BRASIL VOTO ÚTIL PARA TIRAR O INÚTIL #LulaNo1ºTurno #Lula13NoPrimeiroTurno #LulaPresidente13 Meu Presidente é Luiz Inácio Lula da Silva https://t.co/L7uz4akUom',\n",
              " 'BOLSONARISMO MATA Ku Klux Klan 51 IMÓVEIS EM DINHEIRO VIVO JAIR DESUMANO LULA SUBIU GASOLINA CAIU JAIR QUER TIRAR SEU REMÉDIO COM LULA PELO BRASIL VOTO ÚTIL PARA TIRAR O INÚTIL #LulaNo1ºTurno #Lula13NoPrimeiroTurno #LulaPresidente13 Meu Presidente é Luiz Inácio Lula da Silva https://t.co/VvsBdBMLAQ',\n",
              " 'BOLSONARISMO MATA Ku Klux Klan 51 IMÓVEIS EM DINHEIRO VIVO JAIR DESUMANO LULA SUBIU GASOLINA CAIU JAIR QUER TIRAR SEU REMÉDIO COM LULA PELO BRASIL VOTO ÚTIL PARA TIRAR O INÚTIL #LulaNo1ºTurno #Lula13NoPrimeiroTurno #LulaPresidente13 Meu Presidente é Luiz Inácio Lula da Silva https://t.co/nJcCwK9Jtt',\n",
              " 'Luiz Inácio Lula da Silva e realmente o cara. Justíssimo meu eterno presidente @LulaOficial 🙏👏 #LulaPresidente13 #LulaNoPrimeiroTurno https://t.co/4cVjDGHkJ9',\n",
              " 'BOLSONARISMO MATA Ku Klux Klan 51 IMÓVEIS EM DINHEIRO VIVO JAIR DESUMANO LULA SUBIU GASOLINA CAIU JAIR QUER TIRAR SEU REMÉDIO COM LULA PELO BRASIL VOTO ÚTIL PARA TIRAR O INÚTIL #LulaNo1ºTurno #Lula13NoPrimeiroTurno #LulaPresidente13 Meu Presidente é Luiz Inácio Lula da Silva https://t.co/Cg9B1CH0FO',\n",
              " 'BOLSONARISMO MATA Ku Klux Klan 51 IMÓVEIS EM DINHEIRO VIVO JAIR DESUMANO LULA SUBIU GASOLINA CAIU JAIR QUER TIRAR SEU REMÉDIO COM LULA PELO BRASIL VOTO ÚTIL PARA TIRAR O INÚTIL #LulaNo1ºTurno #Lula13NoPrimeiroTurno #LulaPresidente13 Meu Presidente é Luiz Inácio Lula da Silva https://t.co/NmgrWMx3wN',\n",
              " '@leandroruschel Por isso meu voto é Luiz Inácio lula da Silva 13 https://t.co/fpYVJb67Br',\n",
              " 'BOLSONARISMO MATA Ku Klux Klan 51 IMÓVEIS EM DINHEIRO VIVO JAIR DESUMANO LULA SUBIU GASOLINA CAIU JAIR QUER TIRAR SEU REMÉDIO COM LULA PELO BRASIL VOTO ÚTIL PARA TIRAR O INÚTIL #LulaNo1ºTurno #Lula13NoPrimeiroTurno #LulaPresidente13 Meu Presidente é Luiz Inácio Lula da Silva https://t.co/A5AaO8iAIP',\n",
              " 'BOLSONARISMO MATA Ku Klux Klan 51 IMÓVEIS EM DINHEIRO VIVO JAIR DESUMANO LULA SUBIU GASOLINA CAIU JAIR QUER TIRAR SEU REMÉDIO COM LULA PELO BRASIL VOTO ÚTIL PARA TIRAR O INÚTIL #LulaNo1ºTurno #Lula13NoPrimeiroTurno #LulaPresidente13 Meu Presidente é Luiz Inácio Lula da Silva https://t.co/iiTcVO2K6l',\n",
              " \"Antes ser louro jose com dignidade, do que luladrao corrupto e sem dignidade Lula critica 'Bozo' no RJ, compara ato com KKK e chama Hang de 'Louro José' https://t.co/e9pmgL46jj via @UOLNoticias @UOL\",\n",
              " 'BOLSONARISMO MATA Ku Klux Klan 51 IMÓVEIS EM DINHEIRO VIVO JAIR DESUMANO LULA SUBIU GASOLINA CAIU JAIR QUER TIRAR SEU REMÉDIO COM LULA PELO BRASIL VOTO ÚTIL PARA TIRAR O INÚTIL #LulaNo1ºTurno #Lula13NoPrimeiroTurno #LulaPresidente13 Meu Presidente é Luiz Inácio Lula da Silva https://t.co/iwnucdqiOO',\n",
              " '@Bepkororoti2 @andrebrandt @heinekenbr nossa que amargo',\n",
              " '@Corvolord @RomersonCruz @Miltonneves BOLSONARISMO MATAKu Klux Klan51 IMÓVEIS EM DINHEIRO VIVOJAIR DESUMANOLULA SUBIU GASOLINA CAIUJAIR QUER TIRAR SEU REMÉDIO COM LULA PELO BRASILVOTO ÚTIL PARA TIRAR O INÚTIL#LulaNo1ºTurno #Lula13NoPrimeiroTurno #LulaPresidente13Meu Presidente é Luiz Inácio Lula da Silva',\n",
              " 'BOLSONARISMO MATA Ku Klux Klan 51 IMÓVEIS EM DINHEIRO VIVO JAIR DESUMANO LULA SUBIU GASOLINA CAIU JAIR QUER TIRAR SEU REMÉDIO COM LULA PELO BRASIL VOTO ÚTIL PARA TIRAR O INÚTIL #LulaNo1ºTurno #Lula13NoPrimeiroTurno #LulaPresidente13 Meu Presidente é Luiz Inácio Lula da Silva https://t.co/HGMVgNqkIj',\n",
              " 'BOLSONARISMO MATA Ku Klux Klan 51 IMÓVEIS EM DINHEIRO VIVO JAIR DESUMANO LULA SUBIU GASOLINA CAIU JAIR QUER TIRAR SEU REMÉDIO COM LULA PELO BRASIL VOTO ÚTIL PARA TIRAR O INÚTIL #LulaNo1ºTurno #Lula13NoPrimeiroTurno #LulaPresidente13 Meu Presidente é Luiz Inácio Lula da Silva https://t.co/afrXuYce9Z',\n",
              " 'andando por aí com a cara da minha melhor amiga estampada em um adesivo atrás do meu celular.',\n",
              " '@brunochavesba @cirogomes Mano, acorda velho. Para de negar a realidade. Desde 2018 tô decidido que votaria em qualquer um pra derrotar Bolsonaro, tava me preparando pra votar em Dória se fosse o caso. No Ciro seria fichinha.Mas é Lula quem conseguiu construir unidade, isso está nítido.',\n",
              " 'BOLSONARISMO MATA Ku Klux Klan 51 IMÓVEIS EM DINHEIRO VIVO JAIR DESUMANO LULA SUBIU GASOLINA CAIU JAIR QUER TIRAR SEU REMÉDIO COM LULA PELO BRASIL VOTO ÚTIL PARA TIRAR O INÚTIL #LulaNo1ºTurno #Lula13NoPrimeiroTurno #LulaPresidente13 Meu Presidente é Luiz Inácio Lula da Silva https://t.co/arZ5UJKMO0',\n",
              " 'Luiz Inácio Lula da Silva meu eterno presidente 🇧🇷🚩🙏 #LulaPresidente13 e #LulaNoPrimeiroTurno https://t.co/f0v59u3J0o',\n",
              " 'BOLSONARISMO MATA Ku Klux Klan 51 IMÓVEIS EM DINHEIRO VIVO JAIR DESUMANO LULA SUBIU GASOLINA CAIU JAIR QUER TIRAR SEU REMÉDIO COM LULA PELO BRASIL VOTO ÚTIL PARA TIRAR O INÚTIL #LulaNo1ºTurno #Lula13NoPrimeiroTurno #LulaPresidente13 Meu Presidente é Luiz Inácio Lula da Silva https://t.co/CUedABslww',\n",
              " 'BOLSONARISMO MATA Ku Klux Klan 51 IMÓVEIS EM DINHEIRO VIVO JAIR DESUMANO LULA SUBIU GASOLINA CAIU JAIR QUER TIRAR SEU REMÉDIO COM LULA PELO BRASIL VOTO ÚTIL PARA TIRAR O INÚTIL #LulaNo1ºTurno #Lula13NoPrimeiroTurno #LulaPresidente13 Meu Presidente é Luiz Inácio Lula da Silva https://t.co/DvzX3Af393',\n",
              " '@SRamalho60 BOLSONARISMO MATAKu Klux Klan51 IMÓVEIS EM DINHEIRO VIVOJAIR DESUMANOLULA SUBIU GASOLINA CAIUJAIR QUER TIRAR SEU REMÉDIO COM LULA PELO BRASILVOTO ÚTIL PARA TIRAR O INÚTIL#LulaNo1ºTurno #Lula13NoPrimeiroTurno #LulaPresidente13Meu Presidente é Luiz Inácio Lula da Silva',\n",
              " 'BOLSONARISMO MATA Ku Klux Klan 51 IMÓVEIS EM DINHEIRO VIVO JAIR DESUMANO LULA SUBIU GASOLINA CAIU JAIR QUER TIRAR SEU REMÉDIO COM LULA PELO BRASIL VOTO ÚTIL PARA TIRAR O INÚTIL #LulaNo1ºTurno #Lula13NoPrimeiroTurno #LulaPresidente13 Meu Presidente é Luiz Inácio Lula da Silva https://t.co/Zqz7OjN7xt',\n",
              " '@m4ddz7 traduz amor',\n",
              " '@folha BOLSONARISMO MATAKu Klux Klan51 IMÓVEIS EM DINHEIRO VIVOJAIR DESUMANOLULA SUBIU GASOLINA CAIUJAIR QUER TIRAR SEU REMÉDIO COM LULA PELO BRASILVOTO ÚTIL PARA TIRAR O INÚTIL#LulaNo1ºTurno #Lula13NoPrimeiroTurno #LulaPresidente13Meu Presidente é Luiz Inácio Lula da Silva',\n",
              " '@m4ddz7 do que diabos vc ta falando',\n",
              " '@_Makiziinha AGR VEM AI SOFRER NA HAVEN',\n",
              " 'caras eu realmente fui dormir antes das 20hacordei de 5:30, voltei a dormir e fiquei acordando de 1 em 1h até dar 11:50 que que issoe como dorme viu',\n",
              " 'BOLSONARISMO MATAKu Klux Klan51 IMÓVEIS EM DINHEIRO VIVOJAIR DESUMANOLULA SUBIU GASOLINA CAIUJAIR QUER TIRAR SEU REMÉDIO COM LULA PELO BRASILVOTO ÚTIL PARA TIRAR O INÚTIL#LulaNo1ºTurno #Lula13NoPrimeiroTurno #LulaPresidente13Meu Presidente é Luiz Inácio Lula da Silva',\n",
              " 'CUSCUZ CLÃ: Lula tenta ofender manifestantes do 7 de setembro, mas vira ... https://t.co/oDWjVJp8aT via @YouTube kkkkkkkkkkkkk, esse lixo não conhece nem a língua da própria pátria.',\n",
              " '@Gabsz_4 @rrezethuthuco pede a benção p mae, filha',\n",
              " '@_Makiziinha n mulher eu n acreditei nessa virada n mas qnd deu overtime eu surtei aki',\n",
              " '@LulaOficial Esqueceu desta fala hipócrita: \"Ainda bem\\' que \\'monstro\\' do coronavírus veio para demonstrar necessidade do Estado\"Luiz Inácio Lula da Silva.',\n",
              " '@desmentindobozo BOLSONARISMO MATAKu Klux Klan51 IMÓVEIS EM DINHEIRO VIVOJAIR DESUMANOLULA SUBIU GASOLINA CAIUJAIR QUER TIRAR SEU REMÉDIO COM LULA PELO BRASILVOTO ÚTIL PARA TIRAR O INÚTIL#LulaNo1ºTurno #Lula13NoPrimeiroTurno #LulaPresidente13Meu Presidente é Luiz Inácio Lula da Silva',\n",
              " '@SF_Moro Kkkkk já vem falar no Lula kkkkkkkkkkkk teu adversário e Álvaro Dias kkkkk mas pra alguém te ver tem que falar no melhor presidente do Brasil Luiz Inácio Lula da Silva',\n",
              " '@aniery9 O SEU CU https://t.co/1KktciyF2F',\n",
              " 'tentando descobrir que horas eu fui dormir ontem',\n",
              " 'que ódio sonhei que tava comendo um pacote de fofura de cebola e quando tava chegando no final no fundo do pacote tinha uma BARATA novo medo desbloqueado ☑️',\n",
              " 'Lula quer a igualdade https://t.co/f675brUbDI',\n",
              " '@cartacapital @serendipityja BOLSONARISMO MATAKu Klux Klan51 IMÓVEIS EM DINHEIRO VIVOJAIR DESUMANOLULA SUBIU GASOLINA CAIUJAIR QUER TIRAR SEU REMÉDIO COM LULA PELO BRASILVOTO ÚTIL PARA TIRAR O INÚTIL#LulaNo1ºTurno #Lula13NoPrimeiroTurno #LulaPresidente13Meu Presidente é Luiz Inácio Lula da Silva',\n",
              " '@BlogdoNoblat Meu Presidente é Luis Inácio Lula da Silva ❤️🙏✌️',\n",
              " 'O ânimo que eu tô pra essa prova é ZERO https://t.co/rHIGCB2PIL',\n",
              " 'Luiz Inácio Lula da Silva este é o nosso futuro presidente 🇧🇷🚩🙏 #LulaPresidente13 #LulaNoPrimeiroTurno https://t.co/64xZbPs4bB',\n",
              " '@melcserolff DE SER FELIIIIZZZZ',\n",
              " '@BlogdoNoblat Vai encher de negros igual no casamento do luladrão 😂😂 #LulaNuncaMais #LulaLadrão https://t.co/LJkrLKglRK',\n",
              " 'EU SOU DE NOVA IGUAÇU, E O POVO DAQUI É LUIZ INÁCIO LULA DA SILVA, NÓS MULHERES TRABALHADORAS E NÃO \"PRINCESAS\" OCIOSAS QUE VIVEM EM \"CASTELOS ÀS CUSTAS DAS TRABALHORAS\" VAMOS ELEGERLUIZ INÁCIO LULA DA SILVA NO 1° TURNO https://t.co/zQc3a4CuNz',\n",
              " '@cegadede olhei aqui e parece que as opções de 256 GB são vendidas e entregues pela fast shop... não sei porquê mas esporadicamente e aleatoriamente alguns produtos Apple entram em promoção por lá (foi assim que comprei meu iPhone em loja física)',\n",
              " 'Foda se a porra do teto seus arrombado https://t.co/IAdrbSSJ7H',\n",
              " '@TheEconomist Luiz Inácio Lula da Silva é um bandido com sonhos de ditador, vcs o querem pq ele vai entregar a Amazônia para vocês.',\n",
              " '@cegadede essa cor é horrível',\n",
              " 'meteram 8 rounds seguidos',\n",
              " '@renatonob BOLSONARISMO MATAKu Klux Klan51 IMÓVEIS EM DINHEIRO VIVOJAIR DESUMANOLULA SUBIU GASOLINA CAIUJAIR QUER TIRAR SEU REMÉDIO COM LULA PELO BRASILVOTO ÚTIL PARA TIRAR O INÚTIL#LulaNo1ºTurno #Lula13NoPrimeiroTurno #LulaPresidente13Meu Presidente é Luiz Inácio Lula da Silva',\n",
              " '@aniery9 FODASE ESTUDAR VOU IR VER',\n",
              " '@dontstarboy é pq viram q vc é inofensiva',\n",
              " 'Como desligar sentimentos específicos Google',\n",
              " 'BOLSONARISMO MATAKu Klux Klan51 IMÓVEIS EM DINHEIRO VIVOJAIR DESUMANOLULA SUBIU GASOLINA CAIUJAIR QUER TIRAR SEU REMÉDIO COM LULA PELO BRASILVOTO ÚTIL PARA TIRAR O INÚTIL#LulaNo1ºTurno #Lula13NoPrimeiroTurno #LulaPresidente13Meu Presidente é Luiz Inácio Lula da Silva',\n",
              " '@TheEconomist Luiz Inácio Lula da Silva é meu presidente ideal. @TheEconomist não vota, e nos eleitores do Lula não nos importamos com a opinião do jornal. #LulaNoPrimeiroTurno Traduz aí!',\n",
              " '@OGloboPolitica 🚔🚔🚔CADEIA NO LULADRÃO🚔🚔🚔Em comício na Baixada Fluminense, Lula diz que 7 de setembro de Bolsonaro ‘parecia reunião da Ku Klux Klan’.. Acabou de ofender milhões de Brasileiros https://t.co/BY6cWpkGll',\n",
              " '@Basiliarodri O moça....qual é o sentimento de pagar mico a nível mundial? Acredito que vc deve estar ganhando muito dinheiro 💸 do Luladrao... parabéns pra vc.',\n",
              " 'Meu Deus, olha o que o @AndreJanonesAdv fez, agora ele foi longe demais! https://t.co/CDbcDyXngo',\n",
              " '@LulaOficial @geraldoalckmin Meu Presidente é Luis Inácio Lula da Silva ❤️🙏✌️',\n",
              " 'SAIU A QUINTA TEMPORADA DE COBRA KAI PQP',\n",
              " '@Janoninho_ Luiz Inácio Lula da Silva 1️⃣3️⃣ ❤️🥰 https://t.co/v9Z8fVDi3w',\n",
              " \"Até a liberal 'The Economist' reconhece que Lula é muito melhor do que Bolsonaro!Luiz Inácio Lula da Silva está longe de ser o candidato ideal, mas está dentro dos limites da normalidade – e é um democrata. Jair Bolsonaro, por instinto, não é https://t.co/XNebNnuDq4\",\n",
              " '@joohviegas O mal do fofoqueiro é esse. Todo mundo pensa que tem a notícia na ponta da língua ahhhahaha https://t.co/tIXk2iX6zG',\n",
              " 'Um homem que defendia o ex-presidente Luiz Inácio Lula da Silva (PT) foi morto nesta quinta-feira (8) por um apoiador do presidente Jair Bolsonaro (PL) após uma discussão em Confresa (a 1.160 quilômetros de Cuiabá).https://t.co/InsKq6q255',\n",
              " 'Ouvinte da JP NEWS sobre falar LULA compara manifestação do 7 Setembro 22 com um grupo de extermínio dos EUA a KU KLUX KLAN, famosa (KKK),cadê o STE/STF Alexandre de Moraes defensor da Constituição sobre falas agressivas e comparações CRIMINOSAS ao BRASIL e seu POVO? https://t.co/nWQBcnZPqf',\n",
              " '“DIPLOMÁTICO, ESTADISTA” | “Professor de Dino”, Luís Inácio Lula da Silva compara atos de 7 de Setembro com reunião do grupo Ku Klux Klan https://t.co/hKbPf9mgDs',\n",
              " '@Miltonneves Em comício na Baixada Fluminense, Lula diz que 7 de setembro de Bolsonaro ‘parecia reunião da Ku Klux Klan’.. Acabou de ofender milhões de Brasileiros. 🚔CADEIA NO LULADRÃO. 🚔 https://t.co/UymWQYebKd',\n",
              " '@gabrylhant QUEEEM',\n",
              " 'Momento em que o presidenciável Luiz Inácio Lula da Sila (PT) se prepara para discursar no evento “Evangélicos com Lula e Alckmin”, em São Gonçalo, Rio de Janeiro, onde busca o apoio dos religiosos.© Vídeo: Sputnik / Lucas Rocha https://t.co/NiZvS1ciEG',\n",
              " '@matheuskrk hmmmmmmm pior q eh la memo q eu vo!!tinha esquecido q tem sorveteria laaa',\n",
              " 'Sem ter o que falar o LULA compara manifestação do 7 Setembro 22 do povo Brasileiro com um grupo de extermínio dos EUA a KU KLUX KLAN, famosa (KKK),cadê o STE/STF o Alexandre de Moraes defensor da Constituição sobre falas agressivas e comparações CRIMINOSAS ao BRASIL e seu POVO? https://t.co/GnilzoFHub',\n",
              " '@matheuskrk e eu faço todos 😋😋',\n",
              " '@jairmearrependi \"Meu p4u na sua 🖐🏼!\"',\n",
              " 'ontem no local q eu estava tinha pelo meno 5 homem igual',\n",
              " '@_rafae1a Amg o Lulindo ano que vem vai fazer outra reforma tamo de boa https://t.co/zv4G9iQmKU',\n",
              " 'obvio q o atual dela eh igual ao exem curitiba todo mundo eh fisicamente igual',\n",
              " '@emersin6 gostosão',\n",
              " 'Mas é isso, né. Quando as pessoas falam \"não porquê ela foi um exemplo não sei que lá\", bom, ela fez o que tinha que fazer no papel que ela nasceu pra fazer. Pro bem e pro mal. https://t.co/gYdMxQIWVa',\n",
              " 'Ku klux klan , segundo Luiz Inácio Lula da Silva https://t.co/ovN00b0HAQ https://t.co/QSurCvZ59Y',\n",
              " '@AndreJanonesAdv Que susto kkkkkk',\n",
              " 'o luiz inacio lula da silva calado eh um poeta',\n",
              " 'Que seleção mais fraca em... Bora passar vergonha em mais um mundial.',\n",
              " '@oiIuiz Eleitor do LULADRÃO batendo em uma mulher na rua, em Londres',\n",
              " 'O meu presidente é o Luiz Inácio Lula da Silva @LulaOficial . E o seu? https://t.co/m4RVhNzBzp',\n",
              " 'decidi que vou postar a cada 10 dias idos, sim https://t.co/Icmqg6Xbxi',\n",
              " 'algum usuário de drogas em pó online pra me doar um mini ziplock pra que eu guarde um pouco de lembrança? 📣',\n",
              " 'E alguém em sã consciência acredita que o Luladrão sabe o que significa Ku klux klan.É sabido por todos que o Lula não sabe escrever.Portanto, tudo que ele tuita , na realidade é alguém escrevendo para ele.Simples assim. https://t.co/m7UgbBNxlV',\n",
              " 'suspeito ter trazido comigo 5 kg de papel picado do show da dua',\n",
              " 'O ato do Bolsonaro parecia reunião da Ku klux klan, não tinha negro, não tinha pardo, não tinha pobre, não tinha trabalhador.Luiz Inácio Lula da Silva. Setembro de 2022',\n",
              " '@cirogomes Meu presidente é Luiz Inácio Lula da Silva e será o seu também depois das eleições.',\n",
              " 'essa galera que reclama do BORA BILL BORA MUIÉ DO BILL BORA FI DO BILL é a mesma que gargalhava com essemenino é o incrível vídeo da pifaizer https://t.co/czqhtUK7LA',\n",
              " 'vontade de saí come sorvete ....',\n",
              " '@ribeirotrilhas Não mataram ele não?',\n",
              " 'Everton Ribeiro foi meme https://t.co/SS4P4yNRaT',\n",
              " '@randolfeap Te deixou magoadinho né, pra que ele ir aí, para o pessoal vaiar e outra; Luladrao já Presidente, assim quê vcs chamam.',\n",
              " 'CALMA LUÍS INÁCIO LULA DA SILVA 🤣 https://t.co/IYG7zyICSs',\n",
              " 'NOS SABEMOS SIM, LULA É O CHEFE, LULADRAO, OGRO, NINE, VELHO NA IDADE E NAS IDEIAS. https://t.co/BLhpAQWAjA',\n",
              " 'a dieta americana é baseada em milho ultraprocessado https://t.co/evQqKrMagW',\n",
              " '@pretademaiss caralho, eu AMAVA essa desgraçada kkkkkkkkk',\n",
              " '@Marcos29409754 @thewallsroom @centralreality Tomara que faça tudo isso mesmo! Meu presidente é Luiz Inácio Lula da Silva',\n",
              " '@AndreJanonesAdv Eu e minha casa serviremos a André Janones e Luiz Inácio Lula da Silva',\n",
              " 'Eu e minha casa serviremos a André Janones e Luiz Inácio Lula da Silva@AndreJanonesAdv @LulaOficial https://t.co/fqXBLKI7Dk',\n",
              " 'O candidato a presidência Luiz Inácio Lula da Silva (PT) afirmou que, se eleito, retomará a política de reajuste real do salário mínimo acima da inflação.https://t.co/aUNwS3arvw',\n",
              " '@orathiago 2. nunca trabalhar https://t.co/Ij5hX0bRsT',\n",
              " '\"Um grito do Ipiranga, às avessas, onde nada se inicia e um pesadelo se acaba. O fracasso do país deles, nosso inquilino, já está dado.\" https://t.co/IPyRcUmWBo',\n",
              " '@vayacondyos Porteiro do 0 pdl hjjj 🙏🏻🙏🏻🙏🏻',\n",
              " 'precisamos falar sobre ainda falar \"gado\" em 2022',\n",
              " 'de tempos em tempos prendem um lula, mas assim como ele, ela também voltou. AMÉM. https://t.co/DxLFJuv9ku',\n",
              " 'nunca vi mas imaginei e achei estranho igual https://t.co/sWRRXXZYkt',\n",
              " '@AndreJanonesAdv @CarlosBolsonaro Então resumindo meia dúzia de vagabundo 🚩',\n",
              " '@luizpasdar eu quando o fetch the bolt cutters caiu de 100 pra 98 no metacritic https://t.co/Ij5hX0cpir',\n",
              " '@larivieirads Sou viciado nessa música \\U0001f979\\U0001faf6',\n",
              " '@annihi18 Meu reinado durou apenas 6 anos',\n",
              " '@lsnossoluanjo é pro amistoso',\n",
              " '@marcusOvinicius @UOLNoticias Então, não é Gestapo não. Pq é um fato já né! 51 imóveis em dinheiro vivo. Até agora nenhuma resposta! Seu pano já está sujo, precisa trocar viu! MEU PRESIDENTE É LUIS INACIO LULA DA SILVA E, LOGO, SERÁ O SEU TB! ACEITA! 😘',\n",
              " 'tao gravando campanha aqui no terminalvou aparecer atrás fzd L',\n",
              " 'Se vocês estavam sonhando com o hexa, pode parar de sonhar agora 😂',\n",
              " '@TheEconomist Luiz Inácio Lula da Silva é sim o candidato ideal para o povo. Quando presidente do país, promoveu inclusão dos mais pobres, economia do país cresceu e promoveu bem estar a todos. Natural que o mercado não o ache ideal, já que prefere a desigualdade extrema.',\n",
              " '@SF_Moro Sabe quem teve lugar de honra quando foi visitar a rainha??O FUTURO PRESIDENTE LUIZ INÁCIO LULA DA SILVASAUDADES DE QUANDO O PAÍS ERA RESPEITADO https://t.co/wqyPOygFij',\n",
              " '@marcusOvinicius @UOLNoticias Você tem alguma deficiência cognitiva? Porque está muito claro que o dinheiro chegou a ele por dinheiro vivo, sem declaração de origem, e a compra foi feita por meio de depósito em dinheiro vivo na conta do vendedor. MEU PRESIDENTE É LUIS INACIO LULA DA ULVA E SERA O SEU TB! 😘',\n",
              " 'Nosso futuro presidente Luiz Inácio Lula da Silva é NOTA MILLLLL é 1️⃣3️⃣ É NO PRIMEIRO TURNO E NÃO TEM PRA NINGUÉM 1️⃣3️⃣1️⃣3️⃣1️⃣3️⃣1️⃣3️⃣🚩⭐❤️❤️❤️❤️❤️❤️ https://t.co/JPIryjm6wT',\n",
              " 'não aguento maaaaaaaaais',\n",
              " '@SF_Moro Vai estudar pra OAB Moro',\n",
              " '@rodrigueesgabs Gabizinho vem aiiii',\n",
              " 'Cade o coutinho na convocação',\n",
              " 'Um homem foi assassinado na noite de 7/9 com golpes de faca e machado, em discussão por questões políticas. Ele era apoiador do candidato Luiz Inácio Lula da Silva. O autor do crime é apoiador de Jair Bolsonaro. Informações da Polícia Civil de MT. https://t.co/AMNbab9UWS',\n",
              " '@annihi18 Eu gostei daquele funk',\n",
              " 'Um apoiador do presidente da República Jair Bolsonaro (PL) foi preso ontem (8/set) pela morte de um colega que defende o candidato a presidente Luiz Inácio Lula da Silva, no município de Confresa (MT).',\n",
              " '@uno1994azul Eu escutei aquela porra, foi do nada',\n",
              " 'Um excelente questionamento https://t.co/ddj8f1FLgX',\n",
              " 'e eu que no domingo falei p @karolinemota_ que bom msm era o Ceará music voltando E HOJE ELES ANUNCIARAM QUE VAI VOLTAR \\U0001f979',\n",
              " '@cirogomes Pelo amor de Deus Ciro',\n",
              " '@Janoninho_ Luiz Inacio Lula da Silva♥️♥️🇧🇷',\n",
              " 'Como pode alguém sonharO que é impossível saber?Não te dizer o que eu pensoJá é pensar em dizer',\n",
              " 'ah tenha santa paciência 🙄',\n",
              " 'meu sonho chegar na ufac',\n",
              " 'A mudança de energia no vídeo. O cara é craque nas redes sociais. PT dê toda a liberdade para o homem trabalhar https://t.co/QFxfoqi41V',\n",
              " '@salles10_salles @igorsemnumeros @saritacoelho @UOLNoticias dez mil só pelo cargo só se for kkkk ela ganha muito mais do presidente com certeza',\n",
              " '@cirogomes Pra cima deles, Cirão da Massa! Só Ciro Gomes pode derrotar o Bolsopetismo! O mais inteligente, preparado e ficha limpa! #CiroPresidente12',\n",
              " '@randolfeap @julianadalpiva Assim como 51MM no apartamento do Geddel!!! Hauhauhau!!! Ops… ele apoia o Lula então pode!!! Hauhauhau!!! Pau que da em Chico da em Francisco!!! Ciro 12!!! Cirao da Massa!!!',\n",
              " '@LulaOficial Esse não é você então!!! Não é serio e não cuida de ninguém, pois chamar quem discorda de você de integrante da Ku Klux Klan, reflete sua ignorância e o ódio que tenta!esconder!!! Você que criou o “nós contra eles”!!! Ciro 12!!! Cirão da Massa!!!',\n",
              " 'Pode vir ptzada, o Cirão da Massa ta preparado! A linchação virtual não vai funcionar contra o mais preparado, eu voto Ciro. https://t.co/URAZx8IfQi',\n",
              " 'Quem está abatido por questões eleitorais, talvez não se deu conta da massa de gente que começou a estudar o Brasil por causa de Ciro Gomes, concordando ou não com ele.Esse movimento não acaba aqui.',\n",
              " '@ptbrasil @LulaOficial Em peso?!?! Hauhauhau!!! Mentem tanto que nem se importam mais!!! Hauhauhau!!! Foto com meia dúzia de gatos pingados!!! Ciro 12!!! Prefiro Ciro!!! Cirao da Massa!!!',\n",
              " '@problemari @FilipeRet Maioria dos esquerdistas que conheço dizem votar no Ciro, Bolsonaro levará no primeiro turno com ajuda do Cirão da massa... kkk',\n",
              " '#NemAlckminNemBolsonaro É Ciro PDT 12!Chega de cumplicidade com a corrupção sistêmica do Petê! Abram o olho👁, ainda dá tempo, mude, venha com o Cirão da massa!🍀🌹🇧🇷🌹',\n",
              " '@fadetolupe @JaqueGrohalski E quem disse que vou votar no bonoro, vou votar no Ciro Gomes mesmo, o Cirão da massa.',\n",
              " '@ciro_nogueira kkkkkkkkkkkkkkkkkkkkkkkk só trouxa acredita em vc cirão da massa, vc é falso igual nota de 3 reais https://t.co/kvV1ozOzfM',\n",
              " '@atretulio @botecodojb @cirogomes Alguém já sabe informar se o Ciro já saiu do bunker de resistência em Ouro Preto?Ou será que tem aeroporto com conexão internacional direto oara País?Fico confuso, não sei se era resistência ou rota de fuga.O Cirão da Massa pode se esperar de tudo.. https://t.co/YOiqtIonJb',\n",
              " '@chico_pinheiro @LulaOficial Vamos todos votar no Ciro Gomes (Cirão da Massa)',\n",
              " '@JuniorPerim @amaurichamorro Gente comum. Pessoas que querem viver, comer, trabalhar, sonhar. O Cirao da massa era mais próximo desse povo. Tenho certeza que o Ciro tem projetos incríveis. Mas essa campanha que ele vem fazendo é triste. O salvador da pátria ? O iluminado?E de que lado ele fica , caso perca?',\n",
              " '@andre_dcb @leginCs @Ticostacruz Calma, deixa ver se entendi, Ciro pode vencer em 2022?Mano, eu não tenho nem como argumentar sobre isso, é realmente insano.De todo modo respeito e acho que seu voto em Ciro é legítimo e de direito.Boa sorte ao Cirão da massa e ao Lula.👏💪',\n",
              " '@cirogomes Um debate que eu gostaria de ver era um Cirão da Massa x Moro. Será possível? Um legitimo hooligan super funcional versus um ex-juiz ladrão medíocre. Ciro ganharia de lavada esse debate. Eu shipo (shipo é muito cringe em 2022?)',\n",
              " '@Savagefiction Vcs petistas ñ podem esquecer q os eleitores do Ciro Gomes, ao contrário da massa petista,é politizada,logo,essa estratégia usada por vcs para difamar Ciro está longe de servir como voto útil no 2 turno!O perfil desse eleitor vai preferir votar nulo no 2 turno do q votar no lula.',\n",
              " '@centraldociro @JoBragaBR @LulaOficial Cirão da Massa ainda ta aliviando pro Loola... Quando ele criar coragem de enfrentar o Loola a gente sobe a moralzinha dele... Bolsonaro não é o problema do Ciro, o PT sim... #Bolsonaro2022',\n",
              " 'Quem tem amigo tem tudo né ciro! @cirogomes Vai ajudar teu amigo a ir pro segundo turno destroçando a imagem do @PDT_Nacional depois vai para paris!Cirão da massa, da massa nojenta e fascista!Como eu me arrependo de ter apoiado em 2018! https://t.co/xH0xH36yRO',\n",
              " 'Cirão da massa! CIRO 12 NELES! https://t.co/nKDlXhE48P',\n",
              " 'SATANÁS,BOLSONARO e A BESTA BOLSONARISTA da TERCEIRA VIA de QUATRO CABEÇAS, CIRO GOMES, SIMONE TEBET, SORAYA e FELIPE DAViLA COM SEU PROJETO POLITICO de DISSEMINAÇÃO de ÓDIO e EXTERMÍNIO de MASSA https://t.co/MVyeUxxOyE',\n",
              " '@cynaramenezes Mas vai falar o que do Ciro?? O Ciro Gomes tá todo dia nas sabatinas da vida provando que não é corrupto e ao mesmo tempo apontando quem é.Já o Luís só sabe falar de Paris e fica fazendo o pix pra essa gente odienta difamar o Cirão da massa e também para fazer terror eleitoral.',\n",
              " '@Normose_ nem falei pq cê é chorão demaisrelaxa, cara, tava só brincando contigo, não pago suas contasentão, cirão da massa tem razão...Normose eu te respeitaria mais se tu apoiasse o Ciro, bixo. Sem condições desse Lula, véi. É... assim, sem condições.',\n",
              " '@AnarcoFino @cirogomes nunca entendi o candidato sem voto ser chamado de Cirão da massa.Durante a campanha de 2018 convivendo com a militância entendi do que se tratava.É Ciro da massa fecal da internet, militância do mesmo nível da turma do Carluxo.',\n",
              " '@massa_cirao O filho não assisto programa da @JovemPanNews LIXO dos LIXOS, só do Ciro ter ido lá, mostra que ele é bolsonarista',\n",
              " '@massa_cirao @BlogRogerioSR O Ciro é a segunda opção da esquerda que vota no Lula. Ele herdaria naturalmente todos os votos se conseguisse ir a um eventual segundo turno com o Bolso. O problema dele é que ele parece desprezar o nosso voto, o que é um erro.',\n",
              " '@massa_cirao @BlogRogerioSR E o Ciro se coloca a todo momento como antiLula e antiPT, ou seja, os bolsonaristas são alvos da campanha cirista. Ele precisa se expor à \"seleta\" audiência do Pânico.',\n",
              " '@massa_cirao @BlogRogerioSR Não é questão de rabo preso. Ciro precisa de votos bolsonaristas se quer chegar a ter a chance de alcançar o pelotão da frente. Para ele é tudo ou nada. Já Bolsonaro e Lula podem se dar ao luxo de escolherem onde querem se expor. Não há a necessidade de se colocar como alvo à toa',\n",
              " 'SATANÁS, CIRO GOMES e A BESTA BOLSONARISTA da TERCEIRA VIA está com sede de SANGUE. APOLOGIA ao USO de ARMAS, POLÍTICA de DISSEMINAÇÃO de ÓDIO e EXTERMÍNIO de MASSA é a BANDEIRA desta CAMPANHA POLÍTICA #LulaPresidente13 #LulaNo1ºTurno #VamosJuntosPeloBrasil #BOLSONAROGENOCIDA https://t.co/kXVf4sU7Nl',\n",
              " '@L3itadas_l03n_ Quem disse que sou morista? Já votei no PT, já votei no Bolsonaro, já fui massa de manobra da esquerda e direita, hoje voto no Ciro Gomes, mas jamais serei Cirista, cansei de ser otário!Ainda? Então prescreveu? A corrupção do PT também prescreveu?',\n",
              " '@diariodopoder Cirão da massa quer controlar preço é? Ele vai criar também os fiscais do Ciro?Onde foi que vimos isso?🧐',\n",
              " '@GadoDecider Eu gostaria de ver um segundo turno entre o Cirão da Massa contra o Loola.Ciro Cresce🌹 e assusta os ruminantes.🐂',\n",
              " '@cirogomes Vendo Ciro Gomes reclamar de paulo guedes dá asno. Se tornou um bolsonarista de quinta categoria...um triste fim a um político mediano. Está na hora de quem vota em Ciro observar a traição em seus eleitores e dar o voto util em massa a Lula 13.',\n",
              " 'A Conta é simples: 10% do 🦑 e 7% do 🤡 migrando pro Cirão da Massa é o suficiente pra Ciro no Segundo Turno…Você aí que sabe que o Ciro é a melhor opção, mas quer votar no Lula só pra tirar o Bozo do 2º turno, eu te digo: NÃO PRECISA DISSO, É SO VOTA NO CIRO! @cirogomes https://t.co/8v0TwBbuwK',\n",
              " 'Nosso maior inimigo nesse momento se chama bozo, que rima com esgoto. Ciro vai passar esse cocô 💩 pelo bem da democracia. E teremos um segundo turno entre o \"painho\" e Cirao da massa. Deixa pra brigar com petista depois. Agora é #ForaBolsonaroCorrupto #PrefiroCiro12 1️⃣2️⃣🌹💛',\n",
              " 'Tebet e DÁvila são bons candidatos, mas não são conhecidos do povo (da massa em si). Deveriam se unir com Ciro, um pacto pró Brasil, para derrotar o que há de pior: Lula e Bolsonaro.Não apoiar Ciro Gomes é dispersar votos em prol de Lula e de Bolsonaro.',\n",
              " '@Beminas1 @cirogomes Segundo turno vai ser Cirão da massa e lula, sendo que Ciro Gomes será nosso presidente para quebrar essa polarização, com foco no crescimento do país e de seus cidadãos como um todo. #CiroPresidente12',\n",
              " '@cirogomes Ir a este programa falar mal do Lula é como ir na quadra da Gaviões e descer o pau na Mancha Verde.Ladeira abaixo o \"Cirão da Massa\". Pena (e pior que li a porr@ desse livro aí), era um bom quadro.Prefiro Ciro ajudando os Prefiro Tiro.',\n",
              " 'CIRO GOMES DETONA PAUTAS DA ESQUERDA NO PÂNICO\"Há três anos o povo foi em massa às ruas do Chile pedindo uma nova Constituição contra o legado de Pinochet. Aí fizeram a Constituição cheia de peculiaridades identitárias,',\n",
              " 'CIRO GOMES DETONA PAUTAS DA ESQUERDA NO PÂNICO\"Há três anos o povo foi em massa às ruas do Chile pedindo uma nova Constituição contra o legado de Pinochet. Aí fizeram a Constituição cheia de peculiaridades identitárias,',\n",
              " 'A maioria aqui do twitter que votou no Ciro Gomes em 2018 tem um ódio/nojo mortal dele até hoje.Tô apenas no aguardo do surto das pessoas que vão votar nele em 2022 quando perceberem finalmente que esse personagem do Cirão da Massa é apenas uma fachada.',\n",
              " 'Ciro Gomes trabalhando a favor do bolsonarismo, da desinformação e da picaretagem. Nada de novo sob o sol. Parabéns, Cirão da Massa! Nota zero. https://t.co/3brcKlKyaq',\n",
              " 'Mais uma aula de ciências política, direito, economia, história e ética com Cirão da Massa! Ciro Esmaga! #CiroNoPanico#PrefiroCiroPresidente12',\n",
              " 'Cirão da massa está no #CiroNoPanico agora, assista através da Ciro TV! Meu presidente! #CiroPresidente12 #militanciaPDT',\n",
              " '@gisellebezerra Ciro tá cada vez mais coerente com a Jovem Pan. Lembro muito do Cirão da massa descendo a madeira na Globo quando o anti petismo era moda. Agora vai em emissora anti vacina, golpista passar um pano geral, chamar de amigo. Tchutchuca do Tutinha.',\n",
              " 'E de repente passa um cara de carro aqui na porta apontando o dedo e dizendo em tom ameaçador:- Vota no Ciro! Vota no Ciro!E uma voz ao fundo gritou:- Cirão da Massa',\n",
              " 'Minha declaração de wellcome é está: BESTA BOLSONARISTA da TERCEIRA VIA de QUATRO CABEÇAS é RESPONSÁVEL pela POLÍTICA de DISSEMINAÇÃO de ÓDIO e EXTERMÍNIO de MASSA promovidos por CIRO GOMES, SIMONE TEBET, SORAYA e FELIPE DAViLA todos são responsáveis pela Ascensão do GENOCIDA. https://t.co/iybmy64r9T',\n",
              " 'POLÍTICA de EXTERMÍNIO de MASSA e DISSEMINAÇÃO de ÓDIO do GOVERNO BOLSONARO e SUA BESTA BOLSONARISTA da TERCEIRA VIA de QUATRO CABEÇAS CIRO GOMES SIMONE TEBET SORAYA e FELIPE DAViLA https://t.co/BZWbE8UWcc',\n",
              " '@AnaPaulaMatosBA Eu vendo a nossa futura vice usar a tag CIRO CRESCE me enche de orgulho!O grupinho Cirão da Massa deu muito certo! ♥️',\n",
              " '@caiocamilosilva @CarlosJosPeres2 @renataloprete @Bradesco Irmão , o Ciro é escondido pela grande mídia faz tempo. Se não fosse o debate na Band, a sabatina no JN e a Ciro tv, o Cirão da massa não teria muita visibilidade no país.🌹🍀',\n",
              " 'cirão da massa tá pistola hjHABLA CIRO #CiroTV',\n",
              " '@Ronaldotarica @semdistorcao @fredmelopaiva Não tenho como discordar da sua fala, matematicamente ela é impecável.E só pra reforçar, não tenho absolutamente nada contra o Ciro e acho perfeitamente legítimo vcs lutarem por sua eleição. Desejo sorte ao Cirao da massa',\n",
              " 'Me parece que o Cirão da Massa cresce! CIRO CRESCE! Vem com nós! #CiroeAnaPaula #CiroPresidente12 https://t.co/s02TneaN9y',\n",
              " '@ciro_nogueira Cirao da Massa (por ora, oportunisticamente, bolsonarista), você também é bem fraco em interpretação gráficarsrs',\n",
              " '@tarritaboni @EltonPsantos12 Ciro Ferreira Gomes, também conhecido como Cirão da Massa!! https://t.co/3gz82SYFka',\n",
              " '@gleisi Será que pegou emprestado com o PT depois de tantos desvios?!?!? Hauhauhau!!! PTista é um bicho engraçado, são PHDs em corrupção, desvios e afins e jogam pedras nos outros!!! Nem um nem outro!!! Ciro 12!!! Cirão da Massa!!!',\n",
              " '@AndreJanonesAdv DataFolha?!?!? Hauhauhau!!! Pesquisa feita em Nárnia ou no Fantástico Mundo de Bob!!! Lula em queda e Bolsonaro estagnado!!! E vocês acreditam nesses dois?!?!? Ciro 12!!! Cirão da Massa!!! O único com proposta!!! E parem de \"roubar\" suas idéias!!!',\n",
              " '@AndreJanonesAdv E pah?!?!? O que?!?!? Se o cara ganhar vai continuar o lesado!!! Na base da caneta mas vai!!! E ai acde o seu pah?!?!? Deixa de ser ridículo!!! Fica igual um bobo da corte fazendo palhaçada!!! Nem um nem outro!!! Ciro 12!!! Cirão da Massa!!!',\n",
              " 'Se o Datafolha mostrou Ciro com aumento de +2 pode ter certeza q é mais do q isso tipo +8 ou +9, de qualquer modo Ciro já tá na casa dos 28% Cirao da Massa Ciro cresce !!!! #CiroPresidente12',\n",
              " 'Ciro cresce, vamo eleger o Cirão da Massa Brasil https://t.co/gjRiPwDGvz',\n",
              " '@lubarretotv Se o povo escolher um dos ladrões incompetentes em detrimento a um cara idôneo, competente e com um PND, é pq o povo merece se lascar mesmo. O Ciro tem uma linda família... Ele tem mais é que curtir a vida! Mas p a sorte do Brasil o Cirão da massa será eleito!😃🌹 #CiroNaCNN',\n",
              " '@Ticostacruz @Luisa_SPM @cirogomes Massa. #CiroNaCNN está muito bem! \"A dinâmica da política é uma construção permanente\". GOMES, Ciro',\n",
              " 'Cirão da Massa! Dando mais uma aula para um público menos preparado.CIRO CRESCE#CiroNaCNN https://t.co/DIqCtEyQUq',\n",
              " '@WilliamJacob O Ciro vai sofrer com os dois gabinetes d ódio, o pt já percebeu que o grande rival deles no segundo turno não é o biroliro e sim Cirão da massa e o pessoal do biroliro já percebeu que Cirão da massa tira ele do segundo turno. Se preparem para bombardeio de fakes',\n",
              " '@meupaiseursal Fiz uma pesquisa no grupo de whatsapp Cirão da Massa em que participo mas o Ciro não cresceu nem 1%. Continua com os mesmo 100% do mês passado.',\n",
              " '@heldersalomao Mas são eleitores do Lula mesmo... eita ignorância!!! A baixa não tem nada a ver com Lula ou Bolsonaro bando de alienados!!! O petróleo caiu no exterior!!! Vão ler!!! Se subir, aqui sobe de novo!!! Ciro 12!!! Cirão da Massa!!!',\n",
              " '@AndreJanonesAdv O arregones do rachanones correu do Salles!!! Hauhauhau!!! Nem um nem outro!!! Chega!!! Basta!!! Ciro 12!!! Cirão da Massa!!! Malha mesmo, vai ser triste o peso da derrota!!! Hauhauhau!!!',\n",
              " '@brussel_ive Exatamente!!! Igual o Geddel!!! Como pode o cara ter 51MM em espécie em um apartamento?!?!? Absurdo!!! Ops... ele apóia o Lula... então está tudo \"çertu\"!!! Hauhauhau!!! Ciro vem ai!!! Cirão da Massa!!! Ciro 12!!!',\n",
              " '@JFMargarida @alexandrekalil @asilveiramg Multidão?!?!?! Hauhauhau!!! Eu passei lá e vi meia dúzia de gatos pingados, que recebem para balançar bandeira, era isso que tinha lá!!! O que você acha de trabalhar pela cidade?!?!? O transporte público está uma \"uva\"!!! O asfalto uma trincheira!!! Ciro 12!!! Cirão da Massa!!!',\n",
              " '@randolfeap Essa condenação do Bolsonaro é tipo a absolvição do Lula pela ONU?!?!? Hauhauhau!!! Vai trabalhar pelo povo Senador!!! Para de inventar CPI!!! E outra coisa, coordenando campanha?!?!? Vai ser efetivo que horas!!! Se cuidem, Ciro 12 vem ai!!! Cirão da Massa 12!!!',\n",
              " '@PompeodeMattos @cirogomes Caro Pompeo, as pessoas que idolatram o Loola tem um perfil muito parecido com os Boizonaristas.Pessoas que votam com o cérebro preferem o Cirão da Massa. 🌹É por isso que CIRO CRESCE.',\n",
              " '@jairbolsonaro Obrigado Boizonaro, antes tarde (bem tarde) do que nunca...Vou encher o meu tanque e votar no Cirão da Massa.🌹CIRO CRESCE',\n",
              " '@renato_rovai Kkkk Cirao da massa sendo Ciro coroné kkkkkk',\n",
              " 'Galera criamos um novo grupo para organização de militância pró Ciro o \"Cirão da Massa 2.0\"Peço para vocês compartilharem e assim conseguirmos atingir outros nichos!ATENÇÃO: quem está no grupo \"Cirão da Massa 🌹\" peço para não mandar pedido de adesão para esse!Obrigado, turma!',\n",
              " 'Esse que se diz Cirao da massa??? Ah Ciro você se afunda cada dia mais. A máscara sempre cai. Ninguém sustenta personagem tanto tempo. A sua máscara já caiu, já tá mostrando é a essência da alma agora. Que horror!!!! https://t.co/Wc7kUjQmzH',\n",
              " 'CIRO CRESCE e bota medo em populista! CIRÃO DA MASSA VEM AÍ https://t.co/3Za25kkjxS',\n",
              " 'Cirão da Massa (preparada). Ciro é o típico político com “palavras polidas.” 🤔 #NoMeuPremio',\n",
              " 'E o Cirão da Massa de que parecia ser de pastel, mas no fundo era massa de Croissant? A cartilha é a mesma... Eles odeiam pobre! O Ciro Gomes está cada dia mais mostrando o quanto ele merece esse pífio terceiro lugar. https://t.co/iaFyKELWSG',\n",
              " '@FGuerreiroMEP @cirogomes Ah então o Cirao da massa pode chamar Lula de ladrão nos quatro cantos do país que isso política de alto nível, Ciro com sua boca nervosa menospreza a capacidade de entendimento da periferia, recebe críticas de toda imprensa, a culpa é do PT. Essa turma Boa...',\n",
              " '\"CIRO CRESCE\", ninguém para mais o Cirão da massa https://t.co/2FfarDLbEN',\n",
              " 'Sempre que Ciro cresce, a lulosfera ataca em massa qualquer vírgula do Ciro Gomes. Playbozada de boné do MST diz que se importa com a favela mas não explica o aumento de 60% da população carcerária no governo LuIa e o recorde de letalidade policial em SP no governo Alckmin. https://t.co/77gYPrqhLB',\n",
              " '@WilliamJacob Toda vez que leio essa lorota que o Ciro cresce entendo que é um exercício estratégico de campanha, no mundo real não tem Lula ou Bolsonaro preocupado com o 1 dígito do Cirão da Massa',\n",
              " '@AdrillesRJorge Tarcisão da massa? Q isso, cosplay de Ciro Gomes?Alguém q sai de casa p votar em ti, é pq tem muita raiva do próprio país.',\n",
              " '@SheilaGeist O Ciro Gomes é também chamado de Cirão da Massa. Pois é! O CIRO CRESCE e será o nosso futuro Presidente do Brasil. #CiroPresidente12',\n",
              " 'É Cirão da massa justamente por isso, quanto mais batem mais o CIRO CRESCE! https://t.co/WHtuayvlQm',\n",
              " '😂😂😂😂 Cirão da massa é comédia...kkkkkk...Pior q ele só o Caetano Veloso disse: \"racionalmente falando Ciro é a melhor opção, mas Lula arrebata\".Essa burguesia vagabunda é uma lástima. https://t.co/axTXzvpMuw',\n",
              " 'ciro vive dizendo ser o cirão da massa, homem que faz para o povão mas, mesmo sem ocupar cargo público já discrimina os pobres da favela * {incoerência^{10}}\\\\) = * incoerência elevada a 10ª potência',\n",
              " \"Preconceitos que Ciro Gomes cometeu essa semana:✅Misoginia✅Etarismo✅Aporofobia“Cirão da Massa” deixando escapar seu verdadeiro 'eu' nessas eleições.\",\n",
              " '@EdRaposo_ @cirogomes Ciro Futebol Clube, Cirão da Massa. Paz e amor! 🤭',\n",
              " '@AndreJanonesAdv @cirogomes Aí, Ciristas. Janones age como se nunca tivesse cometido uma gafe. Se ele tem nojo do Cirão da Massa (da massa preparada), o Lula tem tb pq Janones é Lula e Lula é Janones. O Lula odeia o Ciro!',\n",
              " '@cirogomes O politico das palavras polidas, do discurso bonito… Cirão da massa. Mas só da MASSA PREPARADA. Gafe? Não. É só Ciro sendo sincero. https://t.co/EDBXuykG1R',\n",
              " '@OGloboPolitica Ciro chutando o favelado literalmente, esse é o Cirao da Massa',\n",
              " '@fsmcruz Enquanto isso , o Ciro \"dá aula\" para os empresários da FIRJAN e aproveita para desqualificar os moradores das favelas. É o \" Cirão da Massa\"! Deve ser a \" Massa Cheirosa\" daquela Sra da Globonews https://t.co/JuQ7MgSZNo',\n",
              " '@Rodrigoadmsouza @OGloboPolitica Ciro como todo homem branco, de poder aquisitivo e heteronormativo, tem o ego do tamanho do mundo! Como pode subestimar tanto as periferias? Olha para os pobres de cima, como servos (ou empregados assalariados, que dá no mesmo!) ou votos. Descoloniza, galera do Cirão da Massa!',\n",
              " '@UilsonBar @OGloboPolitica Descoloniza, Ciro Gomes e galerinha da massa cirense!',\n",
              " '\"Cirão da massa\" só para enganar fora da realidade. Ciro rebaixando a sociedade que mora em favela e ainda quer votos desse pessoal. https://t.co/8ldw5jSsTe',\n",
              " '\"Cirão da massa\", dizem eles, as ciretes,ao menor sinal de questionamento sobre Ciro Gomes https://t.co/44AWJ60rzp',\n",
              " '@AnarcoFino @cirogomes Ciro pensa igualzinho a toda elite oligarquica do Nordeste e fica com papinho de Cirão da massa.',\n",
              " '@rennatodutra @LulaOficial Alguém me envia, por favor, uma única palestra do Lula pela Odebrecht?!?!? Já procurei e não achei!!! Hauhauhau!!! Anulação não quer dizer inocentado!!! Aberração jurídica seria o nome!!! Nem um nem outro!!! Cirão da Massa!!! Ciro 12!!!',\n",
              " '@gleisi Ou o Geddel e seus 51MM no apartamento!!! Estranho mesmo!!! É engano meu ou o Geddel está apoiando vocês?!?!? Nem vocês e nem o outro!!! Ciro 12!!! Cirão da Massa!!! E parem de se \"apropriar\" das propostas alheias!!! Será que conseguem?!?!?',\n",
              " 'TURMA BOA, BOM DIA!Temos um novo grupo para tomarmos iniciativas em conjunto Pró Ciro!Quem quiser e puder aderir para ajudar na militância e em nossa rebeldia peço para mandar uma DM para o @SrgioAlberto20*Quem estiver participando do grupo \"Cirão da Massa 🌹\" não pedir adesão',\n",
              " '@ManuelaDavila Pergunta pro Geddel aliado do PT!!! Hauhauhau!!! Ele tinha 51MM em espécie no apartamento!!! Hauhauhau!!! Nem um nem outro!!! Ciro 12!!! Cirão da Massa!!! Até as propostas do Ciro já estão \"copiando\"!!!',\n",
              " '@LulaOficial Tá preocupado em não sobrar nada pro PT né?!?!? Essa é a real preocupação, não ter corrupção novamente!!! Hauhauhau!!! Nem um nem outro!!! Ciro 12!!! Cirão da Massa!!!',\n",
              " '@LulaOficial Educassão Paulo Freire!!! Ta çerto!!! \"era fazer que o povo de baixo adquirir\"... hein... Senhor!!! Ciro nos salve!!! Cirão da Massa 12!!!',\n",
              " '@LulaOficial Hein?!?!? Não fala lé com cré!!! Hauhauhau!!! Encantador de bobos, ninguém cai nessa sua conversa fiada!!! Até \"copiar\" propostas de outros candidatos está fazendo!!! Ciro 12!!! Cirão da Massa!!! O único com propostas reais!!!',\n",
              " '@LulaOficial Venceu não!!! Foram anulados por uma decisão \"mágica\" no STF!!! Nem você e nem o outro!!! Ciro 12!!! O único com propostas concretas, as quais, você tem \"copiado\"!!! Cirão da Massa 12!!!',\n",
              " '@Luziaria_Luz Então vota em ladrão comprovado e não dá uma oportunidade pro Ciro??? Vai ter segunda turno e a esperança é o Cirão da Massa chegar',\n",
              " '@LulaOficial @luizapannunzio Queria saber a opinião do Ciro Gomes sobre esse cartaz. Acho que o Cirão da massa não apoia essa \"esperança\" não. https://t.co/13XhGf553r',\n",
              " '@OCanal_Blackout @thiamparo Cirao da massa fez isso 1998 quando prefeito! Metade das secretárias eram mulheres. Gostei quando Ciro disse que lula é um encantador de 🐍.',\n",
              " '@HudsonCastroHD Ai daqui a pouco, já não vai mais apoiar o cirao da massa. Pq segundo ele, uma nova pessoa, uma nova cabeça. Mas daí vem o principal: ele crê com toda força e convicção que o Ciro é a solução para o nosso lindo país.',\n",
              " '@ECantanhede Vc é tão inteligente, Eliane…A “Senadora do Bolsonaro”, a “Simone-nao-quero-investigar-governador-ladrao” e o “Cirão da massa” só fazem o que sempre fizeram:Se aproveitam de outros e depois mudam de lado. Por isso se tornam irrelevantes.Por falar em Ciro https://t.co/5ujmEnKTrW',\n",
              " '@ThiagoResiste Esse maluco é doidão ou se faz?!Os Lulominions vieram no meu Twitter postar foto de Bosalnauro com o Cirão da massa,Só por Eu tá apoiando o Ciro .Aí o cara vem me dizer que o Ciro Gomes, aquele mesmo que lutou contra o impeachment da Dilma e lutou que o Coiso fosse impeachmado.',\n",
              " '@AndreJanonesAdv Fora da disputa? O Medo de vcs não é Bolsonaro segundo turno não é Ciro Gomes,vcs não terão nada contra ele para fazer esse joguinho sórdido de eu te aviso disso e vc me acusa daquilo. Disputando quem é mais ou menos corrupto! Se liga que Cirão da massa tá precisando de pouco',\n",
              " '@ManuelaDavila KkkkkkkkkkkkkkkkkkkNem o Cirao da Massa ,quer saber do MARGINAL.Lula: Eu não fui para Paris Ciro: VOCÊ ESTA PRESO LULA.',\n",
              " 'A polícia é uma espécie de massa de manobra lá, só atende os interesses dele e da família Ferreira Gomes. E Ciro eu nem preciso dizer, uma figura suja, podre e herdeiro do pior que se tem na politica brasileira. Mas como ele fala bonito e a população que se divide entre...',\n",
              " 'E confesso que o Cirão da massa ainda pode levar meu voto. Tsunami Ciro 2.0',\n",
              " '@ciro_nogueira Única coisa que eu vi foi o Cirão da Massa pondo geral pra mamar',\n",
              " 'É óbvio que eu também #VotoEmProjeto 🌹🇧🇷 é Ciro Cirão da Massa! https://t.co/42n9rCDPaz',\n",
              " '@Miltonneves Sr. cabeção coruja é péssimo tanto no futebol e política pior ainda, faz tudo pelo engajamento apenas, nem uma convicção.Falar q Ciro e Bozo foram bem é louco de pedra ou quer liks.E olha q voto no Ciro, mais não gostei, precisaria ser o Cirão da Massa! As mulheres foram bem!',\n",
              " '2018: cirão da massa2022: o Ciro amassa #DebateNaBand #CiroNoJN',\n",
              " 'Já vai começar o debate sobre infraestrutura e indústrias! Mais uma aula do Ciro! 🙂🤙🌹🌹🌹🌹#PrefiroCiro #CiroPresidente #EuVoto12 agora é Cirão da massa!!!!! https://t.co/E8Rwe1e15h',\n",
              " '@tuliogadelha Até que enfim disse algo certo: o STF anulou, não inocentou o ex-presidiário!!! Nem um nem outro!!! Ciro 12!!! Cirão da Massa!!! O único preparado em com propostas!!!',\n",
              " '@blogdopannunzio @LulaOficial Mas o Lula é ex-presidiário e ponto final! O Nem um nem outro!!! Ciro 12!!! O único com propostas concretas e sensato!!! O resto é mais do mesmo!!! Cirão da Massa 12!!!',\n",
              " '@BlogdoNoblat E o cirâo da massa ein noblat,\"Lula! Não fui a Paris no segundo turno\" e Ciro! \"Não foi porque estava preso\". Nessa o Ciro triturou o ladrão, com certeza não irá no próximo debate.',\n",
              " '@danielamercury Ciro lacrou!Falou na cara do ex presidiário que ele estava preso.Cirão da massa não caiu no canto da sereia kkkkk',\n",
              " '🚨Atenção para a mitada do ano, e não foi de Bolsonaro!Molusco: \"- Eu não sai do Brasil\"Ciro: \"- Você tava preso.\"Essa mitadas do Cirão da Massa mereceu postada!#Ciro #VoceTavaPreso https://t.co/UhMvdrtJ2T',\n",
              " '@L_Dornelles @meupaiseursal Isso a Band não mostrou, mas a gente mostra 😃😉!Oh Cirão da Massa 🇧🇷🌹✊🏽Oh Cirão da Massa 🇧🇷🌹✊🏽Oh Cirão da Massa 🇧🇷🌹✊🏽Ciro Presidente 1️⃣2️⃣🌹🇧🇷 https://t.co/2PfjT0SK27',\n",
              " 'Ciro Gomes, Cirão da Massa, Futuro Presidente do Brasil. Presidente em 2023. Qualquer um aí é sinônimo do outro. Ciro na cabeça, 12 na urna',\n",
              " '@Tiagolattari @thameadanelon Então ele não pode falar que foi absolvido pq isso requer um julgamento. Pode falar que não foi julgado , mas nem ele conseguiu negar a corrupção em que ele foi o chefe. E cirao da massa que acumula 6% da pesquisa detonou o luladrao . Passei a adorar o Ciro hoje. Ajudou o mito.',\n",
              " '@ogum_2022 @Tiagolattari @thameadanelon Então ele não pode falar que foi absolvido pq isso requer um julgamento. Pode falar que não foi julgado , mas nem ele conseguiu negar a corrupção em que ele foi o chefe. E cirao da massa que acumula 6% da pesquisa detonou o luladrao . Passei a adorar o Ciro hoje. Ajudou o mito.',\n",
              " '\"O Ciro Gomes é tão inteligente, mas por que nunca chega lá?\"1. O brasileiro gosta de super heróis da pátria, e são adeptos do \"roubou, mas fez\"2. Infelizmente ele não consegue se comunicar com a massa',\n",
              " 'Bater em velho e bêbado é crime!Cirão da massa é pika..rs...rs...bateu mais em lula que no BOLSONARO!O lula veio paz e amor pro Ciro ,e o Ciro veio logo de voadora no ladrão!#CiroEspartano meteu logo a pesada direto para o precipício. 🤣😎😎😎💪 https://t.co/Y93pGESdTR',\n",
              " '@Matheusdewei @cirogomes @ciro Assisti todo debate e vi o Ciro sendo mais conivente com o absurdo que é o governo Bolsonaro e muito mais incisivo com o PT. Aliás, vi a Tebet muito mais afrontosa ao Bolsonaro que o Cirão da massa.',\n",
              " 'Ciro engoliu bolso.naro de um jeito jamais visto. O candidato a reeleição foi voltar no passado logo pra cima de quem? Hahahaha. Cirão da massa tem meu voto fácil. Esse sim é o verdadeiro mito @cirogomes',\n",
              " 'Alguém tem o vídeo do Lula tentando crescer pra cima do Ciro metendo \"Eu não fui pra Paris\" e o Cirão da massa: \"Claro, você tava preso\". 😂😂😂Preciso ver esse momento, não tô acreditando, crendo que rolou. Que vrá, hein Lula? KKK. #Debate',\n",
              " '@heckley_vaz @cirogomes @ciro Mas esse é e sempre foi o Ciro. Atacava o FHC e hoje o chama de Lord. Foi parceiro do PT e hoje ataca Lula, e se for vantagem pra ele se faz amigo do Bozo. Esse é o Cirão da Massa!',\n",
              " '@Azevedothico @AntiTaokey O Cirão da massa é bão. Ciro 12 🌹',\n",
              " 'Ciro Gomes mostrando seu bom humor e apontando que o armamentista Bolsonaro, quando assaltado, mesmo armado, entregou tudo: arma, moto e até o toba ao assaltante.Cirao da Massa ganhando destaque no debate. #CiroNaBand #DebateNaBand',\n",
              " 'De Cirão da Massa para Pai Ciro https://t.co/MhXK53k48w',\n",
              " 'Bolsonaro dando lição ao Ciro sobre como tratar uma mulher. BOA, CIRÃO DA MASSA',\n",
              " '@majorfabianadep @jairbolsonaro O riso do Ciro foi genuíno, depois ele deu uma disfarçada pra dizer que discorda. Porém depois não atacou o Bolsonaro pelo que ele falou da Vera. Cirão da massa.',\n",
              " '@traumann Ciro pq estava presoooKkkkkkkCirão da massa vai tirar todos do das dívidas e ainda vai taxar a grana',\n",
              " 'Lula: Eu não sair do país e fui para Paris.Ciro: \"VC TAVA PRESO!\" Que asfaltada do Cirão da massa.#DebateNaBand',\n",
              " 'Ciro Gomes mandando na lata do vadio do 🦑. Gostamos. Cirão da massa tá mandando bem!',\n",
              " 'O ciro meteu a real agora, bora cirao da massa kkkkkkkjj',\n",
              " 'Ciro jantando carne de quinta… cuidado Cirão da massa',\n",
              " 'Ciro Gomes da massa tá até o bico de Rivotril! Ciro pás e amor! Se é que vc me entende.',\n",
              " '\"Eu quero reconciliar o Brasil\" Ciro, o primeiro a interromper e a dar pitaco gerando discórdia KKKKKKKKK assim você vai longe, cirão da massa.',\n",
              " 'Meu Cirão da massa tá se garantindo.#DebateNaBand Ciro presidente.',\n",
              " 'Que horas o Ciro vai acabar com a postura de honesto desse ridículo? Tô doida pro Ciro falar das rachadinhas no gabinete do Bolsonaro, daquele jeitinho que só o cirão da massa sabe falar',\n",
              " 'Tarot no debate presidencial: COMO O POVO VAI PERCEBER CIRO GOMES.Cirão da Massa também não vai abalar, mas por motivos bem diferentes. Ao lado de Bozo, Ciro pode ser o segundo candidato mais atacado no debate, e para o público apanha sem dar respostas satisfatórias+ https://t.co/eeIzNP0Xe0',\n",
              " '@legadaodamassa VAMO CIRÃO DA MASSAÉ Ciro 12',\n",
              " 'Segundo Ciro Gomes, esse é o nosso Ceará da massa #DebateNaBand https://t.co/Eq11gKeVLg',\n",
              " 'Ciro Gomes da massa',\n",
              " 'Ciro Gomes disse que será o presidente da Educação... Mais uma piada pronta do Cirão da Massa...',\n",
              " 'Cirao da massa. Na moral votem no Ciro. Foda-se o extremismo, vota no Ciro desgraça',\n",
              " 'Cirão da Massa metendo o dedo na ferida pra desestabilizar o Furúnculo Presidencial e mencionando \"problemas familiares\". Gosto muito, se o papel do Ciro no debate for golpe baixo, sou a favor. #DebateNaBand',\n",
              " 'Ciro Gomes pergunta para Bolsonaro: CIRO QUESTIONA A FALA DO BOLSONARO SOBRE NÃO TER FOME NO BRASIL!!Ciro amassa o Bolsonaro.VAAAAI CIRÃO DA MASSA!!',\n",
              " 'Há é o Ciro em!!! Que tá com os neurônios músculos no ponto para agitar o debate... Vai Cirão da massa🌹#CiroNaBand',\n",
              " 'Ciro Gomes é que nem eu falando. Ele fala rápido, só que a mente dele funciona AINDA MAIS RAPIDO, então ele começa uma argumentação, LEMBRA DE ALGUMA OUTRA ARGUMENTAÇÃO, e vai atropelando uma depois da outra kkkkk. By the way, entrevista massa!!!',\n",
              " 'Aahh, Cirão da Massa! Sua história e sua luta conseguiram transbordar lágrimas na janela da alma aqui...Obrigado, @cirogomes!\"O escolhido líder de Zion para subjugar a Matrix.\"Nosso verdadeiro NEO CIRO!Levanta, Brasil!!!#CiroPresidente12 #CiroTV https://t.co/VlppPSDasd',\n",
              " 'Alguns pontos :1- Ciro deu uma ótima entrevista 2- Lula deu aula de política 3-Ciro tem ideias boas mas inteligência emocional mínima 4-lula teve ideias, colocou em prática ,sabe fazer e emocionalmente dá de lavada no Cirão que nunca foi da massa #prontofalei',\n",
              " '@Rolandinho @cirogomes CIRÃO da MASSA é aquele que resiste... Por isso digo com total CONVICÇÃO que Ciro Gomes vai virar essa eleição.🎶 Um hino de esperança#CiroPresidente12 #CiroTV',\n",
              " '@Astronomiaum Ciro Gomes da massa #CiroTV https://t.co/18MoCZHLcs',\n",
              " '@CiroNoFlow 🤭😂🤣...eu louco pra dizer que o Final Rimava com Ciro Presidente 🤣😂🤣😂🤣🤭Oh Cirão da Massa 🇧🇷🌹✊🏽Oh Cirão da Massa 🇧🇷🌹✊🏽Oh Cirão da Massa 🇧🇷🌹✊🏽Projeto Nacional de Desenvolvimento 🇧🇷 https://t.co/5rpu21tpey',\n",
              " '@cabrall28 Cirão da massaÉ Ciro 12',\n",
              " '@iiiseeSa Cirao da massa!! 😎❤Gostei, eu já ia votar no Ciro mesmo, segundo turno vai ser entre Ciro e Lula!',\n",
              " 'Quer dizer então que o Ciro, o Cirao da Massa está de volta aos Trending Topics? Eita que esse ano vai.',\n",
              " '@esquivafalcao Na do Bozó e o Lul4 não, da no Ciro, é projeto bão! Vou de Cirão da Massa',\n",
              " '@Mor4isAlexandre @cirosaopaulino @Kli_Nev Vc acha, REALMENTE, que os 6% de Ciro leram o livro dele? Já tentaram estudar a viabilidade de se governar com plebscito, apenas? Q o Cirão da massa vai industrializar um mundo globalizado em 4 anos? Que vai enfrentar o Congresso jogando sozinho? Política é futebol, não é squash',\n",
              " '1* turno é Cirão da massa2* é Ciro ou Lula3* pode ser lula ou Simone4* é anulado.dois mil e 22 é só um ano ..',\n",
              " '@BelemJameson Ciro, Cirão da Massa',\n",
              " '\"Ô CIRÃO DA MASSA\", um belo canto de galera se junta a:\"Ô, VAMO VIRAR CIRO!\"\"BRASIL PRA FRENTE, CIRO PRESIDENTE\"Vamos levar @cirogomes e @AnaPaulaMatosBA para o segundo turno!#militaquevira12 https://t.co/D3IiTq9GkP',\n",
              " '@AnaKurama12 Ciro. Cirão da Massa!#Ciro12',\n",
              " 'Cirão da Massa!Ciro Gomes Presidente! ✊🏻✊🏻✊🏻#CiroNoJN https://t.co/IGSAsLVCmg',\n",
              " '@Rkrahenbuhl Claramente o Cirão da massa! Bozo e loola so tem um ao outro de projeto. Ciro vai comer com arroz esses dois fantoches do mercado financeiro. A disparidade de preparo é tão grande, que fico preocupado se eles vão entender as indagações do Ciro.🙂 🤙🌹#PrefiroCiro',\n",
              " '@alice_grizzo Vai de ciro, tebet é o lula de mato grosso do sul, vai de cirao da massa',\n",
              " 'Cirão da massa é aquele que resiste 🌹#EuVoto12 É Ciro!',\n",
              " '@IPICLESI @BWandao Ciro Gomes, Ciro, Cirao da Massa, Ciro Ferreira Gomes.',\n",
              " '@BelemJameson @calopsitapolis É Ciro eimCiro GomesCirão da Massa',\n",
              " '@cirogomes tá sabendo disso CIRÃO da massa...\"Checamos a entrevista de Ciro Gomes ao Jornal Nacional\" por @aosfatos https://t.co/KnYkLEFryk',\n",
              " '@BelemJameson É o meu calvo preferido (depois do meu pai), o Ciro, o Cirão da massa! 🇧🇷✊🏼🌹 https://t.co/qZI3BdAlXt',\n",
              " '@BelemJameson Ciro Gomes, vulgo Cirão da massa',\n",
              " '@BelemJameson Ciro Gomes, o Cirão da Massa!',\n",
              " '@JovemPanNews Falou o Cirão da Massa, o encantador de sereias!🤦🏻\\u200d♂️....Porra Ciro,me faz um favor,vou te dar um bilhete da MegaSena e vc preenche os 6 números pra mim, se sabe tudo cara!!!👏🙏🤣🤣🤣',\n",
              " '@YMCBahia Quem pensa em votar na esquerda, o melhor candidato da esquerda é o Cirão da massa. Vc de esquerda vote no Ciro. Ciro nunca foi preso por corrupção.',\n",
              " '@folha celebridades? quem compra esse personagem do cirao da massa que fantasia realidades inexistentes. quem votar no ciro de novo vai nos entregar para o lixo de novo!',\n",
              " 'CIRO GOMES FURANDO BOLHAS PELO BRASIL!Não se fala em outra coisa, Cirão da Massa é o assunto do momento. Olha essa charge que o Takeshi Gondo fez. ESPALHA!Já fez seu cadastro no APP do Cirão? Corre pra lá agora!https://t.co/KnZdY4QiyD',\n",
              " 'CIRO GOMES FURANDO BOLHAS PELO BRASIL!Não se fala em outra coisa, Cirão da Massa é o assunto do momento. Olha essa charge que o Takeshi Gondo fez. ESPALHA!Já fez seu cadastro no APP do Cirão? Corre pra lá agora!https://t.co/9irqlmWPbg https://t.co/mIW3F3q9Od',\n",
              " '@LulaOficial @vitorrochaee Cirão da massa é o melhor candidato para que pensa em votar na esquerda. Ciro é preparado, e nunca foi preso.',\n",
              " '@YMCBahia Lula já confirmou presença na sabatina da Jovem Pan ou assumiu q arregou? Constantino, Fiuza e Augusto Nunes querem sabatiná-lo? Mas o melhor nome para quem é de esquerda e Ciro. Ciro nunca foi preso por saquear a República. Vc q pensa em votar, em luta,vote no Cirão da massa.',\n",
              " '@camillytante @SantosR00059711 @saintliberte Eu moro no Ceará e o Ciro já tem meu voto, melhor candidato, pra cima Cirão da massa.',\n",
              " '@cappellarianton Ciro nesta terça-feira teve 54% de menções positivas e 46% negativas nas redes durante o JN. Bolsonaro, na segunda-feira, teve 35% de positivo e 65% negativo. Ou seja, na medição da Queast deu Cirão da Massa, hoje no estilo paz e amor.',\n",
              " '@APrimeiraVia Ciro é o candidato contra o sistema, vamos mostrar nas urnas a força do Cirao da Massa. Voto a voto! #MilitaQueVira12',\n",
              " 'Ou vei, pq que as pessoas não dá uma chance pro Ciro Gomes, tipo, ele fala umas coisas tão massa',\n",
              " 'Vendo o raso sobre Ciro Gomes, não consigo entender o pq todo mundo só fala de Lula e bozo, pq não tentar o alternativo? Será que é a influência da população em massa falando digitalmente?',\n",
              " 'O Twitter for iPhone vai votar em massa no Ciro. Cirao da massa sabe dobrar os abobados como ninguém mesmo. Aquele ditado \"quem não conhece que te compra\" é cirúrgico.',\n",
              " 'CIRO GOMES FURANDO BOLHAS PELO BRASIL!Não se fala em outra coisa, Cirão da Massa é o assunto do momento. Olha essa charge que o Takeshi Gondo fez. ESPALHA!Já fez seu cadastro no APP do Cirão? Corre pra lá agora!https://t.co/ENEAUvOiXl#CiroPresidente12 https://t.co/gBEkmyi95r',\n",
              " 'CIRO GOMES FURANDO BOLHAS PELO BRASIL!Não se fala em outra coisa, Cirão da Massa é o assunto do momento. Olha essa charge que o Takeshi Gondo fez. ESPALHA!Já fez seu cadastro no APP do Cirão? Corre pra lá agora!https://t.co/wgijq88zhv https://t.co/IFL5s3NfZF',\n",
              " 'CIRO GOMES FURANDO BOLHAS PELO BRASIL!Não se fala em outra coisa, Cirão da Massa é o assunto do momento. Olha essa charge que o Takeshi Gondo fez. ESPALHA!Já fez seu cadastro no APP do Cirão? Corre pra lá agora!https://t.co/nPDjhssERK https://t.co/6GUCi8ZHNe',\n",
              " 'Minha irmã lulista virou voto pro Cirão da Massa!Eu tô tão feliz ^^Ciro 12 🥰#CiroGomes #AgoraéCiro',\n",
              " 'Por que anda tão esquecida como se fosse esposa de um senhor feudal? Sempre atrás. Mostre-nos sua garra e conte-nos suas propostas. Simples. Tu és mesmo 3ª via ou via à esquerda sem saída? @simonetebetbr https://t.co/mPaRexSBtA',\n",
              " 'Tive a conta suspensa depois de falar para a Simone Tebet todas as atrocidades que a Simone de Beauvoir cometeu junto com seu amante Sartre.Abri outra conta e espero todos os patriotas que me ajudem. Obrigado e vamos em frente. https://t.co/KKtNysbUJj',\n",
              " '@reinaldoazevedo Acabou de taxar duas mulheres de substantivo abstrato? Kkkk corre aqui @simonetebetbr , olha que amor?',\n",
              " '@simonetebetbr Para o bem do BRASIL...,BOLSONARO REELEITO',\n",
              " 'Em breve: Simone Tebet respondendo as perguntas do Xaropinho. https://t.co/98q6qW91j8',\n",
              " '@folha @vtorresfreire Não tem jeito, o voto nem-nem, #NemLulaNemBolsonaro, é que vai decidir a eleição no segundo turno.Se quiser meu voto no segundo turno, @LulaOficial vai ter que se comprometer publicamente, como fez @simonetebetbr, com a lista tríplice para o cargo de Procurador da República.',\n",
              " '@simonetebetbr Será? Vc é tão despreparada assim?',\n",
              " '@simonetebetbr https://t.co/fjYd30zgQK Ahh é?',\n",
              " '@simonetebetbr @cirogomes @SorayaThronicke PAREQUE QUERER GANHAR VOTOS EM CIMA DE CADÁVER. A culpa dos assassinato político é do bolsonarismo e @jairbolsonaro e seus filhos, esse sangue está na mãos deles, se existe política existe polarização, isso não trás ódio que mata ☮️❤️🏳️\\u200d🌈',\n",
              " '@simonetebetbr A margem de erro das pesquisas eleitorais manda lembranças',\n",
              " '@simonetebetbr Passou dos 4%?',\n",
              " '@simonetebetbr Amor eu tenho com meus amigos e familiares, nós queremos um governo que trabalhe pelo povo e isso só Bolsonaro.A senhora mostrou o que é na CPI da vergonha, desrespeitando a todo mundo.',\n",
              " '@mariana_74 @TomazTTS @simonetebetbr Mas se ele critica o orçamento secreto não deveria fazer uso.',\n",
              " 'Temos que focar nos eleitores da Simone Tebet pro segundo turno pois os do Cir0 vão direto pro colo do Brochonaro.',\n",
              " '@simonetebetbr A Senhora viu a Dra. Nyse e Dra. Mayra por aí? Na CPI a senhora não viu né?!',\n",
              " '@GehaMohamad @simonetebetbr Boa pergunta! Falar é fácil. Prometer também.',\n",
              " '@BeavesB @simonetebetbr Olha como você está bem na pesquisa Modal https://t.co/KpljzLk6V2',\n",
              " '@Ticostacruz @cirogomes Parabéns Tico. O que importa neste momento é o futuro do nosso país. Se o Ciro estivesse na frente, disputando com Bolsonaro, obviamente eu votaria nele. Da mesma forma em Simone Tebet. Mas hoje a bola está com o Lula e é nele que eu vou votar.',\n",
              " '@simonetebetbr LULA 13',\n",
              " '@simonetebetbr Quem falou isso aqui foi outro sem credibilidade, 👇 https://t.co/OLTUlZLMXA',\n",
              " '@simonetebetbr E minha querida, deveria se preocupar com sua campanha, para não fazer feio nas urnas , mas ao meu ver , vc esta fazendo campanha para o Bolsonaro, de cada ,10 palavras que vc fala 11 vc cita o mito ...',\n",
              " '@antonionetopdt @simonetebetbr @cirogomes Democratas e civilizados agem assim. 👏🌹👊 #PrefiroCiroPresidente12',\n",
              " '@simonetebetbr Imbrochável ele é mesmo. Quem não tenta não erra. Kkkkkkk. Aí tem o vídeo da primeira dama dizendo pro o \"amigo gay\" dela: \"bom dia ativo\". Essa fanta é coca hein? 😂😂😂😂😂😂',\n",
              " '@simonetebetbr Fica em casa que a economia a gente vê depois',\n",
              " 'Nunca vou entender pq ng a não ser o Cláudio Dantas toca nesse assunto… hein @cirogomes @FlavioBolsonaro @simonetebetbr @ciro_nogueira ? A família do Lula é intocável porque? Tem acordo de n fale do meu q eu n falo do seu? https://t.co/aIKdMexgXs',\n",
              " '@PauladosAnjosBR @rss2003 @MauroQuirino6 @DilsonSSep @brunaclara0001 @simonetebetbr Você escreve qualquer merda! Lula nunca foi condenado no mensalão e esse \"fundo de pensão\" você deve ter tirado do c*! A única condenação foi pelo triplex (sem prova alguma). O processo foi anulado e Moro foi considerado parcial. Assim, Lula passou a ser tão culpado quanto você!',\n",
              " '@simonetebetbr Mi mi mi danado.Chora bebê, chora!',\n",
              " '@simonetebetbr Essa já está contando as horas para apoiar Lula.',\n",
              " '@Flaviamaynarte Pois é.... Ciro,Simone Tebet e Soraya deviam apoiar Lula! Soraya eu não sei,mas Ciro e Simone são pró ricos! São de direita!!',\n",
              " 'Vamos acabar com isso. Seu voto útil no @LulaOficial encerrará esse siclo de destruição. Ajude o Brasil @simonetebetbr https://t.co/u4vSh1tPKz',\n",
              " '@simonetebetbr Orçamento secreto.E mais: dinheiro secreto em X-casas do Bolso&amp;Família.',\n",
              " '@simonetebetbr Gostaria de trazer sobre SUS, Caps, e Saúde na primeira infância! https://t.co/hbLvqc7zCU',\n",
              " '@simonetebetbr Olá Senadora, a senhora viu a Dra. Nyse e a Dra. Mayra por aí?',\n",
              " '@simonetebetbr Muitos cortes https://t.co/osttJm4mF3',\n",
              " '@simonetebetbr Mentira, cada dia tem mais produtos mais baratos. Enquanto que o preço da gasolina está baixando ,os preços do hortifruti estão também. A única coisa que estão subindo são os laticínios. Os supermercados estão se aproveitando.',\n",
              " '@NewtonRPFilho @LulaOficial @CarlotaLeniy @Adriana_Bueno @ricardocazotti @Elaine34334603 @karlakarlette @Amanda31192778 @Aninhaodc13 @carololivapsi @Alessan66878821 @gilson2021rs @ubiraci_ramos @MaraVil62241948 @keilaasilvaBsb @ViboVar @FurnasSempre @Val_De_Oliveira @GremioEm Seguindo todes, todas e todos,.Vamos acabar com isso. Seu voto útil no @LulaOficial encerrará esse siclo de destruição. Ajudem o Brasil @simonetebetbr e @cirogomes',\n",
              " '@simonetebetbr Mulheres CORRUPTas realmente ele não representa#marmitadepetralhas',\n",
              " '@simonetebetbr Dignidade é você que está mostrando não ter ao afirmar mentiras como esta.',\n",
              " '@simonetebetbr Vc não deve ler jornal neh,so pra te informar,tivemos deflação nesta ultima semana,vai se informar primeiro se não vc paga mico.',\n",
              " '@simonetebetbr Fale de vc',\n",
              " '@luizazenha23 Sou eleitor de @simonetebetbr e antes de tudo quero o melhor pro Brasil.Antibolsonarista? Sim, sou. Antipetista? Sim, também sou.',\n",
              " '@simonetebetbr Minha senha, muda o discurso!',\n",
              " '@simonetebetbr Resumindo este post: Ridícula',\n",
              " '@simonetebetbr A DIGNIDADE DE QUEM NÃO ROUBA,NEM DEIXA ROUBAR',\n",
              " '@simonetebetbr Amor não combina com mentira! Desista 2%',\n",
              " '@simonetebetbr MENTIROSA!!!!',\n",
              " '@LucianaSV29 @simonetebetbr E isso segue esse exemplo e fala a verdade https://t.co/3MxkvqEp23',\n",
              " '@simonetebetbr Tá comendo muita bolacha recheada hein raposinha do temer Kkkkkkkk tá virando uma Trakinas !!!!kkkkkkk',\n",
              " '@simonetebetbr Cê é corresponsável pela tragédia econômica e pelo genocídio, impostos aos brasileiros. Cê, golpista, eleitora e apoiadora do genocida.',\n",
              " '@simonetebetbr Segue o choro',\n",
              " '@simonetebetbr A voz que ecoa no twitter.',\n",
              " 'Simone Tebet e Mara Gabrilli em Campinas ! A grandeza da mulher ! PRESIDENTE E VICE DO BRASIL! https://t.co/yV6SHej2wV',\n",
              " 'Saiba como foram as atividades de campanha de Jair Bolsonaro, Ciro Gomes, Simone Tebet, Lula, Eymael e Vera Lúcia: https://t.co/oScCjP9JDl #JH https://t.co/cu6FxXbeyU',\n",
              " '@simonetebetbr Que discursinho mas ultrapassado, vira o disco que isso não cola mas não! Proponha algo descente, tenha um plano de governo descente e para de vitimismo e mentiras, quem sabe assim você não perca para margem de erro das pesquisas!',\n",
              " '@simonetebetbr Concordo. Nos deixe em paz!Volte para a privada junto com os traíras!!!#BolsonaroReeleitoNoPrimeiroTurno',\n",
              " '@simonetebetbr Sou mulher e na minha família todas as mulheres está com o Mitooooo',\n",
              " '@cirosaopaulino Amigos, nesta eleição Ciro não vão conseguir nada , agora é fato se continuar batendo no Lula desta forma nas próximas eleições ele vai perder para Simone tebet..',\n",
              " '@joao_sfn @theoujc Ser oposição ao presidente não quer dizer NADA.Você pode inclusive ser oposição e querer fazer a mesma política, VIDE SIMONE TEBET, MORO, MBL.O Governo Bolsonaro inclusive é igual ao governo Temer em termos de política.A militarização do governo foi idéia do Temer inclusive',\n",
              " '@simonetebetbr Porque vc votou a favor da verba pública pra campanha mas 7 pra lei ruanet',\n",
              " 'Quem representa Simone Tebet https://t.co/ODpQb462me',\n",
              " '@PauloChuchuSBC @simonetebetbr Mas Broxonaro odeia as mulheres? Será por causa do bilau mole, chuchu?',\n",
              " 'Hoje nossa querida Deputada Joice Hasselmann está com a candidata à Presidência da República, Simone Tebet e a vice Mara Gabrilli na cidade de Campinas no interior de SP, para um encontro de mulheres, do qual também participam integrantes do PSDB Mulher! #TemJeitoTemJoice https://t.co/b1CxGBBR5P',\n",
              " '@mariana_74 @simonetebetbr Vai respeitar! Onde será que a vice dela colocou o dinheiro do orçamento secreto \"tirado da saúde e da educação\"?',\n",
              " '@simonetebetbr Sou mulher e voto em Bolsonaro. Sua participação na cpi do circo foi vergonhosa.',\n",
              " 'Vamos acabar com isso. Seu voto útil no @LulaOficial encerrará esse siclo de destruição. Ajude o Brasil @simonetebetbr https://t.co/TCF23lGHmn',\n",
              " '@Duducrlh @Rolandinho @cirogomes Tu citou 20% sendo bondoso… o maluco não tem nem 10% po kkkk se fosse ao menos entre 15-20 eu até “apoiaria” a ideia da candidatura dele ser viável, mas agora, faltando 3 semanas pro pleito, o cara com 5-7% sendo ameaçado por SIMONE TEBET…',\n",
              " 'Gente, o voto útil do povo da @simonetebetbr vai pro bozo. Não se enganem. É esse o tweet.',\n",
              " '@simonetebetbr Quem é responsável por creche é o município. Burra.',\n",
              " '@simonetebetbr Aquele orçamento secreto que sua vice usa? “Çei”',\n",
              " '@simonetebetbr Amor e coragem, senadoras @SimoneTebetms e @maragabrilli, a sociedade cívica brasileira precisa muito das Senhoras na Presidência da República para tirar o Brasil do caos e da desesperança, e trazer paz e concórdia para os brasileiros aflitos.',\n",
              " '@simonetebetbr Amor e coragem, senadoras @SimoneTebetms e @maragabrilli, a sociedade cívica brasileira precisa muito das Senhoras na Presidência da República para tirar o Brasil do caos e da desesperança, e trazer paz e concórdia para os brasileiros aflitos.',\n",
              " '@simonetebetbr Orçamento aprovado pelo CONGRESSO , VETADO pelo BOLSONARO Que o VETO FPI DERRUBADO pelo congresso Para de mentir estepe de corruPTo',\n",
              " '@simonetebetbr Amor só com a minha esposa.',\n",
              " '@simonetebetbr Amor e coragem, senadoras @SimoneTebetms e @maragabrilli, a sociedade cívica brasileira precisa muito das Senhoras na Presidência da República para tirar o Brasil do caos e da desesperança, e trazer paz e concórdia para os brasileiros aflitos.',\n",
              " '@simonetebetbr Vai sobrar dinheiro para o beco da corrupção de Lira, em Alagoas, também para compra de tratores superfaturados. Polícia Federal capturada pelo broxa mole, corrupção azeitada no governo bozo.',\n",
              " '@simonetebetbr O tablet se coloca no seu lugar vc não tem a mínima condição de ser uma presidente',\n",
              " 'pouco se fala dos \"eleitores do ciro\" que na verdade vão acabar indo de simone tebet no primeiro turno https://t.co/kbEIe4VoNq',\n",
              " '@simonetebetbr Então, cara senhora, consequência direta do seu voto pro impeachment da Dilma. Noblesse oblige um mea culpa. Há momentos que pelo seu discurso até penso ser a favor do Lula, tal o conteúdo é igual. Fala de comida faltando no prato como o pt sempre fez. Abcs',\n",
              " '@simonetebetbr Depois da CPI vc não tem moral para abrir a boca',\n",
              " '@74ronins @simonetebetbr Também não vivemos nenhum paraíso de inovação e pesquisa. Só o astronauta falando besteira.. hehehe',\n",
              " '@simonetebetbr Orçamento secreto gestado pelo Congresso Nacional, ao qual a senhora pertence.',\n",
              " '@simonetebetbr E aí tablet #BolsonaroReeleitoNoPrimeiroTurno2022 #BolsonaroNoPrimeiroTurno',\n",
              " '@ThiagoResiste Ciro já escolheu o seu lado... Agora ele tem q se preocupar com a Simone Tebet...q logo logo passará ele nas pesquisas... Ciro passa de uma terceira via ... Pra primeira via ...a via da vergonha https://t.co/VyuFTKRE5q',\n",
              " '@marcogiotto @simonetebetbr Depende do ponto de vista, amigo.Os investimentos do Lula em pesquisas e nas universidades não resultaram em nada. Gastou mal na militância.',\n",
              " '@simonetebetbr Você é bagre ensaboada cheia de conversinha mole fantasiosa e mentirosa para com essa tentativa de manipular... mentir... tá apelando... tá ficando feio!!! Kkkkkk',\n",
              " '@simonetebetbr Silêncio 🤫 a 2% está escrevendo. 🤦🏻\\u200d♀️',\n",
              " '@simonetebetbr Ajude a Varrer o fascismo dessa vez que na próxima vez, vc vai chegar lá! Mas agora o importante eh apoiar Lula pra evitar golpe do bosta',\n",
              " '@antonionetopdt @simonetebetbr @cirogomes Vc devia era pedir desculpas p o Lula, isto sim. Em 22 dias a campanha acaba, vc não sera eleito, o PT estará com a maior bancada da Camara e disputando o 2o turno p presidente e p governador do estado. E vc e o minusculo PDT de SP fazendo esta NOJEIRA. O PDT do Rio ja ta c Lula https://t.co/rWhIPUgPtz',\n",
              " '@simonetebetbr Orçamento secreto que Bolsonaro vetou e vocês derrubaram o veto, né colega 🙄',\n",
              " '@simonetebetbr Mano do céu, que candidata chata do caraleo... Vai carpir uma horta',\n",
              " '@simonetebetbr Brasil em deflaçao por dois meses seguidos e a candidata nessa cantilena de conquistar eleitores pelo estômago.Onde achou esses marqueteiros tão desconectados da realidade senadora?',\n",
              " 'Sentindo-me como a Simone Tebet comemorando meu crescimento no tiktok!Menos de 2 meses colocando conteúdo e já conseguindo alcançar algumas pessoas que não consumiam meu conteúdo no insta. Muito satisfatório! https://t.co/QNpQ1epaIi',\n",
              " '@gabriel_dd16 @erkingslayer @Rolandinho @cirogomes Curioso mesmo é vcs acharem que Ciro tem alguma chance mesmo empatado tecnicamente com a Simone Tebet',\n",
              " '@simonetebetbr Cortaram a verba secreta da sua vice ?',\n",
              " '@VEJA E depois o povo paga. Assim como pagou o 7 de setembro p ter comício. Chega disso, voto em @simonetebetbr',\n",
              " '@antonionetopdt @simonetebetbr @cirogomes E choraram as pitangas juntos.',\n",
              " '@simonetebetbr Já tá de braços dados com o Ex-presidiario ? Aliás você não passa de uma fraude, seu próprio partido não a apoia !',\n",
              " 'Voto @simonetebetbr, voto @cirogomes, voto @fdavilaoficial...Vou votar em qualquer um que tenha chance de barrar Lula ou Bolsonaro https://t.co/wnpzxml4e2',\n",
              " '@marciatiburi @cirogomes Penso que nesse momento melhor seria convencer à @simonetebetbr e o @MDB_Nacional à defender à democracia e se juntar a Lula para vencer o fascista. Ciro é movido pela arrogância e pelo ódio!',\n",
              " '@NelsonLDeFaria @simonetebetbr Esqueça kkkkkkQuem está ao lado de @renancalheiros @ottoalencar Não se espera nada diferente 🤮🤮🤮🤮🤮🤮🤮🤮🤮🤮🤮🤮🤮🤮',\n",
              " '@simonetebetbr Senadora nao nada a dizer quanto ao primeiro colocado nas pesquisas? Já está vergonhoso. Vai anunciar apoio à Lula já no primeiro turno ou vai aguardar o segundo. Que vergonha.',\n",
              " '@simonetebetbr Senadora Simone, a senhora só diz que mulher vota em mulher.Sou homem.Posso votar em mulher?',\n",
              " '@mariana_74 @simonetebetbr @elenalandau2 Melhor conferir as alegações da candidata, mas use fontes primárias. Aproveita e confere também as \"realizações\" de uma vida inteira, ocupando cargos públicos, na aba do pai. Ataca o Presidente por não ter argumentos e nada de bom para mostrar. Lamento o voto que dei a ela.',\n",
              " '@ghirottipv @RailGuirar @geraldoalckmin @LulaOficial @simonetebetbr Há há há Excelente!',\n",
              " '@simonetebetbr onde estava a senhora quando o PT usou a CPMF para custeio da saúde?',\n",
              " '@simonetebetbr Chora + sem noção Defensora de senadores agressores de mulheres🤮🤮🤮🤮🤮🤮🤮🤮Vc é do time do @renancalheiros @ottoalencar etc etc etc Inútil 🤮🤮🤮🤮🤮🤮 https://t.co/LmHX7CbfVT',\n",
              " '@tvglobo @simonetebetbr Globolixo sendo Globo lixo Lixo ainda é reciclável.E aí Simonizinha vai defender as mulheres lá nos bastidores vai? https://t.co/p56G08e2wX',\n",
              " 'Simone Tebet fala sobre construção de casas.#SimoneTebet15 para presidente! Confira o vídeo de ceciliaghiraldell7! #TikTok https://t.co/QwK9HADRbi',\n",
              " 'todo mundo subindo de vida e eu igual a simone tebet negativa https://t.co/vg0NucHauM',\n",
              " '@LucianaSV29 @simonetebetbr Concordo!',\n",
              " 'Pessoal que vai votar no Lula, faz um favor, vote na @simonetebetbr ela vai ganhar no 1o turno do bolsonaro. https://t.co/JDhxJUGQm7',\n",
              " '@simonetebetbr Deixe de ser chata senhora. Vai procurar o que fazer.',\n",
              " '@dbelemlopes @CECLynch O que achei mais curioso é o \"centro\" se identificar com Bolsonaro quase que na mesma medida que com Simone Tebet, e quase nada com Lula que é o real candidato de centro dessa história.',\n",
              " '@simonetebetbr Então abra uma igreja, porque a eleição fica no sonho.',\n",
              " 'Simone Tebet fala sobre a valorização do professor.#SimoneTebet15para presidente! Confira o vídeo de ceciliaghiraldell7! #TikTok https://t.co/8UShvrjj5Z',\n",
              " 'Vamos acabar com isso. Seu voto útil no @LulaOficial encerrará esse siclo de destruição. Ajudem o Brasil @simonetebetbr e @cirogomes https://t.co/WdCIt4eXHX',\n",
              " '@folha Nem Lulla e nem Bolsonaro. Simone Tebet presidente.',\n",
              " '@freire_roberto @Cariocajales @simonetebetbr Exatamente!!',\n",
              " '@simonetebetbr E você não respeitou as Doutoras na CPI do circo...',\n",
              " '@simonetebetbr Vc estava onde nessa época? https://t.co/0iNWemIKLo',\n",
              " '@gaIacticdreamer vi uma mutual chamando ela assim esses dias perdi os ladossimone tebet de mandalore então (não mudou nada',\n",
              " '@PSDBoficial @maragabrilli Tinha que ter aparecido mais na campanha. Nem Lulla e nem Bolsonaro. Simone Tebet presidente.',\n",
              " '@simonetebetbr Caraca, chata pacas com esse discurso hein? Apresentar ideias nada ne? Você é jornalista ou candidata? Se porte com uma candidata que pleitea o voto de um cidadão e não como uma adolescente no fechada no seu quarto escuro que escreve coisas porque não gosta do presidente.',\n",
              " 'Simone Tebet fala sobre Previdência#SimoneTebet15 para presidente! Confira o vídeo de ceciliaghiraldell7! #TikTok https://t.co/EFeJzXVOBJ',\n",
              " 'Vamos acabar com isso. Seu voto útil no @LulaOficial encerrará esse siclo de destruição. Ajudem o Brasil @simonetebetbr e @cirogomes https://t.co/UqyrWJHUll',\n",
              " '@simonetebetbr Deu 1,2 bilhões na pandemia pra estados, municípios e povo.A sra é a rainha das fake News.',\n",
              " 'Simone Tebet fala sobre Previdência#SimoneTebet15 para presidente! Confira o vídeo de ceciliaghiraldell7! #TikTok https://t.co/EFeJzXVgMb',\n",
              " '@simonetebetbr Tem vergonha não ? 2% ? Ou é pelo fundão eleitoral ?Só pode...',\n",
              " '@simonetebetbr Se esse tipo de texto cansa a mim que gosto da leitura, imagine como se sentem os que não gostam. Tente sair da bolha.',\n",
              " '@marcellocunhai1 @simonetebetbr E é. Trapaceira. Braço auxiliar do PT.',\n",
              " '@simonetebetbr Não , caro Alexandre! Está nas TUAS MÃOS ! Vote logo na SIMONE !',\n",
              " '@simonetebetbr Dados, dados, sem barro não dá pra fazer tijolo.Da onde voce tirou esses dados mostra pra gente titia estepe 🤡🤡🤡😅😅😅',\n",
              " '@simonetebetbr Já aprendeu a respeitar as mulheres que pensam diferente, candidata?',\n",
              " '@simonetebetbr Sua proposta de governo se resume a atacar o atual Presidente. Isso demonstra o quão inepta e incapaz você é. Continue assim, por favor. Está mantendo o povo bem informado de em quem não votar.',\n",
              " '@simonetebetbr Vc está olhando para a dignidadeTem comida para comprarMas vc pode ir para a Venezuela e não poder comer nadaAproveita 🤷🏻\\u200d♂️',\n",
              " 'Simone Tebet diz que se eleita fará leilões e parcerias para aumentar malha ferroviária | Eleições 2022 em São Paulo | G1 https://t.co/xtilxSuCEa',\n",
              " '@simonetebetbr Eles quem, senadora? Só um lado divide o Brasil, semeia ódio, discórdia e incentiva a eliminação (vamos extirpar os petistas) do outro. A senhora, como uma democrata, senadora com uma boa atuação no Senado, sabe disso. Não caia na vala comum de dizer que há uma \"escolha difícil\".',\n",
              " '@claudioedantas Alckmin não tem caráter de homem. Nem Lulla e nem Bolsonaro. Simone Tebet presidente.',\n",
              " '@simonetebetbr E a educação do País, lembro que na minha cidade as salas eram cheias, hoje tem salas fechadas pq nao tem alunos, o Brasil segue em retrocesso.',\n",
              " '@LulaOficial @RitaGuimaraes3 @ricardostuckert Oh hipocrisia, amor e coragem é com a @simonetebetbr',\n",
              " '@Plucior @freire_roberto @RaniereAlisson @cirogomes @simonetebetbr não, se o candidato perder não tem nada disso',\n",
              " '@simonetebetbr Quando uma pessoa como a senhora, que está acostumada a fazer suas críticas sem base na verdade expõe a sua visão, todos já partem do pressuposto que é mais uma narrativa, ou seja, mais mentiras…Fica a dica….',\n",
              " '@simonetebetbr Vai ser no primeiro turno porra!!! https://t.co/Roh13Un91V',\n",
              " '@opus_adriano @LulaOficial @simonetebetbr Ciclo pfv',\n",
              " '@simonetebetbr Vai defender as mulheres, step.',\n",
              " '@anabrasilmelhor @LulaOficial @SandraDurante4 @simonetebetbr SÓ O VOTO ÚTIL DERROTA O INÚTIL https://t.co/kvQ8qm5jyT',\n",
              " '@simonetebetbr Quem vai contra uma propaganda política onde a principal pessoa é uma mulher, com certeza odeia as mulheres. No seu caso, você é falsa e odeia as mulheres.',\n",
              " '@simonetebetbr Já arrumou a casa?Não.Então circulando. https://t.co/kdqSCS6k2X',\n",
              " '@simonetebetbr Políticos de estratégias vencidas, sem noção, bem fracos. Abaixo da mediocridade. Pensam que pra vencer um adversário precisam ficar toda criando narrativas. Criem vergonha nessa cara. Bando de gentinha. Sua tendência é cair, pode anotar.',\n",
              " 'Vamos acabar com isso. Seu voto útil no @LulaOficial encerrará esse siclo de destruição. Ajude o Brasil @simonetebetbr e @cirogomes https://t.co/YfYhz5DB0C',\n",
              " '@simonetebetbr Chora que choro é livre !',\n",
              " '@simonetebetbr E eu vou novamente fingir que acredito.',\n",
              " 'Gente, como que a Simone Tebet chegou a 5%? Quem deixou?',\n",
              " '@simonetebetbr 1rimeiro 3urno',\n",
              " 'Vamos acabar com isso. Seu voto útil no @LulaOficial encerrará esse siclo de destruição. Ajudem o Brasil @simonetebetbr e @cirogomes https://t.co/RByAownzMf',\n",
              " '@simonetebetbr Esse papo de sempre.Sossega gorduchinha.🤣🤣🤣🤣',\n",
              " 'A partir desta terça-feira (13), Ratinho passará a entrevistar os candidatos à Presidência da República.Foram convidados: Jair Bolsonaro (PL), Luis Inácio Lula da Silva (PT), Ciro Gomes (PDT) e Simone Tebet (MDB). https://t.co/fNQgnrDAdW',\n",
              " 'Vamos acabar com isso. Seu voto útil no @LulaOficial encerrará esse siclo de destruição. Ajudem o Brasil @simonetebetbr e @cirogomes . https://t.co/bBYz80Ldkt',\n",
              " '@cirogomes Não culpe o PT quando Simone Tebet ultrapassá-lo nas pesquisas. Seu rancor é o seu maior inimigo.',\n",
              " 'gege chocada pq eu falei que a Simone tebet já foi prefeita da minha cidade',\n",
              " 'Vamos acabar com isso. Seu voto útil no @LulaOficial encerrará esse siclo de destruição. Ajudem o Brasil @simonetebetbr e @cirogomes https://t.co/CIZtDjrEcT',\n",
              " '@simonetebetbr Você votou com o desgoverno o tempo todo. Sua chance é agora.Não prolongue a agonia do imbecil criminoso.1rimeiro 3urno',\n",
              " 'Simone Tebet diz na campanha que a luta das mulheres é uma só. De quais mulheres você tá se referindo, querida?(não precisa responder)',\n",
              " '@simonetebetbr O orçamento q ele vetou e VC votou para derrubar o veto?',\n",
              " 'Simone Tebet e Soraya Thronicke, são contra o governo e porque votam com o governo, coerência zero.🐂🐂🐂🐂🐂',\n",
              " '@simonetebetbr Bom sábado com governo Bolsonaro 💚💛💚💛💚',\n",
              " '@simonetebetbr Nem parece que você sempre votou contra o povo',\n",
              " '@monicabergamo Coroné vai ficar atrás até da Simone Tebet e quer ganhar do Lula...óia!',\n",
              " 'Mudanças:D. Estadual: dúvida entre @Amandavettorazz e @GersonSPires D.Federal: @hoc111 (tbm gosto de @KimKataguiri e @CrBeraldo )Senador: @EdsonAparecido Gov: @rodrigogarcia_ Presidente:@simonetebetbr https://t.co/76ITkpXZg2',\n",
              " 'BOLSONARO 41,8% CIRO-7,7%SIMONE TEBET-5,4%SORAYA-O,7%.BOLSONARO ELEITO NO PRIMEIRO TURNO.AVANTE BRASIL COM BOLSONARO PRESIDENTE.',\n",
              " 'Vamos acabar com isso. Seu voto útil no @LulaOficial encerrará esse siclo de destruição. Ajude o Brasil @simonetebetbr @cirogomes https://t.co/nHoF3jJJFK',\n",
              " '@simonetebetbr Vai tentando descredibizar o governo. Você não tem capacidade nem pra defender mulher na cpi.',\n",
              " '@simonetebetbr Simone Tebet seria uma excelente opção para o Brasil, mas nesse momento a polarização não a deixará avançar, por isso, precisamos liquidar a eleição no primeiro turno contra o fascista que está no poder, porque se ele for para o segundo turno, o Brasil se tornara um inferno.',\n",
              " 'Vamos acabar com isso. Seu voto útil no @LulaOficial encerrará esse siclo de destruição. Ajude o Brasil @simonetebetbr . https://t.co/sBeUICV8EB',\n",
              " 'Vamos acabar com isso. Seu voto útil no @LulaOficial encerrará esse siclo de destruição. Ajude o Brasil @simonetebetbr . https://t.co/2JZzzzObzU',\n",
              " 'Vamos acabar com isso. Seu voto útil no @LulaOficial encerrará esse siclo de destruição. Ajude o Brasil @simonetebetbr . https://t.co/bW12PFLnMB',\n",
              " '@antonionetopdt @simonetebetbr @cirogomes Polarização: um lado mata e o outro está sendo morto 🤡🤡🤡🤡🤡🤡🤡🤡🤡',\n",
              " '@simonetebetbr Vamos acabar com isso. Seu voto útil no @LulaOficial encerrará esse siclo de destruição. Ajude o Brasil @simonetebetbr .',\n",
              " 'A @simonetebetbr tem feito movimentos interessantíssimos e muito assertivo o Ciro poderia observar o jogo da Tebet. Eu acredito que Tebet será a pessoa que vai iniciar marcar o vira voto se fizer isso ela sairá dessa eleição com honra .',\n",
              " '@simonetebetbr A esquerda não foicontra o orçamento secreto. BOLSONARO FOI. Quem investou a história do orçamento secreto?Nenhum funcionário Público, instituição, autarquia devem ter orçamentos, salários, ou qualquer outra redação ou rendimento secreto. Se é público tem que ser transparente!',\n",
              " '@simonetebetbr “Fica em casa, a economia a gente vê depois”, lembra?',\n",
              " '@mariana_74 @TomazTTS @simonetebetbr me explica melhor eu fiquei super confusa, ela e contra mas a vice usa, é secreto, mas esta no portal da transparência, então o problema não esta no orçamento e sim qm faz mau uso dele, então vc esta confirmando que o problema não e do presidente e sim dos deputados e senadores..',\n",
              " '@simonetebetbr Seu crescimento nas pesquisas é como cresce rabo de cavalo, dona! Se os institutos mesmo roubando te dão 5%, se não roubasse estaria com 0,5%...👑 Bolsonaro é nosso Rei.',\n",
              " '@simonetebetbr Demagogia barata, faz alguma coisa sua inútil.',\n",
              " '@simonetebetbr A senhora tem um caráter dúbio, foi a favor de fechar tudo na pandemia agora se diz preocupada com a inflação! Quem faz isso não é honesto!',\n",
              " '@simonetebetbr A sua luta não é ganhar as eleições é destruir Bolsonaro , não é? Saiba que o PIB com o governo do Bolsonaro é o Melhor do G7. Sabe o que significa uma economia melhor? Não é um grupo ou outro melhorar, se beneficiar, é uma nação! E de quem foi o maior corte na educação, saúde?',\n",
              " '@Murilorico @simonetebetbr Não tenha dúvida, que vai apoiar Lula.ela é da turma do Renan Calheiros e randolve',\n",
              " '@simonetebetbr Ninguém vê essa mulher falar mal do lula vcs não acham estranho?🤔',\n",
              " '@BlogdoNoblat Já era. Ciro se perdeu no caminho e vai ter menos voto do que a Simone Tebet.',\n",
              " 'Com Ciro em queda (Datafolha), e tecnicamente empatado c Simone Tebet (info tb revelada pela pesquisa Ipespe), a expectativa nas próximas pesquisas é saber se ela ultrapassa o ex- ministro:https://t.co/jtD5XgpBuJ',\n",
              " '@simonetebetbr Essa SENADORA e igual o RANDOLFE pois trabalham junto com a mídia podre para atacar o GOVERNO já q não pode chamar de corrupto',\n",
              " '@simonetebetbr O que é orçamento secreto?Poderia nos explicar, por favor?',\n",
              " 'Último Datafolha👇9/setembro* PAZ E AMOR - 45%- ÓDIO E CRIME - 34%- INVEJA E RESSENTIMENTO - 7%- SIMONE TEBET - 5%',\n",
              " 'Entre os eleitores de Ciro, 30% dizem que podem votar no Jair. Dos que votam na Simone Tebet, 41% preferem Lula, e 22%, JairA candidatura de Ciro, numericamente, presta serviço à extrema-direita',\n",
              " '@simonetebetbr Realmente corte para tudo para manter a máquina pública como as mordomias de partidos 😡😡😡VC e uma piada, hipócrita e oportunista',\n",
              " '@simonetebetbr Muda narrativa!! 😤',\n",
              " '@simonetebetbr Engraçado que vc só atacado o Bolsonaro, sabe pq??? Vc gosta da corrupção, do PT... e vai ficar ao lado dele caso tenha segundo turno, só pra ganhar uma sobrinha. O povo não é burro!!!',\n",
              " '@simonetebetbr Para de gerar fake news dona simone estepe.',\n",
              " '@simonetebetbr Simone, fique tranquila, os seus eleitores vão votar no Bolsonaro no 2o turno.',\n",
              " '@simonetebetbr Que vossa pessoa ajudou a aprovar e faz parte disso tudo aí.']"
            ]
          },
          "metadata": {},
          "execution_count": 4
        }
      ]
    },
    {
      "cell_type": "markdown",
      "source": [
        "Separating all comments positives, negatives and neutral, in respectively order"
      ],
      "metadata": {
        "id": "u6A0ORPAguB9"
      }
    },
    {
      "cell_type": "markdown",
      "source": [
        "# Split test-training"
      ],
      "metadata": {
        "id": "ftQotR24ofBv"
      }
    },
    {
      "cell_type": "code",
      "source": [
        "pos = []\n",
        "neg = []\n",
        "neu = []\n",
        "for sent in df.values.tolist():\n",
        "  if sent[0] == 'pos':\n",
        "    pos += [sent[2]]\n",
        "  elif sent[0] == 'neg':\n",
        "    neg += [sent[2]]\n",
        "  else:\n",
        "    neu += [sent[2]]\n",
        "\n",
        "xtrain_global = pos+neg+neu\n",
        "ytrain_global = ['pos']*len(pos)+['neg']*len(neg)+['neu']*len(neu)"
      ],
      "metadata": {
        "id": "FirY1UYZI247"
      },
      "execution_count": null,
      "outputs": []
    },
    {
      "cell_type": "code",
      "source": [
        "xtrain_global,ytrain_global"
      ],
      "metadata": {
        "id": "sXaOxtnu_tSk"
      },
      "execution_count": null,
      "outputs": []
    },
    {
      "cell_type": "markdown",
      "source": [
        "Separate tests, training and validation"
      ],
      "metadata": {
        "id": "KMtI_JEnhSBZ"
      }
    },
    {
      "cell_type": "code",
      "source": [
        "#Split data set in 80% for training and 20% for test\n",
        "xtrain, xtest, ytrain, ytest = train_test_split(xtrain_global, ytrain_global, test_size=0.20, random_state=42,shuffle=True)"
      ],
      "metadata": {
        "id": "V0xARkNMFFlw"
      },
      "execution_count": null,
      "outputs": []
    },
    {
      "cell_type": "code",
      "source": [
        "print('Dataset size: ',len(xtrain_global))\n",
        "print('Training size: ', len(xtrain))\n",
        "print('Test size: ', len(xtest))"
      ],
      "metadata": {
        "colab": {
          "base_uri": "https://localhost:8080/"
        },
        "id": "mb3oPm4vKZJo",
        "outputId": "a0430e9c-f88a-4655-8cff-9a33ad29b5b2"
      },
      "execution_count": null,
      "outputs": [
        {
          "output_type": "stream",
          "name": "stdout",
          "text": [
            "Dataset size:  800\n",
            "Training size:  640\n",
            "Test size:  160\n"
          ]
        }
      ]
    },
    {
      "cell_type": "markdown",
      "source": [
        "Convert the dataset in Sentence BERT"
      ],
      "metadata": {
        "id": "YvOWktRfhkOk"
      }
    },
    {
      "cell_type": "code",
      "source": [
        "model = SentenceTransformer('multi-qa-distilbert-cos-v1')"
      ],
      "metadata": {
        "id": "xQxIIXIbi2Wf"
      },
      "execution_count": null,
      "outputs": []
    },
    {
      "cell_type": "code",
      "source": [
        "xtrain_emb = model.encode(xtrain)\n",
        "xtest_emb = model.encode(xtest)"
      ],
      "metadata": {
        "id": "6R2ea8juKpgN"
      },
      "execution_count": null,
      "outputs": []
    },
    {
      "cell_type": "markdown",
      "source": [
        "# KNN - Cross Validation"
      ],
      "metadata": {
        "id": "2Em8MVjIooC2"
      }
    },
    {
      "cell_type": "markdown",
      "source": [
        "Training with KNN"
      ],
      "metadata": {
        "id": "PmqWvt9Ah8eQ"
      }
    },
    {
      "cell_type": "code",
      "source": [
        "knn = KNeighborsClassifier(n_neighbors=27)\n",
        "knn.fit(xtrain_emb,ytrain)"
      ],
      "metadata": {
        "colab": {
          "base_uri": "https://localhost:8080/"
        },
        "id": "dt5xBVnULPzs",
        "outputId": "9370abde-7d86-4203-d4e3-477b9945db58"
      },
      "execution_count": null,
      "outputs": [
        {
          "output_type": "execute_result",
          "data": {
            "text/plain": [
              "KNeighborsClassifier(n_neighbors=27)"
            ]
          },
          "metadata": {},
          "execution_count": 77
        }
      ]
    },
    {
      "cell_type": "markdown",
      "source": [
        "Find better K for KNN"
      ],
      "metadata": {
        "id": "o2CmKf-vnK_W"
      }
    },
    {
      "cell_type": "code",
      "source": [
        "from sklearn.model_selection import GridSearchCV\n",
        "#create new a knn model\n",
        "knn2 = KNeighborsClassifier()\n",
        "#create a dictionary of all values we want to test for n_neighbors\n",
        "param_grid = {'n_neighbors': np.arange(1, 80)}\n",
        "#use gridsearch to test all values for n_neighbors\n",
        "knn_gscv = GridSearchCV(knn2, param_grid, cv=5)\n",
        "#fit model to data\n",
        "knn_gscv.fit(xtrain_emb,ytrain)\n",
        "#check top performing n_neighbors value\n",
        "knn_gscv.best_params_"
      ],
      "metadata": {
        "colab": {
          "base_uri": "https://localhost:8080/"
        },
        "id": "DBsJ4x8Pl1r3",
        "outputId": "d8b402c4-ea4c-499f-eb0c-dd9d50ee4ea8"
      },
      "execution_count": null,
      "outputs": [
        {
          "output_type": "execute_result",
          "data": {
            "text/plain": [
              "{'n_neighbors': 27}"
            ]
          },
          "metadata": {},
          "execution_count": 80
        }
      ]
    },
    {
      "cell_type": "code",
      "source": [
        "cv_scores = cross_val_score(knn, xtrain_emb, ytrain, cv=5)"
      ],
      "metadata": {
        "id": "GFC2aZ7AY3VY"
      },
      "execution_count": null,
      "outputs": []
    },
    {
      "cell_type": "markdown",
      "source": [
        "Generating data info(Confusion Matrix, Classification Report and Accuracy)"
      ],
      "metadata": {
        "id": "lguxkDU5iMln"
      }
    },
    {
      "cell_type": "code",
      "source": [
        "pred = knn.predict(xtest_emb)\n",
        "print('Confusion Matrix: ')\n",
        "print(confusion_matrix(ytest, pred))\n",
        "print('')\n",
        "print('Classification report: ')\n",
        "print(classification_report(ytest,pred))\n",
        "print('Accuracy: ', (accuracy_score(ytest, pred))*100,'%')"
      ],
      "metadata": {
        "id": "slwuqz9lLvA_",
        "colab": {
          "base_uri": "https://localhost:8080/"
        },
        "outputId": "4684a73c-5789-4f0b-89b8-5faff6bc9d34"
      },
      "execution_count": null,
      "outputs": [
        {
          "output_type": "stream",
          "name": "stdout",
          "text": [
            "Confusion Matrix: \n",
            "[[ 3 22  7]\n",
            " [ 1 69  9]\n",
            " [ 2 16 31]]\n",
            "\n",
            "Classification report: \n",
            "              precision    recall  f1-score   support\n",
            "\n",
            "         neg       0.50      0.09      0.16        32\n",
            "         neu       0.64      0.87      0.74        79\n",
            "         pos       0.66      0.63      0.65        49\n",
            "\n",
            "    accuracy                           0.64       160\n",
            "   macro avg       0.60      0.53      0.52       160\n",
            "weighted avg       0.62      0.64      0.60       160\n",
            "\n",
            "Accuracy:  64.375 %\n"
          ]
        }
      ]
    },
    {
      "cell_type": "markdown",
      "source": [
        "# Final model"
      ],
      "metadata": {
        "id": "K5GeEh0_wljb"
      }
    },
    {
      "cell_type": "code",
      "source": [
        "dump(knn, 'candidatos.joblib')"
      ],
      "metadata": {
        "colab": {
          "base_uri": "https://localhost:8080/"
        },
        "id": "X16IB4d6wv5c",
        "outputId": "f5fd1b55-12ac-4229-8276-3708d17cfabd"
      },
      "execution_count": null,
      "outputs": [
        {
          "output_type": "execute_result",
          "data": {
            "text/plain": [
              "['candidatos.joblib']"
            ]
          },
          "metadata": {},
          "execution_count": 90
        }
      ]
    },
    {
      "cell_type": "code",
      "source": [
        "final_model = load('candidatos.joblib')"
      ],
      "metadata": {
        "id": "922pdFHhw1jj"
      },
      "execution_count": null,
      "outputs": []
    },
    {
      "cell_type": "code",
      "source": [
        "final_model.predict([model.encode('bolsonazi')])[0]"
      ],
      "metadata": {
        "colab": {
          "base_uri": "https://localhost:8080/",
          "height": 35
        },
        "id": "apMKsPTW9arr",
        "outputId": "a62c9858-9096-42bc-aebd-c80ba5a3684e"
      },
      "execution_count": null,
      "outputs": [
        {
          "output_type": "execute_result",
          "data": {
            "text/plain": [
              "'neg'"
            ],
            "application/vnd.google.colaboratory.intrinsic+json": {
              "type": "string"
            }
          },
          "metadata": {},
          "execution_count": 92
        }
      ]
    },
    {
      "cell_type": "markdown",
      "source": [
        "# Scanning Twitter\n",
        "Using snscrape API, I collect some tweets about the 4 Brazilians president candidates and store it in different arrays"
      ],
      "metadata": {
        "id": "-NyKo4nj0LBz"
      }
    },
    {
      "cell_type": "code",
      "source": [
        "from collections import OrderedDict\n",
        "import snscrape.modules.twitter as sns\n",
        "\n",
        "#Scanning_Twitter()\n",
        "\n",
        "def Scanning_Twitter():\n",
        "  query_bolsonaro = \"(bolsonaro OR bolsonazi OR bolsomito OR bolsonabo OR broxonaro OR bolsolixo) lang:pt\"\n",
        "  query_lula = \"(lula OR luiz inacio OR luladrao OR lulindo) lang:pt\"\n",
        "  query_ciro = \"(ciro OR ciro gomes OR cirao OR cirao da massa) lang:pt\"\n",
        "  query_simone = \"(simone tebet OR tebet) lang:pt\"\n",
        "\n",
        "  max_size = 200 #max size of each query\n",
        "\n",
        "  content_bolsonaro = []\n",
        "  content_lula      = []\n",
        "  content_ciro      = []\n",
        "  content_simone    = []\n",
        "\n",
        "  #final_model.predict([model.encode(tweet.content)])\n",
        "  #query bolsonaro\n",
        "  for tweet in sns.TwitterSearchScraper(query_bolsonaro).get_items():\n",
        "      content_bolsonaro.append([final_model.predict(model.encode([tweet.content]))[0], tweet.date, tweet.content])\n",
        "      if len(content_bolsonaro) > max_size:\n",
        "          break\n",
        "      \n",
        "\n",
        "  #query lula\n",
        "  for tweet in sns.TwitterSearchScraper(query_lula).get_items():\n",
        "      content_lula.append([final_model.predict(model.encode([tweet.content]))[0], tweet.date, tweet.content])\n",
        "      if len(content_lula) > max_size:\n",
        "          break\n",
        "\n",
        "  #query ciro\n",
        "  for tweet in sns.TwitterSearchScraper(query_ciro).get_items():\n",
        "      content_ciro.append([final_model.predict(model.encode([tweet.content]))[0], tweet.date, tweet.content])\n",
        "      if len(content_ciro) > max_size:\n",
        "          break\n",
        "\n",
        "  #query simone\n",
        "  for tweet in sns.TwitterSearchScraper(query_simone).get_items():\n",
        "      content_simone.append([final_model.predict(model.encode([tweet.content]))[0], tweet.date, tweet.content])\n",
        "      if len(content_simone) > max_size:\n",
        "          break\n",
        "  return content_bolsonaro, content_lula, content_ciro, content_simone"
      ],
      "metadata": {
        "id": "RRgEzE_K0QyH"
      },
      "execution_count": null,
      "outputs": []
    },
    {
      "cell_type": "code",
      "source": [
        "#content_bolsonaro"
      ],
      "metadata": {
        "id": "tNJrBdwuIDlN"
      },
      "execution_count": null,
      "outputs": []
    },
    {
      "cell_type": "markdown",
      "source": [
        "Count pos, neg, neu for each candidate"
      ],
      "metadata": {
        "id": "qu6qg2clpD-s"
      }
    },
    {
      "cell_type": "code",
      "source": [
        "def Count_Tweet(content_bolsonaro, content_lula, content_ciro, content_simone):\n",
        "  #[nº positive, nº negative, nº neutral]\n",
        "  val_bolsonaro = [0, 0, 0]\n",
        "  val_lula = [0, 0, 0]\n",
        "  val_simone = [0, 0, 0]\n",
        "  val_ciro = [0, 0, 0]\n",
        "\n",
        "  #count pos and neg from Jair Bolsonaro\n",
        "  for content in content_bolsonaro:\n",
        "    if content[0] == 'pos':\n",
        "      val_bolsonaro[0] += 1\n",
        "    elif content[0] == 'neg':\n",
        "      val_bolsonaro[1] += 1\n",
        "    else: #neu\n",
        "      val_bolsonaro[2] += 1\n",
        "\n",
        "  #count pos and neg from Lula\n",
        "  for content in content_lula:\n",
        "    if content[0] == 'pos':\n",
        "      val_lula[0] += 1\n",
        "    elif content[0] == 'neg':\n",
        "      val_lula[1] += 1\n",
        "    else: #neu\n",
        "      val_lula[2] += 1\n",
        "\n",
        "  #count pos and neg from Ciro Gomes\n",
        "  for content in content_ciro:\n",
        "    if content[0] == 'pos':\n",
        "      val_ciro[0] += 1\n",
        "    elif content[0] == 'neg':\n",
        "      val_ciro[1] += 1\n",
        "    else: #neu\n",
        "      val_ciro[2] += 1\n",
        "\n",
        "  #count pos and neg from Simone Tebet\n",
        "  for content in content_simone:\n",
        "    if content[0] == 'pos':\n",
        "      val_simone[0] += 1\n",
        "    elif content[0] == 'neg':\n",
        "      val_simone[1] += 1\n",
        "    else: #neu\n",
        "      val_simone[2] += 1\n",
        "  return val_bolsonaro, val_lula, val_ciro, val_simone"
      ],
      "metadata": {
        "id": "f0htIy-q5vEu"
      },
      "execution_count": null,
      "outputs": []
    },
    {
      "cell_type": "markdown",
      "source": [
        "#Building chart\n",
        "After I collect the values of Twitter comments, then built a chart with total of comments and their classification about each candidate"
      ],
      "metadata": {
        "id": "vpFSRs87jzUr"
      }
    },
    {
      "cell_type": "code",
      "source": [
        "def Build_Chart(pos, neg, neu):\n",
        "  # set width of bar\n",
        "  barWidth = 0.25\n",
        "  fig = plt.subplots(figsize =(12, 8))\n",
        "  \n",
        "  # Set position of bar on X axis\n",
        "  br1 = np.arange(len(pos))\n",
        "  br2 = [x + barWidth for x in br1]\n",
        "  br3 = [x + barWidth for x in br2]\n",
        "  \n",
        "  # Make the plot\n",
        "  plt.bar(br1, pos, color ='g', width = barWidth,\n",
        "          edgecolor ='grey', label ='Positivo')\n",
        "  plt.bar(br2, neg, color ='r', width = barWidth,\n",
        "          edgecolor ='grey', label ='Negativo')\n",
        "  plt.bar(br3, neu, color ='gray', width = barWidth,\n",
        "          edgecolor ='grey', label ='Neutro')\n",
        "  \n",
        "  # Adding Xticks\n",
        "  plt.xlabel('Candidatos à Presidência', fontweight ='bold', fontsize = 15)\n",
        "  plt.ylabel('Nº de comentários', fontweight ='bold', fontsize = 15)\n",
        "  plt.xticks([r + barWidth for r in range(len(pos))],\n",
        "          ['Bolsonaro', 'Lula', 'Ciro Gomes', 'Simone Tebet'])\n",
        "  plt.title('Reputação dos candidatos à Presidência no Twitter', fontweight ='bold', fontsize = 20)\n",
        "  plt.grid()\n",
        "    \n",
        "  plt.legend()\n",
        "  plt.show()"
      ],
      "metadata": {
        "id": "dvde3v-U2EiV"
      },
      "execution_count": null,
      "outputs": []
    },
    {
      "cell_type": "markdown",
      "source": [
        "# Run application within n seconds"
      ],
      "metadata": {
        "id": "O17d6Kv51y8n"
      }
    },
    {
      "cell_type": "code",
      "source": [
        "import time\n",
        "from time import gmtime, strftime\n",
        "\n",
        "while True: #loop\n",
        "  print(strftime('%a, %d %b %Y %H:%M:%S', gmtime())) #show time info\n",
        "  ctc_bolsonaro, ctc_lula, ctc_ciro, ctc_simone = Scanning_Twitter() #scanning comments on Twitter\n",
        "  vl_bolsonaro, vl_lula, vl_ciro, vl_simone = Count_Tweet(ctc_bolsonaro, ctc_lula, ctc_ciro, ctc_simone) #split pos, neg and neu for each candidate\n",
        "  Build_Chart([vl_bolsonaro[0], vl_lula[0], vl_ciro[0], vl_simone[0]], #sum of pos of all candidates\n",
        "              [vl_bolsonaro[1], vl_lula[1], vl_ciro[1], vl_simone[1]], #sum of neg of all candidates\n",
        "              [vl_bolsonaro[2], vl_lula[2], vl_ciro[2], vl_simone[2]]) #sum of neu of all candidates\n",
        "  #building the chart\n",
        "  time.sleep(15*60) #wait for the next 15 min"
      ],
      "metadata": {
        "colab": {
          "base_uri": "https://localhost:8080/",
          "height": 724
        },
        "id": "-9OPCRIioIvp",
        "outputId": "bdd0b71b-0cfa-4dc5-a74e-669f65b50308"
      },
      "execution_count": null,
      "outputs": [
        {
          "output_type": "stream",
          "name": "stdout",
          "text": [
            "Mon, 03 Oct 2022 02:19:19\n"
          ]
        },
        {
          "output_type": "display_data",
          "data": {
            "text/plain": [
              "<Figure size 864x576 with 1 Axes>"
            ],
            "image/png": "[encoded data removed]"
          },
          "metadata": {
            "needs_background": "light"
          }
        },
        {
          "output_type": "error",
          "ename": "KeyboardInterrupt",
          "evalue": "ignored",
          "traceback": [
            "\u001b[0;31m---------------------------------------------------------------------------\u001b[0m",
            "\u001b[0;31mKeyboardInterrupt\u001b[0m                         Traceback (most recent call last)",
            "\u001b[0;32m<ipython-input-96-ac527caa126a>\u001b[0m in \u001b[0;36m<module>\u001b[0;34m\u001b[0m\n\u001b[1;32m     10\u001b[0m               [vl_bolsonaro[2], vl_lula[2], vl_ciro[2], vl_simone[2]]) #sum of neu of all candidates\n\u001b[1;32m     11\u001b[0m   \u001b[0;31m#building the chart\u001b[0m\u001b[0;34m\u001b[0m\u001b[0;34m\u001b[0m\u001b[0;34m\u001b[0m\u001b[0m\n\u001b[0;32m---> 12\u001b[0;31m   \u001b[0mtime\u001b[0m\u001b[0;34m.\u001b[0m\u001b[0msleep\u001b[0m\u001b[0;34m(\u001b[0m\u001b[0;36m15\u001b[0m\u001b[0;34m*\u001b[0m\u001b[0;36m60\u001b[0m\u001b[0;34m)\u001b[0m \u001b[0;31m#wait for the next 15 min\u001b[0m\u001b[0;34m\u001b[0m\u001b[0;34m\u001b[0m\u001b[0m\n\u001b[0m",
            "\u001b[0;31mKeyboardInterrupt\u001b[0m: "
          ]
        }
      ]
    }
  ]
}